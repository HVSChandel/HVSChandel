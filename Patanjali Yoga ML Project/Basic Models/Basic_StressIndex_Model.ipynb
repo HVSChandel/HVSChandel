{
  "cells": [
    {
      "cell_type": "markdown",
      "metadata": {
        "id": "DMDzmWK2Hb9O"
      },
      "source": [
        "##Importing the Libraries"
      ]
    },
    {
      "cell_type": "code",
      "execution_count": 1,
      "metadata": {
        "id": "-ua5X0FTdA1o"
      },
      "outputs": [],
      "source": [
        "import pandas as pd\n",
        "import numpy as np\n",
        "from sklearn.model_selection import train_test_split, GridSearchCV\n",
        "from sklearn.preprocessing import StandardScaler\n",
        "from sklearn.linear_model import LogisticRegression\n",
        "from sklearn.neighbors import KNeighborsClassifier\n",
        "from sklearn.svm import SVC\n",
        "from sklearn.tree import DecisionTreeClassifier\n",
        "from sklearn.ensemble import RandomForestClassifier\n",
        "from sklearn.naive_bayes import GaussianNB\n",
        "from sklearn.metrics import accuracy_score, precision_score, recall_score, f1_score, classification_report"
      ]
    },
    {
      "cell_type": "markdown",
      "metadata": {
        "id": "kNl8KRIsHfoY"
      },
      "source": [
        "##Importing the Dataset"
      ]
    },
    {
      "cell_type": "code",
      "execution_count": 2,
      "metadata": {
        "id": "65Z333_kpyqN"
      },
      "outputs": [],
      "source": [
        "df = pd.read_csv('/content/final_data_STI.csv')\n",
        "df.drop('ID', axis=1 , inplace=True)"
      ]
    },
    {
      "cell_type": "code",
      "source": [
        "df.head()"
      ],
      "metadata": {
        "colab": {
          "base_uri": "https://localhost:8080/",
          "height": 206
        },
        "id": "rYNQSQLcCQBM",
        "outputId": "f4bc8f85-fbea-46d7-bf9b-98d1cf4b1271"
      },
      "execution_count": 3,
      "outputs": [
        {
          "output_type": "execute_result",
          "data": {
            "text/plain": [
              "   Gender  Age Alchohol Smoking Non-Veg Exercise         Medication   BMI  \\\n",
              "0    Male   37       No      No      No       No                 No  24.1   \n",
              "1    Male   47       No      No      No      Yes  Yes(Anxiety/B.P.)  22.8   \n",
              "2  Female   47       No      No      No       No       Yes(Thyroid)  28.0   \n",
              "3  Female   35       No      No      No       No                 No  27.4   \n",
              "4  Female   33       No      No      No       No                 No  22.6   \n",
              "\n",
              "   sti_best  \n",
              "0         2  \n",
              "1         2  \n",
              "2         2  \n",
              "3         2  \n",
              "4         3  "
            ],
            "text/html": [
              "\n",
              "  <div id=\"df-eaccf19a-3986-417e-ac04-dd5d0498d202\" class=\"colab-df-container\">\n",
              "    <div>\n",
              "<style scoped>\n",
              "    .dataframe tbody tr th:only-of-type {\n",
              "        vertical-align: middle;\n",
              "    }\n",
              "\n",
              "    .dataframe tbody tr th {\n",
              "        vertical-align: top;\n",
              "    }\n",
              "\n",
              "    .dataframe thead th {\n",
              "        text-align: right;\n",
              "    }\n",
              "</style>\n",
              "<table border=\"1\" class=\"dataframe\">\n",
              "  <thead>\n",
              "    <tr style=\"text-align: right;\">\n",
              "      <th></th>\n",
              "      <th>Gender</th>\n",
              "      <th>Age</th>\n",
              "      <th>Alchohol</th>\n",
              "      <th>Smoking</th>\n",
              "      <th>Non-Veg</th>\n",
              "      <th>Exercise</th>\n",
              "      <th>Medication</th>\n",
              "      <th>BMI</th>\n",
              "      <th>sti_best</th>\n",
              "    </tr>\n",
              "  </thead>\n",
              "  <tbody>\n",
              "    <tr>\n",
              "      <th>0</th>\n",
              "      <td>Male</td>\n",
              "      <td>37</td>\n",
              "      <td>No</td>\n",
              "      <td>No</td>\n",
              "      <td>No</td>\n",
              "      <td>No</td>\n",
              "      <td>No</td>\n",
              "      <td>24.1</td>\n",
              "      <td>2</td>\n",
              "    </tr>\n",
              "    <tr>\n",
              "      <th>1</th>\n",
              "      <td>Male</td>\n",
              "      <td>47</td>\n",
              "      <td>No</td>\n",
              "      <td>No</td>\n",
              "      <td>No</td>\n",
              "      <td>Yes</td>\n",
              "      <td>Yes(Anxiety/B.P.)</td>\n",
              "      <td>22.8</td>\n",
              "      <td>2</td>\n",
              "    </tr>\n",
              "    <tr>\n",
              "      <th>2</th>\n",
              "      <td>Female</td>\n",
              "      <td>47</td>\n",
              "      <td>No</td>\n",
              "      <td>No</td>\n",
              "      <td>No</td>\n",
              "      <td>No</td>\n",
              "      <td>Yes(Thyroid)</td>\n",
              "      <td>28.0</td>\n",
              "      <td>2</td>\n",
              "    </tr>\n",
              "    <tr>\n",
              "      <th>3</th>\n",
              "      <td>Female</td>\n",
              "      <td>35</td>\n",
              "      <td>No</td>\n",
              "      <td>No</td>\n",
              "      <td>No</td>\n",
              "      <td>No</td>\n",
              "      <td>No</td>\n",
              "      <td>27.4</td>\n",
              "      <td>2</td>\n",
              "    </tr>\n",
              "    <tr>\n",
              "      <th>4</th>\n",
              "      <td>Female</td>\n",
              "      <td>33</td>\n",
              "      <td>No</td>\n",
              "      <td>No</td>\n",
              "      <td>No</td>\n",
              "      <td>No</td>\n",
              "      <td>No</td>\n",
              "      <td>22.6</td>\n",
              "      <td>3</td>\n",
              "    </tr>\n",
              "  </tbody>\n",
              "</table>\n",
              "</div>\n",
              "    <div class=\"colab-df-buttons\">\n",
              "\n",
              "  <div class=\"colab-df-container\">\n",
              "    <button class=\"colab-df-convert\" onclick=\"convertToInteractive('df-eaccf19a-3986-417e-ac04-dd5d0498d202')\"\n",
              "            title=\"Convert this dataframe to an interactive table.\"\n",
              "            style=\"display:none;\">\n",
              "\n",
              "  <svg xmlns=\"http://www.w3.org/2000/svg\" height=\"24px\" viewBox=\"0 -960 960 960\">\n",
              "    <path d=\"M120-120v-720h720v720H120Zm60-500h600v-160H180v160Zm220 220h160v-160H400v160Zm0 220h160v-160H400v160ZM180-400h160v-160H180v160Zm440 0h160v-160H620v160ZM180-180h160v-160H180v160Zm440 0h160v-160H620v160Z\"/>\n",
              "  </svg>\n",
              "    </button>\n",
              "\n",
              "  <style>\n",
              "    .colab-df-container {\n",
              "      display:flex;\n",
              "      gap: 12px;\n",
              "    }\n",
              "\n",
              "    .colab-df-convert {\n",
              "      background-color: #E8F0FE;\n",
              "      border: none;\n",
              "      border-radius: 50%;\n",
              "      cursor: pointer;\n",
              "      display: none;\n",
              "      fill: #1967D2;\n",
              "      height: 32px;\n",
              "      padding: 0 0 0 0;\n",
              "      width: 32px;\n",
              "    }\n",
              "\n",
              "    .colab-df-convert:hover {\n",
              "      background-color: #E2EBFA;\n",
              "      box-shadow: 0px 1px 2px rgba(60, 64, 67, 0.3), 0px 1px 3px 1px rgba(60, 64, 67, 0.15);\n",
              "      fill: #174EA6;\n",
              "    }\n",
              "\n",
              "    .colab-df-buttons div {\n",
              "      margin-bottom: 4px;\n",
              "    }\n",
              "\n",
              "    [theme=dark] .colab-df-convert {\n",
              "      background-color: #3B4455;\n",
              "      fill: #D2E3FC;\n",
              "    }\n",
              "\n",
              "    [theme=dark] .colab-df-convert:hover {\n",
              "      background-color: #434B5C;\n",
              "      box-shadow: 0px 1px 3px 1px rgba(0, 0, 0, 0.15);\n",
              "      filter: drop-shadow(0px 1px 2px rgba(0, 0, 0, 0.3));\n",
              "      fill: #FFFFFF;\n",
              "    }\n",
              "  </style>\n",
              "\n",
              "    <script>\n",
              "      const buttonEl =\n",
              "        document.querySelector('#df-eaccf19a-3986-417e-ac04-dd5d0498d202 button.colab-df-convert');\n",
              "      buttonEl.style.display =\n",
              "        google.colab.kernel.accessAllowed ? 'block' : 'none';\n",
              "\n",
              "      async function convertToInteractive(key) {\n",
              "        const element = document.querySelector('#df-eaccf19a-3986-417e-ac04-dd5d0498d202');\n",
              "        const dataTable =\n",
              "          await google.colab.kernel.invokeFunction('convertToInteractive',\n",
              "                                                    [key], {});\n",
              "        if (!dataTable) return;\n",
              "\n",
              "        const docLinkHtml = 'Like what you see? Visit the ' +\n",
              "          '<a target=\"_blank\" href=https://colab.research.google.com/notebooks/data_table.ipynb>data table notebook</a>'\n",
              "          + ' to learn more about interactive tables.';\n",
              "        element.innerHTML = '';\n",
              "        dataTable['output_type'] = 'display_data';\n",
              "        await google.colab.output.renderOutput(dataTable, element);\n",
              "        const docLink = document.createElement('div');\n",
              "        docLink.innerHTML = docLinkHtml;\n",
              "        element.appendChild(docLink);\n",
              "      }\n",
              "    </script>\n",
              "  </div>\n",
              "\n",
              "\n",
              "<div id=\"df-ecc65183-278e-431b-9580-9730a07312cb\">\n",
              "  <button class=\"colab-df-quickchart\" onclick=\"quickchart('df-ecc65183-278e-431b-9580-9730a07312cb')\"\n",
              "            title=\"Suggest charts.\"\n",
              "            style=\"display:none;\">\n",
              "\n",
              "<svg xmlns=\"http://www.w3.org/2000/svg\" height=\"24px\"viewBox=\"0 0 24 24\"\n",
              "     width=\"24px\">\n",
              "    <g>\n",
              "        <path d=\"M19 3H5c-1.1 0-2 .9-2 2v14c0 1.1.9 2 2 2h14c1.1 0 2-.9 2-2V5c0-1.1-.9-2-2-2zM9 17H7v-7h2v7zm4 0h-2V7h2v10zm4 0h-2v-4h2v4z\"/>\n",
              "    </g>\n",
              "</svg>\n",
              "  </button>\n",
              "\n",
              "<style>\n",
              "  .colab-df-quickchart {\n",
              "      --bg-color: #E8F0FE;\n",
              "      --fill-color: #1967D2;\n",
              "      --hover-bg-color: #E2EBFA;\n",
              "      --hover-fill-color: #174EA6;\n",
              "      --disabled-fill-color: #AAA;\n",
              "      --disabled-bg-color: #DDD;\n",
              "  }\n",
              "\n",
              "  [theme=dark] .colab-df-quickchart {\n",
              "      --bg-color: #3B4455;\n",
              "      --fill-color: #D2E3FC;\n",
              "      --hover-bg-color: #434B5C;\n",
              "      --hover-fill-color: #FFFFFF;\n",
              "      --disabled-bg-color: #3B4455;\n",
              "      --disabled-fill-color: #666;\n",
              "  }\n",
              "\n",
              "  .colab-df-quickchart {\n",
              "    background-color: var(--bg-color);\n",
              "    border: none;\n",
              "    border-radius: 50%;\n",
              "    cursor: pointer;\n",
              "    display: none;\n",
              "    fill: var(--fill-color);\n",
              "    height: 32px;\n",
              "    padding: 0;\n",
              "    width: 32px;\n",
              "  }\n",
              "\n",
              "  .colab-df-quickchart:hover {\n",
              "    background-color: var(--hover-bg-color);\n",
              "    box-shadow: 0 1px 2px rgba(60, 64, 67, 0.3), 0 1px 3px 1px rgba(60, 64, 67, 0.15);\n",
              "    fill: var(--button-hover-fill-color);\n",
              "  }\n",
              "\n",
              "  .colab-df-quickchart-complete:disabled,\n",
              "  .colab-df-quickchart-complete:disabled:hover {\n",
              "    background-color: var(--disabled-bg-color);\n",
              "    fill: var(--disabled-fill-color);\n",
              "    box-shadow: none;\n",
              "  }\n",
              "\n",
              "  .colab-df-spinner {\n",
              "    border: 2px solid var(--fill-color);\n",
              "    border-color: transparent;\n",
              "    border-bottom-color: var(--fill-color);\n",
              "    animation:\n",
              "      spin 1s steps(1) infinite;\n",
              "  }\n",
              "\n",
              "  @keyframes spin {\n",
              "    0% {\n",
              "      border-color: transparent;\n",
              "      border-bottom-color: var(--fill-color);\n",
              "      border-left-color: var(--fill-color);\n",
              "    }\n",
              "    20% {\n",
              "      border-color: transparent;\n",
              "      border-left-color: var(--fill-color);\n",
              "      border-top-color: var(--fill-color);\n",
              "    }\n",
              "    30% {\n",
              "      border-color: transparent;\n",
              "      border-left-color: var(--fill-color);\n",
              "      border-top-color: var(--fill-color);\n",
              "      border-right-color: var(--fill-color);\n",
              "    }\n",
              "    40% {\n",
              "      border-color: transparent;\n",
              "      border-right-color: var(--fill-color);\n",
              "      border-top-color: var(--fill-color);\n",
              "    }\n",
              "    60% {\n",
              "      border-color: transparent;\n",
              "      border-right-color: var(--fill-color);\n",
              "    }\n",
              "    80% {\n",
              "      border-color: transparent;\n",
              "      border-right-color: var(--fill-color);\n",
              "      border-bottom-color: var(--fill-color);\n",
              "    }\n",
              "    90% {\n",
              "      border-color: transparent;\n",
              "      border-bottom-color: var(--fill-color);\n",
              "    }\n",
              "  }\n",
              "</style>\n",
              "\n",
              "  <script>\n",
              "    async function quickchart(key) {\n",
              "      const quickchartButtonEl =\n",
              "        document.querySelector('#' + key + ' button');\n",
              "      quickchartButtonEl.disabled = true;  // To prevent multiple clicks.\n",
              "      quickchartButtonEl.classList.add('colab-df-spinner');\n",
              "      try {\n",
              "        const charts = await google.colab.kernel.invokeFunction(\n",
              "            'suggestCharts', [key], {});\n",
              "      } catch (error) {\n",
              "        console.error('Error during call to suggestCharts:', error);\n",
              "      }\n",
              "      quickchartButtonEl.classList.remove('colab-df-spinner');\n",
              "      quickchartButtonEl.classList.add('colab-df-quickchart-complete');\n",
              "    }\n",
              "    (() => {\n",
              "      let quickchartButtonEl =\n",
              "        document.querySelector('#df-ecc65183-278e-431b-9580-9730a07312cb button');\n",
              "      quickchartButtonEl.style.display =\n",
              "        google.colab.kernel.accessAllowed ? 'block' : 'none';\n",
              "    })();\n",
              "  </script>\n",
              "</div>\n",
              "    </div>\n",
              "  </div>\n"
            ]
          },
          "metadata": {},
          "execution_count": 3
        }
      ]
    },
    {
      "cell_type": "code",
      "execution_count": 4,
      "metadata": {
        "id": "a8R9B6QxiYyv"
      },
      "outputs": [],
      "source": [
        "X = df.iloc[:, :-1]\n",
        "y = df.iloc[:, -1]\n",
        "\n",
        "from imblearn.over_sampling import RandomOverSampler\n",
        "ros = RandomOverSampler(sampling_strategy=\"not majority\")\n",
        "X_res, y_res = ros.fit_resample(X, y)"
      ]
    },
    {
      "cell_type": "code",
      "execution_count": 5,
      "metadata": {
        "colab": {
          "base_uri": "https://localhost:8080/"
        },
        "id": "ZwPjwrMfioha",
        "outputId": "f9b14d99-d199-4f9d-eda3-cafd19a7a5a6"
      },
      "outputs": [
        {
          "output_type": "execute_result",
          "data": {
            "text/plain": [
              "0     2\n",
              "1     2\n",
              "2     2\n",
              "3     2\n",
              "4     3\n",
              "     ..\n",
              "67    4\n",
              "68    4\n",
              "69    4\n",
              "70    5\n",
              "71    5\n",
              "Name: sti_best, Length: 72, dtype: int64"
            ]
          },
          "metadata": {},
          "execution_count": 5
        }
      ],
      "source": [
        "y_res"
      ]
    },
    {
      "cell_type": "code",
      "execution_count": 6,
      "metadata": {
        "colab": {
          "base_uri": "https://localhost:8080/"
        },
        "id": "fxXSBlkBifnr",
        "outputId": "6771f2cf-7385-47c6-c1f1-8e9430c29625"
      },
      "outputs": [
        {
          "output_type": "execute_result",
          "data": {
            "text/plain": [
              "2    12\n",
              "3    12\n",
              "5    12\n",
              "6    12\n",
              "1    12\n",
              "4    12\n",
              "Name: sti_best, dtype: int64"
            ]
          },
          "metadata": {},
          "execution_count": 6
        }
      ],
      "source": [
        "y_res.value_counts()"
      ]
    },
    {
      "cell_type": "code",
      "execution_count": 7,
      "metadata": {
        "id": "j_EuVjxw9u42"
      },
      "outputs": [],
      "source": [
        "X = X_res.values\n",
        "y = y_res.values"
      ]
    },
    {
      "cell_type": "markdown",
      "metadata": {
        "id": "gYOjQFR_Hj07"
      },
      "source": [
        "##LabelEncoding"
      ]
    },
    {
      "cell_type": "code",
      "execution_count": 8,
      "metadata": {
        "id": "TTtwTzSwD5pn"
      },
      "outputs": [],
      "source": [
        "for i in range(X.shape[0]):\n",
        "  for j in range(0, 6):\n",
        "    if X[i, j] == 'No' or X[i,j] == \"Male\" or X[i, j] == 'No ':\n",
        "      X[i, j] = 0\n",
        "    elif X[i, j] == 'Yes' or X[i,j] == \"Female\":\n",
        "      X[i, j] = 1\n",
        "\n",
        "for i in range(X.shape[0]):\n",
        "  for j in range(6,7):\n",
        "    if X[i,j] == 'No':\n",
        "      X[i,j] = 0\n",
        "    else:\n",
        "      X[i,j] = 1"
      ]
    },
    {
      "cell_type": "markdown",
      "metadata": {
        "id": "lFXB1VtfH1gm"
      },
      "source": [
        "##Splitting the Dataset"
      ]
    },
    {
      "cell_type": "code",
      "execution_count": 9,
      "metadata": {
        "id": "o9kivlaNH20z"
      },
      "outputs": [],
      "source": [
        "from sklearn.model_selection import train_test_split\n",
        "X_train, X_test, y_train, y_test = train_test_split(X, y, test_size=0.2, random_state=0)"
      ]
    },
    {
      "cell_type": "code",
      "source": [
        "X_train.shape"
      ],
      "metadata": {
        "colab": {
          "base_uri": "https://localhost:8080/"
        },
        "id": "ANx6EdOeMC6v",
        "outputId": "54c29f7d-acdb-4b42-ad9e-724d3cdb62c3"
      },
      "execution_count": 10,
      "outputs": [
        {
          "output_type": "execute_result",
          "data": {
            "text/plain": [
              "(57, 8)"
            ]
          },
          "metadata": {},
          "execution_count": 10
        }
      ]
    },
    {
      "cell_type": "markdown",
      "metadata": {
        "id": "JAhsSPzdHltK"
      },
      "source": [
        "##Feature Scaling"
      ]
    },
    {
      "cell_type": "code",
      "execution_count": 11,
      "metadata": {
        "id": "pdTfCDevGhiS"
      },
      "outputs": [],
      "source": [
        "from sklearn.preprocessing import StandardScaler\n",
        "sc = StandardScaler()\n",
        "\n",
        "X_train_scaled = sc.fit_transform(X_train)\n",
        "X_test_scaled = sc.fit_transform(X_test)"
      ]
    },
    {
      "cell_type": "markdown",
      "source": [
        "#MODELS"
      ],
      "metadata": {
        "id": "4AB8QyH8EIVF"
      }
    },
    {
      "cell_type": "code",
      "source": [
        "# Function to print evaluation metrics\n",
        "def print_metrics(y_true, y_pred):\n",
        "    accuracy = accuracy_score(y_true, y_pred) * 100\n",
        "\n",
        "    precision_macro = precision_score(y_true, y_pred, average='macro')\n",
        "    recall_macro = recall_score(y_true, y_pred, average='macro')\n",
        "    f1_macro = f1_score(y_true, y_pred, average='macro')\n",
        "\n",
        "    print(f\"Accuracy: {accuracy:.10f} %\")\n",
        "    print(f\"Precision: {precision_macro:.10f}\")\n",
        "    print(f\"Recall: {recall_macro:.10f}\")\n",
        "    print(f\"F1 Score: {f1_macro:.10f}\")"
      ],
      "metadata": {
        "id": "gOfolEWpFI_x"
      },
      "execution_count": 12,
      "outputs": []
    },
    {
      "cell_type": "code",
      "source": [
        "import warnings\n",
        "warnings.filterwarnings(\"ignore\")"
      ],
      "metadata": {
        "id": "hPOAOZbrF2ok"
      },
      "execution_count": 13,
      "outputs": []
    },
    {
      "cell_type": "markdown",
      "source": [
        "###Logistic Regression"
      ],
      "metadata": {
        "id": "j_rfrqF8EmtA"
      }
    },
    {
      "cell_type": "code",
      "source": [
        "lr = LogisticRegression()\n",
        "lr_params = {\n",
        "    'penalty': ['l1', 'l2'],\n",
        "    'C': [0.001, 0.01, 0.1, 1, 10, 100, 1000],\n",
        "    'solver': ['newton-cg', 'lbfgs', 'liblinear', 'sag', 'saga'],\n",
        "    'max_iter': [50, 100, 200, 500, 1000],\n",
        "    'class_weight': [None, 'balanced'],\n",
        "    'random_state': [42]\n",
        "}\n",
        "grid_lr = GridSearchCV(lr, lr_params, cv=5)\n",
        "grid_lr.fit(X_train_scaled, y_train)\n",
        "y_pred_lr = grid_lr.predict(X_test_scaled)\n",
        "\n",
        "# Print details of the Logistic Regression model\n",
        "print(\"Logistic Regression:\")\n",
        "print(\"Best Parameters:\", grid_lr.best_params_)\n",
        "print(\"Best Score:\", grid_lr.best_score_* 100 )\n",
        "print_metrics(y_test, y_pred_lr)\n",
        "print(\"\\n\")"
      ],
      "metadata": {
        "colab": {
          "base_uri": "https://localhost:8080/"
        },
        "id": "t056eX_qExo-",
        "outputId": "5bbe720e-7ff2-447c-c624-f679b0f3c019"
      },
      "execution_count": 14,
      "outputs": [
        {
          "output_type": "stream",
          "name": "stdout",
          "text": [
            "Logistic Regression:\n",
            "Best Parameters: {'C': 100, 'class_weight': 'balanced', 'max_iter': 50, 'penalty': 'l2', 'random_state': 42, 'solver': 'newton-cg'}\n",
            "Best Score: 26.515151515151516\n",
            "Accuracy: 46.6666666667 %\n",
            "Precision: 0.5000000000\n",
            "Recall: 0.5833333333\n",
            "F1 Score: 0.4896825397\n",
            "\n",
            "\n"
          ]
        }
      ]
    },
    {
      "cell_type": "code",
      "source": [
        "import pickle\n",
        "\n",
        "with open('StressIndex_basic_logistic.pkl', 'wb') as f:\n",
        "    pickle.dump(grid_lr, f)"
      ],
      "metadata": {
        "id": "p0f2Vj7tqF5k"
      },
      "execution_count": 15,
      "outputs": []
    },
    {
      "cell_type": "markdown",
      "source": [
        "##KNeighbors"
      ],
      "metadata": {
        "id": "Xy1_xmiTH6J6"
      }
    },
    {
      "cell_type": "code",
      "source": [
        "knn = KNeighborsClassifier()\n",
        "knn_params = {\n",
        "    'n_neighbors': [3, 5, 7, 9, 11, 15, 20],\n",
        "    'weights': ['uniform', 'distance'],\n",
        "    'algorithm': ['auto', 'ball_tree', 'kd_tree', 'brute'],\n",
        "    'leaf_size': [30, 40, 50, 60],\n",
        "    'p': [1, 2]\n",
        "}\n",
        "grid_knn = GridSearchCV(knn, knn_params, cv=5)\n",
        "grid_knn.fit(X_train_scaled, y_train)\n",
        "y_pred_knn = grid_knn.predict(X_test_scaled)\n",
        "\n",
        "# Print details of the k-Nearest Neighbors model\n",
        "print(\"k-Nearest Neighbors:\")\n",
        "print(\"Best Parameters:\", grid_knn.best_params_)\n",
        "print(\"Best Score:\", grid_knn.best_score_)\n",
        "print_metrics(y_test, y_pred_knn)\n",
        "print(\"\\n\")"
      ],
      "metadata": {
        "colab": {
          "base_uri": "https://localhost:8080/"
        },
        "id": "A5Ml7AJtID4m",
        "outputId": "ffb922c5-b695-47de-882a-de8d72d90534"
      },
      "execution_count": 16,
      "outputs": [
        {
          "output_type": "stream",
          "name": "stdout",
          "text": [
            "k-Nearest Neighbors:\n",
            "Best Parameters: {'algorithm': 'auto', 'leaf_size': 30, 'n_neighbors': 9, 'p': 2, 'weights': 'distance'}\n",
            "Best Score: 0.5621212121212121\n",
            "Accuracy: 33.3333333333 %\n",
            "Precision: 0.1777777778\n",
            "Recall: 0.5000000000\n",
            "F1 Score: 0.2619047619\n",
            "\n",
            "\n"
          ]
        }
      ]
    },
    {
      "cell_type": "code",
      "source": [
        "with open('StressIndex_basic_KNN.pkl', 'wb') as f:\n",
        "    pickle.dump(grid_knn, f)"
      ],
      "metadata": {
        "id": "jbK3vwqzqLCO"
      },
      "execution_count": 17,
      "outputs": []
    },
    {
      "cell_type": "markdown",
      "source": [
        "##SVM"
      ],
      "metadata": {
        "id": "tljNpWWOIHAg"
      }
    },
    {
      "cell_type": "code",
      "source": [
        "svm = SVC()\n",
        "svm_params = {\n",
        "    'C': [0.1, 1, 10, 100, 1000],\n",
        "    'kernel': ['linear', 'rbf', 'poly', 'sigmoid'],\n",
        "    'gamma': ['scale', 'auto', 0.1, 1, 10, 100],\n",
        "    'degree': [2, 3, 4],\n",
        "    'coef0': [0.0, 0.5, 1.0]\n",
        "}\n",
        "\n",
        "grid_svm = GridSearchCV(svm, svm_params, cv=5)\n",
        "grid_svm.fit(X_train_scaled, y_train)\n",
        "y_pred_svm = grid_svm.predict(X_test_scaled)\n",
        "\n",
        "# Print details of the Support Vector Machines model\n",
        "print(\"Support Vector Machines:\")\n",
        "print(\"Best Parameters:\", grid_svm.best_params_)\n",
        "print(\"Best Score:\", grid_svm.best_score_)\n",
        "print_metrics(y_test, y_pred_svm)\n",
        "print(\"\\n\")\n"
      ],
      "metadata": {
        "id": "Tu9EgGysIKrQ",
        "colab": {
          "base_uri": "https://localhost:8080/"
        },
        "outputId": "f2024f36-8b35-4c9b-848c-6de74676a52c"
      },
      "execution_count": 18,
      "outputs": [
        {
          "output_type": "stream",
          "name": "stdout",
          "text": [
            "Support Vector Machines:\n",
            "Best Parameters: {'C': 1000, 'coef0': 1.0, 'degree': 2, 'gamma': 'scale', 'kernel': 'poly'}\n",
            "Best Score: 0.5621212121212121\n",
            "Accuracy: 20.0000000000 %\n",
            "Precision: 0.1583333333\n",
            "Recall: 0.3333333333\n",
            "F1 Score: 0.1944444444\n",
            "\n",
            "\n"
          ]
        }
      ]
    },
    {
      "cell_type": "code",
      "source": [
        "with open('StressIndex_basic_SVM.pkl', 'wb') as f:\n",
        "    pickle.dump(grid_svm, f)"
      ],
      "metadata": {
        "id": "Zm0aVOc_qPFv"
      },
      "execution_count": 19,
      "outputs": []
    },
    {
      "cell_type": "markdown",
      "source": [
        "##Decision Trees"
      ],
      "metadata": {
        "id": "Yfps_CzQIR3K"
      }
    },
    {
      "cell_type": "code",
      "source": [
        "dt = DecisionTreeClassifier()\n",
        "dt_params = {\n",
        "    'criterion': ['gini', 'entropy'],\n",
        "    'splitter': ['best', 'random'],\n",
        "    'max_depth': [None, 5, 10, 20, 30, 50, 100],\n",
        "    'min_samples_split': [2, 5, 10, 20, 30, 50],\n",
        "    'min_samples_leaf': [1, 2, 4, 8, 10, 20]\n",
        "}\n",
        "\n",
        "grid_dt = GridSearchCV(dt, dt_params, cv=5)\n",
        "grid_dt.fit(X_train, y_train)\n",
        "y_pred_dt = grid_dt.predict(X_test)\n",
        "\n",
        "# Print details of the Decision Trees model\n",
        "print(\"Decision Trees:\")\n",
        "print(\"Best Parameters:\", grid_dt.best_params_)\n",
        "print(\"Best Score:\", grid_dt.best_score_)\n",
        "print_metrics(y_test, y_pred_dt)\n",
        "print(\"\\n\")\n"
      ],
      "metadata": {
        "id": "73SS3jqsIZme",
        "colab": {
          "base_uri": "https://localhost:8080/"
        },
        "outputId": "495e7e0d-4df6-4501-9fba-a50a63ae3ca8"
      },
      "execution_count": 20,
      "outputs": [
        {
          "output_type": "stream",
          "name": "stdout",
          "text": [
            "Decision Trees:\n",
            "Best Parameters: {'criterion': 'gini', 'max_depth': 100, 'min_samples_leaf': 1, 'min_samples_split': 2, 'splitter': 'random'}\n",
            "Best Score: 0.5272727272727272\n",
            "Accuracy: 20.0000000000 %\n",
            "Precision: 0.2416666667\n",
            "Recall: 0.2638888889\n",
            "F1 Score: 0.1698412698\n",
            "\n",
            "\n"
          ]
        }
      ]
    },
    {
      "cell_type": "code",
      "source": [
        "with open('StressIndex_basic_DecTree.pkl', 'wb') as f:\n",
        "    pickle.dump(grid_dt, f)"
      ],
      "metadata": {
        "id": "-pF71bjyqTa0"
      },
      "execution_count": 21,
      "outputs": []
    },
    {
      "cell_type": "markdown",
      "source": [
        "##Random Forest"
      ],
      "metadata": {
        "id": "d_Enr1z9IbOV"
      }
    },
    {
      "cell_type": "code",
      "source": [
        "rf = RandomForestClassifier()\n",
        "rf_params = {\n",
        "    'n_estimators': [50, 100, 200, 400, 800],\n",
        "    'criterion': ['gini'],\n",
        "    'max_depth': [None, 5, 10, 20,50],\n",
        "    'min_samples_leaf': [1, 2, 4, 8]\n",
        "}\n",
        "grid_rf = GridSearchCV(rf, rf_params, cv=5)\n",
        "grid_rf.fit(X_train, y_train)\n",
        "y_pred_rf = grid_rf.predict(X_test)\n",
        "\n",
        "# Print details of the Random Forest model\n",
        "print(\"Random Forest:\")\n",
        "print(\"Best Parameters:\", grid_rf.best_params_)\n",
        "print(\"Best Score:\", grid_rf.best_score_)\n",
        "print_metrics(y_test, y_pred_rf)\n",
        "print(\"\\n\")"
      ],
      "metadata": {
        "colab": {
          "base_uri": "https://localhost:8080/"
        },
        "id": "nKaz6AemIhmg",
        "outputId": "e6418958-a9f3-4dff-dc72-20845acc4284"
      },
      "execution_count": 22,
      "outputs": [
        {
          "output_type": "stream",
          "name": "stdout",
          "text": [
            "Random Forest:\n",
            "Best Parameters: {'criterion': 'gini', 'max_depth': 10, 'min_samples_leaf': 1, 'n_estimators': 400}\n",
            "Best Score: 0.5606060606060607\n",
            "Accuracy: 26.6666666667 %\n",
            "Precision: 0.2333333333\n",
            "Recall: 0.3750000000\n",
            "F1 Score: 0.2619047619\n",
            "\n",
            "\n"
          ]
        }
      ]
    },
    {
      "cell_type": "code",
      "source": [
        "with open('StressIndex_basic_RanFor.pkl', 'wb') as f:\n",
        "    pickle.dump(grid_rf, f)"
      ],
      "metadata": {
        "id": "5Z1mHqfoqW86"
      },
      "execution_count": 23,
      "outputs": []
    },
    {
      "cell_type": "markdown",
      "source": [
        "##NaiveBayes"
      ],
      "metadata": {
        "id": "m7oN86J0pX3d"
      }
    },
    {
      "cell_type": "code",
      "source": [
        "gnb = GaussianNB()\n",
        "gnb_params = {\n",
        "    'var_smoothing': [1e-9, 1e-8, 1e-7, 1e-6, 1e-5]  # Varying the smoothing parameter\n",
        "}\n",
        "grid_gnb = GridSearchCV(gnb, gnb_params, cv=5)\n",
        "grid_gnb.fit(X_train, y_train)\n",
        "\n",
        "y_pred_gnb = grid_gnb.predict(X_test)\n",
        "\n",
        "print(\"Gaussian Naive Bayes:\")\n",
        "print(\"Best Parameters:\", grid_gnb.best_params_)\n",
        "print(\"Best Score:\", grid_gnb.best_score_)\n",
        "print_metrics(y_test, y_pred_gnb)\n",
        "print(\"\\n\")\n"
      ],
      "metadata": {
        "colab": {
          "base_uri": "https://localhost:8080/"
        },
        "id": "8-XHKMi7pCtf",
        "outputId": "4ed3b485-9c55-42f8-b013-ac1addf93650"
      },
      "execution_count": 24,
      "outputs": [
        {
          "output_type": "stream",
          "name": "stdout",
          "text": [
            "Gaussian Naive Bayes:\n",
            "Best Parameters: {'var_smoothing': 1e-05}\n",
            "Best Score: 0.2303030303030303\n",
            "Accuracy: 26.6666666667 %\n",
            "Precision: 0.2833333333\n",
            "Recall: 0.2500000000\n",
            "F1 Score: 0.2179487179\n",
            "\n",
            "\n"
          ]
        }
      ]
    },
    {
      "cell_type": "code",
      "source": [
        "with open('StressIndex_basic_NaiveBayes.pkl', 'wb') as f:\n",
        "    pickle.dump(grid_gnb, f)"
      ],
      "metadata": {
        "id": "qiayfQLYqZ76"
      },
      "execution_count": 25,
      "outputs": []
    }
  ],
  "metadata": {
    "colab": {
      "provenance": [],
      "gpuType": "T4"
    },
    "kernelspec": {
      "display_name": "Python 3",
      "name": "python3"
    },
    "language_info": {
      "name": "python"
    }
  },
  "nbformat": 4,
  "nbformat_minor": 0
}