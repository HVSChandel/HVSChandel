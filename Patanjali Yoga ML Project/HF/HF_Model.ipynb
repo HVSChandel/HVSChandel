{
  "cells": [
    {
      "cell_type": "markdown",
      "metadata": {
        "id": "DMDzmWK2Hb9O"
      },
      "source": [
        "##Importing the Libraries"
      ]
    },
    {
      "cell_type": "code",
      "execution_count": 1,
      "metadata": {
        "id": "-ua5X0FTdA1o"
      },
      "outputs": [],
      "source": [
        "import pandas as pd\n",
        "import numpy as np\n",
        "import matplotlib.pyplot as plt"
      ]
    },
    {
      "cell_type": "markdown",
      "metadata": {
        "id": "kNl8KRIsHfoY"
      },
      "source": [
        "##Importing the Dataset"
      ]
    },
    {
      "cell_type": "code",
      "execution_count": 2,
      "metadata": {
        "id": "65Z333_kpyqN"
      },
      "outputs": [],
      "source": [
        "df = pd.read_csv('/content/final_data_HF.csv')\n",
        "df.drop('ID', axis=1 , inplace=True)"
      ]
    },
    {
      "cell_type": "code",
      "source": [
        "df.head()"
      ],
      "metadata": {
        "colab": {
          "base_uri": "https://localhost:8080/",
          "height": 206
        },
        "id": "rYNQSQLcCQBM",
        "outputId": "c00de702-8ca3-4975-e51a-006dd779b86b"
      },
      "execution_count": 3,
      "outputs": [
        {
          "output_type": "execute_result",
          "data": {
            "text/plain": [
              "   Gender  Age Alchohol Smoking Non-Veg Exercise         Medication   BMI  \\\n",
              "0    Male   37       No      No      No       No                 No  24.1   \n",
              "1    Male   47       No      No      No      Yes  Yes(Anxiety/B.P.)  22.8   \n",
              "2  Female   47       No      No      No       No       Yes(Thyroid)  28.0   \n",
              "3  Female   35       No      No      No       No                 No  27.4   \n",
              "4  Female   33       No      No      No       No                 No  22.6   \n",
              "\n",
              "   HF_best  \n",
              "0        2  \n",
              "1        2  \n",
              "2        2  \n",
              "3        2  \n",
              "4        3  "
            ],
            "text/html": [
              "\n",
              "\n",
              "  <div id=\"df-8f4da989-abdd-4dec-8cbf-2573d790bd78\">\n",
              "    <div class=\"colab-df-container\">\n",
              "      <div>\n",
              "<style scoped>\n",
              "    .dataframe tbody tr th:only-of-type {\n",
              "        vertical-align: middle;\n",
              "    }\n",
              "\n",
              "    .dataframe tbody tr th {\n",
              "        vertical-align: top;\n",
              "    }\n",
              "\n",
              "    .dataframe thead th {\n",
              "        text-align: right;\n",
              "    }\n",
              "</style>\n",
              "<table border=\"1\" class=\"dataframe\">\n",
              "  <thead>\n",
              "    <tr style=\"text-align: right;\">\n",
              "      <th></th>\n",
              "      <th>Gender</th>\n",
              "      <th>Age</th>\n",
              "      <th>Alchohol</th>\n",
              "      <th>Smoking</th>\n",
              "      <th>Non-Veg</th>\n",
              "      <th>Exercise</th>\n",
              "      <th>Medication</th>\n",
              "      <th>BMI</th>\n",
              "      <th>HF_best</th>\n",
              "    </tr>\n",
              "  </thead>\n",
              "  <tbody>\n",
              "    <tr>\n",
              "      <th>0</th>\n",
              "      <td>Male</td>\n",
              "      <td>37</td>\n",
              "      <td>No</td>\n",
              "      <td>No</td>\n",
              "      <td>No</td>\n",
              "      <td>No</td>\n",
              "      <td>No</td>\n",
              "      <td>24.1</td>\n",
              "      <td>2</td>\n",
              "    </tr>\n",
              "    <tr>\n",
              "      <th>1</th>\n",
              "      <td>Male</td>\n",
              "      <td>47</td>\n",
              "      <td>No</td>\n",
              "      <td>No</td>\n",
              "      <td>No</td>\n",
              "      <td>Yes</td>\n",
              "      <td>Yes(Anxiety/B.P.)</td>\n",
              "      <td>22.8</td>\n",
              "      <td>2</td>\n",
              "    </tr>\n",
              "    <tr>\n",
              "      <th>2</th>\n",
              "      <td>Female</td>\n",
              "      <td>47</td>\n",
              "      <td>No</td>\n",
              "      <td>No</td>\n",
              "      <td>No</td>\n",
              "      <td>No</td>\n",
              "      <td>Yes(Thyroid)</td>\n",
              "      <td>28.0</td>\n",
              "      <td>2</td>\n",
              "    </tr>\n",
              "    <tr>\n",
              "      <th>3</th>\n",
              "      <td>Female</td>\n",
              "      <td>35</td>\n",
              "      <td>No</td>\n",
              "      <td>No</td>\n",
              "      <td>No</td>\n",
              "      <td>No</td>\n",
              "      <td>No</td>\n",
              "      <td>27.4</td>\n",
              "      <td>2</td>\n",
              "    </tr>\n",
              "    <tr>\n",
              "      <th>4</th>\n",
              "      <td>Female</td>\n",
              "      <td>33</td>\n",
              "      <td>No</td>\n",
              "      <td>No</td>\n",
              "      <td>No</td>\n",
              "      <td>No</td>\n",
              "      <td>No</td>\n",
              "      <td>22.6</td>\n",
              "      <td>3</td>\n",
              "    </tr>\n",
              "  </tbody>\n",
              "</table>\n",
              "</div>\n",
              "      <button class=\"colab-df-convert\" onclick=\"convertToInteractive('df-8f4da989-abdd-4dec-8cbf-2573d790bd78')\"\n",
              "              title=\"Convert this dataframe to an interactive table.\"\n",
              "              style=\"display:none;\">\n",
              "\n",
              "  <svg xmlns=\"http://www.w3.org/2000/svg\" height=\"24px\"viewBox=\"0 0 24 24\"\n",
              "       width=\"24px\">\n",
              "    <path d=\"M0 0h24v24H0V0z\" fill=\"none\"/>\n",
              "    <path d=\"M18.56 5.44l.94 2.06.94-2.06 2.06-.94-2.06-.94-.94-2.06-.94 2.06-2.06.94zm-11 1L8.5 8.5l.94-2.06 2.06-.94-2.06-.94L8.5 2.5l-.94 2.06-2.06.94zm10 10l.94 2.06.94-2.06 2.06-.94-2.06-.94-.94-2.06-.94 2.06-2.06.94z\"/><path d=\"M17.41 7.96l-1.37-1.37c-.4-.4-.92-.59-1.43-.59-.52 0-1.04.2-1.43.59L10.3 9.45l-7.72 7.72c-.78.78-.78 2.05 0 2.83L4 21.41c.39.39.9.59 1.41.59.51 0 1.02-.2 1.41-.59l7.78-7.78 2.81-2.81c.8-.78.8-2.07 0-2.86zM5.41 20L4 18.59l7.72-7.72 1.47 1.35L5.41 20z\"/>\n",
              "  </svg>\n",
              "      </button>\n",
              "\n",
              "\n",
              "\n",
              "    <div id=\"df-91cb5f83-40e3-4675-b7c3-dbc8ae77acc7\">\n",
              "      <button class=\"colab-df-quickchart\" onclick=\"quickchart('df-91cb5f83-40e3-4675-b7c3-dbc8ae77acc7')\"\n",
              "              title=\"Suggest charts.\"\n",
              "              style=\"display:none;\">\n",
              "\n",
              "<svg xmlns=\"http://www.w3.org/2000/svg\" height=\"24px\"viewBox=\"0 0 24 24\"\n",
              "     width=\"24px\">\n",
              "    <g>\n",
              "        <path d=\"M19 3H5c-1.1 0-2 .9-2 2v14c0 1.1.9 2 2 2h14c1.1 0 2-.9 2-2V5c0-1.1-.9-2-2-2zM9 17H7v-7h2v7zm4 0h-2V7h2v10zm4 0h-2v-4h2v4z\"/>\n",
              "    </g>\n",
              "</svg>\n",
              "      </button>\n",
              "    </div>\n",
              "\n",
              "<style>\n",
              "  .colab-df-quickchart {\n",
              "    background-color: #E8F0FE;\n",
              "    border: none;\n",
              "    border-radius: 50%;\n",
              "    cursor: pointer;\n",
              "    display: none;\n",
              "    fill: #1967D2;\n",
              "    height: 32px;\n",
              "    padding: 0 0 0 0;\n",
              "    width: 32px;\n",
              "  }\n",
              "\n",
              "  .colab-df-quickchart:hover {\n",
              "    background-color: #E2EBFA;\n",
              "    box-shadow: 0px 1px 2px rgba(60, 64, 67, 0.3), 0px 1px 3px 1px rgba(60, 64, 67, 0.15);\n",
              "    fill: #174EA6;\n",
              "  }\n",
              "\n",
              "  [theme=dark] .colab-df-quickchart {\n",
              "    background-color: #3B4455;\n",
              "    fill: #D2E3FC;\n",
              "  }\n",
              "\n",
              "  [theme=dark] .colab-df-quickchart:hover {\n",
              "    background-color: #434B5C;\n",
              "    box-shadow: 0px 1px 3px 1px rgba(0, 0, 0, 0.15);\n",
              "    filter: drop-shadow(0px 1px 2px rgba(0, 0, 0, 0.3));\n",
              "    fill: #FFFFFF;\n",
              "  }\n",
              "</style>\n",
              "\n",
              "    <script>\n",
              "      async function quickchart(key) {\n",
              "        const containerElement = document.querySelector('#' + key);\n",
              "        const charts = await google.colab.kernel.invokeFunction(\n",
              "            'suggestCharts', [key], {});\n",
              "      }\n",
              "    </script>\n",
              "\n",
              "      <script>\n",
              "\n",
              "function displayQuickchartButton(domScope) {\n",
              "  let quickchartButtonEl =\n",
              "    domScope.querySelector('#df-91cb5f83-40e3-4675-b7c3-dbc8ae77acc7 button.colab-df-quickchart');\n",
              "  quickchartButtonEl.style.display =\n",
              "    google.colab.kernel.accessAllowed ? 'block' : 'none';\n",
              "}\n",
              "\n",
              "        displayQuickchartButton(document);\n",
              "      </script>\n",
              "      <style>\n",
              "    .colab-df-container {\n",
              "      display:flex;\n",
              "      flex-wrap:wrap;\n",
              "      gap: 12px;\n",
              "    }\n",
              "\n",
              "    .colab-df-convert {\n",
              "      background-color: #E8F0FE;\n",
              "      border: none;\n",
              "      border-radius: 50%;\n",
              "      cursor: pointer;\n",
              "      display: none;\n",
              "      fill: #1967D2;\n",
              "      height: 32px;\n",
              "      padding: 0 0 0 0;\n",
              "      width: 32px;\n",
              "    }\n",
              "\n",
              "    .colab-df-convert:hover {\n",
              "      background-color: #E2EBFA;\n",
              "      box-shadow: 0px 1px 2px rgba(60, 64, 67, 0.3), 0px 1px 3px 1px rgba(60, 64, 67, 0.15);\n",
              "      fill: #174EA6;\n",
              "    }\n",
              "\n",
              "    [theme=dark] .colab-df-convert {\n",
              "      background-color: #3B4455;\n",
              "      fill: #D2E3FC;\n",
              "    }\n",
              "\n",
              "    [theme=dark] .colab-df-convert:hover {\n",
              "      background-color: #434B5C;\n",
              "      box-shadow: 0px 1px 3px 1px rgba(0, 0, 0, 0.15);\n",
              "      filter: drop-shadow(0px 1px 2px rgba(0, 0, 0, 0.3));\n",
              "      fill: #FFFFFF;\n",
              "    }\n",
              "  </style>\n",
              "\n",
              "      <script>\n",
              "        const buttonEl =\n",
              "          document.querySelector('#df-8f4da989-abdd-4dec-8cbf-2573d790bd78 button.colab-df-convert');\n",
              "        buttonEl.style.display =\n",
              "          google.colab.kernel.accessAllowed ? 'block' : 'none';\n",
              "\n",
              "        async function convertToInteractive(key) {\n",
              "          const element = document.querySelector('#df-8f4da989-abdd-4dec-8cbf-2573d790bd78');\n",
              "          const dataTable =\n",
              "            await google.colab.kernel.invokeFunction('convertToInteractive',\n",
              "                                                     [key], {});\n",
              "          if (!dataTable) return;\n",
              "\n",
              "          const docLinkHtml = 'Like what you see? Visit the ' +\n",
              "            '<a target=\"_blank\" href=https://colab.research.google.com/notebooks/data_table.ipynb>data table notebook</a>'\n",
              "            + ' to learn more about interactive tables.';\n",
              "          element.innerHTML = '';\n",
              "          dataTable['output_type'] = 'display_data';\n",
              "          await google.colab.output.renderOutput(dataTable, element);\n",
              "          const docLink = document.createElement('div');\n",
              "          docLink.innerHTML = docLinkHtml;\n",
              "          element.appendChild(docLink);\n",
              "        }\n",
              "      </script>\n",
              "    </div>\n",
              "  </div>\n"
            ]
          },
          "metadata": {},
          "execution_count": 3
        }
      ]
    },
    {
      "cell_type": "code",
      "execution_count": 4,
      "metadata": {
        "id": "a8R9B6QxiYyv"
      },
      "outputs": [],
      "source": [
        "X = df.iloc[:, :-1]\n",
        "y = df.iloc[:, -1]\n",
        "\n",
        "from imblearn.over_sampling import RandomOverSampler\n",
        "ros = RandomOverSampler(sampling_strategy=\"not majority\")\n",
        "X_res, y_res = ros.fit_resample(X, y)"
      ]
    },
    {
      "cell_type": "code",
      "execution_count": 5,
      "metadata": {
        "colab": {
          "base_uri": "https://localhost:8080/"
        },
        "id": "ZwPjwrMfioha",
        "outputId": "60ba3bb7-21c5-4b4b-8a2f-c6dd27cb8f3b"
      },
      "outputs": [
        {
          "output_type": "execute_result",
          "data": {
            "text/plain": [
              "0      2\n",
              "1      2\n",
              "2      2\n",
              "3      2\n",
              "4      3\n",
              "      ..\n",
              "97     5\n",
              "98     5\n",
              "99     5\n",
              "100    5\n",
              "101    5\n",
              "Name: HF_best, Length: 102, dtype: int64"
            ]
          },
          "metadata": {},
          "execution_count": 5
        }
      ],
      "source": [
        "y_res"
      ]
    },
    {
      "cell_type": "code",
      "execution_count": 6,
      "metadata": {
        "colab": {
          "base_uri": "https://localhost:8080/"
        },
        "id": "fxXSBlkBifnr",
        "outputId": "79005407-cbb8-44c1-cd2b-47f1b9a4868b"
      },
      "outputs": [
        {
          "output_type": "execute_result",
          "data": {
            "text/plain": [
              "2    17\n",
              "3    17\n",
              "5    17\n",
              "4    17\n",
              "6    17\n",
              "1    17\n",
              "Name: HF_best, dtype: int64"
            ]
          },
          "metadata": {},
          "execution_count": 6
        }
      ],
      "source": [
        "y_res.value_counts()"
      ]
    },
    {
      "cell_type": "code",
      "execution_count": 7,
      "metadata": {
        "id": "j_EuVjxw9u42"
      },
      "outputs": [],
      "source": [
        "X = X_res.values\n",
        "y = y_res.values"
      ]
    },
    {
      "cell_type": "code",
      "execution_count": 8,
      "metadata": {
        "colab": {
          "base_uri": "https://localhost:8080/"
        },
        "id": "EW5hmms1wOFi",
        "outputId": "6838656f-8853-4502-9c81-e97acd0c91d9"
      },
      "outputs": [
        {
          "output_type": "execute_result",
          "data": {
            "text/plain": [
              "array([['Male', 37, 'No', 'No', 'No', 'No', 'No', 24.1],\n",
              "       ['Male', 47, 'No', 'No', 'No', 'Yes', 'Yes(Anxiety/B.P.)', 22.8],\n",
              "       ['Female', 47, 'No', 'No', 'No', 'No', 'Yes(Thyroid)', 28.0],\n",
              "       ['Female', 35, 'No', 'No', 'No', 'No', 'No', 27.4],\n",
              "       ['Female', 33, 'No', 'No', 'No', 'No', 'No', 22.6],\n",
              "       ['Female', 45, 'No', 'No', 'No', 'No', 'Yes(B.P.)', 24.5],\n",
              "       ['Female', 41, 'No', 'No', 'No', 'No', 'No', 24.5],\n",
              "       ['Female', 36, 'No', 'No', 'No', 'No', 'No', 23.2],\n",
              "       ['Female', 35, 'No', 'No', 'Yes', 'No', 'Yes(Thyroid)', 25.0],\n",
              "       ['Male', 38, 'Yes', 'No', 'Yes', 'No', 'No', 25.8],\n",
              "       ['Male', 43, 'Yes', 'Yes', 'Yes', 'No', 'Yes', 30.1],\n",
              "       ['Male', 39, 'No', 'No', 'No', 'Yes', 'Yes', 25.4],\n",
              "       ['Male', 34, 'Yes', 'No', 'Yes', 'No', 'No', 23.9],\n",
              "       ['Female', 34, 'No', 'No', 'No', 'No', 'No', 22.1],\n",
              "       ['Female', 29, 'No', 'No', 'Yes', 'No', 'No', 25.7],\n",
              "       ['Male', 28, 'No', 'No', 'Yes', 'Yes', 'No', 24.0],\n",
              "       ['Male', 28, 'No', 'No', 'Yes', 'No', 'No', 24.3],\n",
              "       ['Male', 29, 'No', 'No', 'Yes', 'Yes', 'No', 25.0],\n",
              "       ['Male', 30, 'No ', 'No', 'Yes', 'No', 'No', 24.6],\n",
              "       ['Male', 34, 'No', 'No', 'Yes', 'Yes', 'No', 28.4],\n",
              "       ['Male', 35, 'No', 'No', 'No', 'Yes', 'No', 24.3],\n",
              "       ['Male', 39, 'No', 'No', 'Yes', 'No', 'No', 24.3],\n",
              "       ['Male', 30, 'No', 'No', 'Yes', 'Yes', 'No', 26.8],\n",
              "       ['Male', 45, 'No', 'No', 'Yes', 'No', 'Yes(Sugar)', 21.2],\n",
              "       ['Male', 36, 'No', 'No', 'No', 'Yes', 'Yes(CIDP)', 23.8],\n",
              "       ['Male', 28, 'No', 'No', 'Yes', 'No', 'No', 22.0],\n",
              "       ['Male', 41, 'No', 'No', 'No', 'Yes', 'No', 20.9],\n",
              "       ['Male', 34, 'Yes', 'No', 'Yes', 'Yes', 'No', 23.2],\n",
              "       ['Male', 37, 'No', 'No', 'Yes', 'Yes', 'No', 22.3],\n",
              "       ['Female', 29, 'No', 'No', 'Yes', 'No', 'No', 25.4],\n",
              "       ['Female', 39, 'No', 'No', 'Yes', 'No', 'No', 27.5],\n",
              "       ['Female', 34, 'No', 'No', 'Yes', 'No', 'No', 18.8],\n",
              "       ['Female', 40, 'No', 'No', 'No', 'Yes', 'No', 19.6],\n",
              "       ['Female', 29, 'No', 'No', 'Yes', 'No', 'No', 19.0],\n",
              "       ['Male', 28, 'Yes', 'No', 'No', 'Yes', 'No', 22.7],\n",
              "       ['Male', 28, 'No', 'No', 'Yes', 'No', 'No', 18.9],\n",
              "       ['Male', 34, 'Yes', 'No', 'No', 'No', 'No', 22.3],\n",
              "       ['Female', 31, 'Yes', 'No', 'No', 'No', 'No', 22.4],\n",
              "       ['Male', 39, 'Yes', 'No', 'Yes', 'Yes', 'Yes(Gas)', 22.1],\n",
              "       ['Male', 39, 'No', 'No', 'Yes', 'No', 'No', 28.1],\n",
              "       ['Female', 37, 'No', 'No', 'Yes', 'No', 'No', 31.4],\n",
              "       ['Female', 43, 'No', 'No', 'No', 'Yes', 'No', 26.5],\n",
              "       ['Male', 28, 'Yes', 'Yes', 'Yes', 'No', 'No', 18.7],\n",
              "       ['Male', 28, 'No', 'No', 'Yes', 'No', 'No', 24.1],\n",
              "       ['Male', 31, 'No', 'No', 'No', 'Yes', 'No', 26.9],\n",
              "       ['Female', 28, 'No', 'No', 'Yes', 'Yes', 'No', 26.0],\n",
              "       ['Female', 30, 'No', 'No', 'No', 'No', 'No', 31.9],\n",
              "       ['Male', 36, 'Yes', 'No', 'Yes', 'Yes', 'Yes(B.P.)', 33.1],\n",
              "       ['Female', 28, 'No', 'No', 'Yes', 'Yes', 'Yes', 22.6],\n",
              "       ['Male', 37, 'No ', 'No', 'No', 'No', 'Yes', 23.8],\n",
              "       ['Male', 28, 'No', 'No', 'No', 'Yes', 'No', 27.9],\n",
              "       ['Male', 30, 'No', 'No', 'No', 'Yes', 'No', 22.7],\n",
              "       ['Male', 29, 'No', 'No', 'No', 'No', 'No', 20.9],\n",
              "       ['Male', 31, 'No', 'No', 'Yes', 'Yes', 'No', 19.8],\n",
              "       ['Male', 30, 'No', 'No', 'Yes', 'No', 'No', 29.0],\n",
              "       ['Male', 31, 'No', 'No', 'No', 'Yes', 'No', 19.5],\n",
              "       ['Male', 34, 'No', 'No', 'Yes', 'Yes', 'No', 18.9],\n",
              "       ['Male', 28, 'Yes', 'No', 'Yes', 'No', 'No', 27.7],\n",
              "       ['Male', 28, 'No', 'No', 'Yes', 'No', 'No', 18.9],\n",
              "       ['Male', 45, 'No', 'No', 'Yes', 'No', 'Yes(Sugar)', 21.2],\n",
              "       ['Male', 28, 'No', 'No', 'Yes', 'No', 'No', 18.9],\n",
              "       ['Male', 34, 'No', 'No', 'Yes', 'Yes', 'No', 28.4],\n",
              "       ['Female', 40, 'No', 'No', 'No', 'Yes', 'No', 19.6],\n",
              "       ['Male', 34, 'No', 'No', 'Yes', 'Yes', 'No', 28.4],\n",
              "       ['Male', 45, 'No', 'No', 'Yes', 'No', 'Yes(Sugar)', 21.2],\n",
              "       ['Male', 36, 'No', 'No', 'No', 'Yes', 'Yes(CIDP)', 23.8],\n",
              "       ['Male', 37, 'No ', 'No', 'No', 'No', 'Yes', 23.8],\n",
              "       ['Male', 29, 'No', 'No', 'Yes', 'Yes', 'No', 25.0],\n",
              "       ['Male', 31, 'No', 'No', 'No', 'Yes', 'No', 26.9],\n",
              "       ['Male', 47, 'No', 'No', 'No', 'Yes', 'Yes(Anxiety/B.P.)', 22.8],\n",
              "       ['Male', 29, 'No', 'No', 'Yes', 'Yes', 'No', 25.0],\n",
              "       ['Male', 30, 'No', 'No', 'No', 'Yes', 'No', 22.7],\n",
              "       ['Male', 41, 'No', 'No', 'No', 'Yes', 'No', 20.9],\n",
              "       ['Female', 35, 'No', 'No', 'No', 'No', 'No', 27.4],\n",
              "       ['Male', 28, 'No', 'No', 'No', 'Yes', 'No', 27.9],\n",
              "       ['Female', 34, 'No', 'No', 'No', 'No', 'No', 22.1],\n",
              "       ['Female', 34, 'No', 'No', 'No', 'No', 'No', 22.1],\n",
              "       ['Male', 28, 'Yes', 'Yes', 'Yes', 'No', 'No', 18.7],\n",
              "       ['Female', 29, 'No', 'No', 'Yes', 'No', 'No', 25.4],\n",
              "       ['Male', 28, 'No', 'No', 'Yes', 'No', 'No', 24.1],\n",
              "       ['Male', 30, 'No', 'No', 'Yes', 'Yes', 'No', 26.8],\n",
              "       ['Male', 28, 'Yes', 'No', 'No', 'Yes', 'No', 22.7],\n",
              "       ['Female', 43, 'No', 'No', 'No', 'Yes', 'No', 26.5],\n",
              "       ['Male', 34, 'No', 'No', 'Yes', 'Yes', 'No', 18.9],\n",
              "       ['Female', 29, 'No', 'No', 'Yes', 'No', 'No', 25.7],\n",
              "       ['Male', 34, 'No', 'No', 'Yes', 'Yes', 'No', 18.9],\n",
              "       ['Male', 34, 'No', 'No', 'Yes', 'Yes', 'No', 18.9],\n",
              "       ['Male', 34, 'No', 'No', 'Yes', 'Yes', 'No', 18.9],\n",
              "       ['Female', 43, 'No', 'No', 'No', 'Yes', 'No', 26.5],\n",
              "       ['Male', 34, 'No', 'No', 'Yes', 'Yes', 'No', 18.9],\n",
              "       ['Male', 28, 'No', 'No', 'Yes', 'Yes', 'No', 24.0],\n",
              "       ['Female', 31, 'Yes', 'No', 'No', 'No', 'No', 22.4],\n",
              "       ['Male', 29, 'No', 'No', 'No', 'No', 'No', 20.9],\n",
              "       ['Female', 36, 'No', 'No', 'No', 'No', 'No', 23.2],\n",
              "       ['Female', 36, 'No', 'No', 'No', 'No', 'No', 23.2],\n",
              "       ['Female', 36, 'No', 'No', 'No', 'No', 'No', 23.2],\n",
              "       ['Female', 31, 'Yes', 'No', 'No', 'No', 'No', 22.4],\n",
              "       ['Female', 45, 'No', 'No', 'No', 'No', 'Yes(B.P.)', 24.5],\n",
              "       ['Female', 34, 'No', 'No', 'Yes', 'No', 'No', 18.8],\n",
              "       ['Female', 45, 'No', 'No', 'No', 'No', 'Yes(B.P.)', 24.5],\n",
              "       ['Male', 28, 'No', 'No', 'Yes', 'No', 'No', 22.0],\n",
              "       ['Female', 34, 'No', 'No', 'Yes', 'No', 'No', 18.8]], dtype=object)"
            ]
          },
          "metadata": {},
          "execution_count": 8
        }
      ],
      "source": [
        "X"
      ]
    },
    {
      "cell_type": "markdown",
      "metadata": {
        "id": "gYOjQFR_Hj07"
      },
      "source": [
        "##LabelEncoding"
      ]
    },
    {
      "cell_type": "code",
      "execution_count": 9,
      "metadata": {
        "colab": {
          "base_uri": "https://localhost:8080/"
        },
        "id": "TTtwTzSwD5pn",
        "outputId": "7b24102a-c4e9-4fe5-8bd1-97e27f40a27b"
      },
      "outputs": [
        {
          "output_type": "execute_result",
          "data": {
            "text/plain": [
              "array([[0, 37, 0, 0, 0, 0, 0, 24.1],\n",
              "       [0, 47, 0, 0, 0, 1, 1, 22.8],\n",
              "       [1, 47, 0, 0, 0, 0, 1, 28.0],\n",
              "       [1, 35, 0, 0, 0, 0, 0, 27.4],\n",
              "       [1, 33, 0, 0, 0, 0, 0, 22.6],\n",
              "       [1, 45, 0, 0, 0, 0, 1, 24.5],\n",
              "       [1, 41, 0, 0, 0, 0, 0, 24.5],\n",
              "       [1, 36, 0, 0, 0, 0, 0, 23.2],\n",
              "       [1, 35, 0, 0, 1, 0, 1, 25.0],\n",
              "       [0, 38, 1, 0, 1, 0, 0, 25.8],\n",
              "       [0, 43, 1, 1, 1, 0, 1, 30.1],\n",
              "       [0, 39, 0, 0, 0, 1, 1, 25.4],\n",
              "       [0, 34, 1, 0, 1, 0, 0, 23.9],\n",
              "       [1, 34, 0, 0, 0, 0, 0, 22.1],\n",
              "       [1, 29, 0, 0, 1, 0, 0, 25.7],\n",
              "       [0, 28, 0, 0, 1, 1, 0, 24.0],\n",
              "       [0, 28, 0, 0, 1, 0, 0, 24.3],\n",
              "       [0, 29, 0, 0, 1, 1, 0, 25.0],\n",
              "       [0, 30, 0, 0, 1, 0, 0, 24.6],\n",
              "       [0, 34, 0, 0, 1, 1, 0, 28.4],\n",
              "       [0, 35, 0, 0, 0, 1, 0, 24.3],\n",
              "       [0, 39, 0, 0, 1, 0, 0, 24.3],\n",
              "       [0, 30, 0, 0, 1, 1, 0, 26.8],\n",
              "       [0, 45, 0, 0, 1, 0, 1, 21.2],\n",
              "       [0, 36, 0, 0, 0, 1, 1, 23.8],\n",
              "       [0, 28, 0, 0, 1, 0, 0, 22.0],\n",
              "       [0, 41, 0, 0, 0, 1, 0, 20.9],\n",
              "       [0, 34, 1, 0, 1, 1, 0, 23.2],\n",
              "       [0, 37, 0, 0, 1, 1, 0, 22.3],\n",
              "       [1, 29, 0, 0, 1, 0, 0, 25.4],\n",
              "       [1, 39, 0, 0, 1, 0, 0, 27.5],\n",
              "       [1, 34, 0, 0, 1, 0, 0, 18.8],\n",
              "       [1, 40, 0, 0, 0, 1, 0, 19.6],\n",
              "       [1, 29, 0, 0, 1, 0, 0, 19.0],\n",
              "       [0, 28, 1, 0, 0, 1, 0, 22.7],\n",
              "       [0, 28, 0, 0, 1, 0, 0, 18.9],\n",
              "       [0, 34, 1, 0, 0, 0, 0, 22.3],\n",
              "       [1, 31, 1, 0, 0, 0, 0, 22.4],\n",
              "       [0, 39, 1, 0, 1, 1, 1, 22.1],\n",
              "       [0, 39, 0, 0, 1, 0, 0, 28.1],\n",
              "       [1, 37, 0, 0, 1, 0, 0, 31.4],\n",
              "       [1, 43, 0, 0, 0, 1, 0, 26.5],\n",
              "       [0, 28, 1, 1, 1, 0, 0, 18.7],\n",
              "       [0, 28, 0, 0, 1, 0, 0, 24.1],\n",
              "       [0, 31, 0, 0, 0, 1, 0, 26.9],\n",
              "       [1, 28, 0, 0, 1, 1, 0, 26.0],\n",
              "       [1, 30, 0, 0, 0, 0, 0, 31.9],\n",
              "       [0, 36, 1, 0, 1, 1, 1, 33.1],\n",
              "       [1, 28, 0, 0, 1, 1, 1, 22.6],\n",
              "       [0, 37, 0, 0, 0, 0, 1, 23.8],\n",
              "       [0, 28, 0, 0, 0, 1, 0, 27.9],\n",
              "       [0, 30, 0, 0, 0, 1, 0, 22.7],\n",
              "       [0, 29, 0, 0, 0, 0, 0, 20.9],\n",
              "       [0, 31, 0, 0, 1, 1, 0, 19.8],\n",
              "       [0, 30, 0, 0, 1, 0, 0, 29.0],\n",
              "       [0, 31, 0, 0, 0, 1, 0, 19.5],\n",
              "       [0, 34, 0, 0, 1, 1, 0, 18.9],\n",
              "       [0, 28, 1, 0, 1, 0, 0, 27.7],\n",
              "       [0, 28, 0, 0, 1, 0, 0, 18.9],\n",
              "       [0, 45, 0, 0, 1, 0, 1, 21.2],\n",
              "       [0, 28, 0, 0, 1, 0, 0, 18.9],\n",
              "       [0, 34, 0, 0, 1, 1, 0, 28.4],\n",
              "       [1, 40, 0, 0, 0, 1, 0, 19.6],\n",
              "       [0, 34, 0, 0, 1, 1, 0, 28.4],\n",
              "       [0, 45, 0, 0, 1, 0, 1, 21.2],\n",
              "       [0, 36, 0, 0, 0, 1, 1, 23.8],\n",
              "       [0, 37, 0, 0, 0, 0, 1, 23.8],\n",
              "       [0, 29, 0, 0, 1, 1, 0, 25.0],\n",
              "       [0, 31, 0, 0, 0, 1, 0, 26.9],\n",
              "       [0, 47, 0, 0, 0, 1, 1, 22.8],\n",
              "       [0, 29, 0, 0, 1, 1, 0, 25.0],\n",
              "       [0, 30, 0, 0, 0, 1, 0, 22.7],\n",
              "       [0, 41, 0, 0, 0, 1, 0, 20.9],\n",
              "       [1, 35, 0, 0, 0, 0, 0, 27.4],\n",
              "       [0, 28, 0, 0, 0, 1, 0, 27.9],\n",
              "       [1, 34, 0, 0, 0, 0, 0, 22.1],\n",
              "       [1, 34, 0, 0, 0, 0, 0, 22.1],\n",
              "       [0, 28, 1, 1, 1, 0, 0, 18.7],\n",
              "       [1, 29, 0, 0, 1, 0, 0, 25.4],\n",
              "       [0, 28, 0, 0, 1, 0, 0, 24.1],\n",
              "       [0, 30, 0, 0, 1, 1, 0, 26.8],\n",
              "       [0, 28, 1, 0, 0, 1, 0, 22.7],\n",
              "       [1, 43, 0, 0, 0, 1, 0, 26.5],\n",
              "       [0, 34, 0, 0, 1, 1, 0, 18.9],\n",
              "       [1, 29, 0, 0, 1, 0, 0, 25.7],\n",
              "       [0, 34, 0, 0, 1, 1, 0, 18.9],\n",
              "       [0, 34, 0, 0, 1, 1, 0, 18.9],\n",
              "       [0, 34, 0, 0, 1, 1, 0, 18.9],\n",
              "       [1, 43, 0, 0, 0, 1, 0, 26.5],\n",
              "       [0, 34, 0, 0, 1, 1, 0, 18.9],\n",
              "       [0, 28, 0, 0, 1, 1, 0, 24.0],\n",
              "       [1, 31, 1, 0, 0, 0, 0, 22.4],\n",
              "       [0, 29, 0, 0, 0, 0, 0, 20.9],\n",
              "       [1, 36, 0, 0, 0, 0, 0, 23.2],\n",
              "       [1, 36, 0, 0, 0, 0, 0, 23.2],\n",
              "       [1, 36, 0, 0, 0, 0, 0, 23.2],\n",
              "       [1, 31, 1, 0, 0, 0, 0, 22.4],\n",
              "       [1, 45, 0, 0, 0, 0, 1, 24.5],\n",
              "       [1, 34, 0, 0, 1, 0, 0, 18.8],\n",
              "       [1, 45, 0, 0, 0, 0, 1, 24.5],\n",
              "       [0, 28, 0, 0, 1, 0, 0, 22.0],\n",
              "       [1, 34, 0, 0, 1, 0, 0, 18.8]], dtype=object)"
            ]
          },
          "metadata": {},
          "execution_count": 9
        }
      ],
      "source": [
        "for i in range(X.shape[0]):\n",
        "  for j in range(0, 6):\n",
        "    if X[i, j] == 'No' or X[i,j] == \"Male\" or X[i, j] == 'No ':\n",
        "      X[i, j] = 0\n",
        "    elif X[i, j] == 'Yes' or X[i,j] == \"Female\":\n",
        "      X[i, j] = 1\n",
        "\n",
        "for i in range(X.shape[0]):\n",
        "  for j in range(6,7):\n",
        "    if X[i,j] == 'No':\n",
        "      X[i,j] = 0\n",
        "    else:\n",
        "      X[i,j] = 1\n",
        "X"
      ]
    },
    {
      "cell_type": "markdown",
      "metadata": {
        "id": "lFXB1VtfH1gm"
      },
      "source": [
        "##Splitting the Dataset"
      ]
    },
    {
      "cell_type": "code",
      "execution_count": 10,
      "metadata": {
        "id": "o9kivlaNH20z"
      },
      "outputs": [],
      "source": [
        "from sklearn.model_selection import train_test_split\n",
        "X_train, X_test, y_train, y_test = train_test_split(X, y, test_size=0.2, random_state=0)"
      ]
    },
    {
      "cell_type": "code",
      "source": [
        "X_train.shape"
      ],
      "metadata": {
        "colab": {
          "base_uri": "https://localhost:8080/"
        },
        "id": "ANx6EdOeMC6v",
        "outputId": "af963b5b-9a70-432a-c8c5-9430ccbbbd86"
      },
      "execution_count": 11,
      "outputs": [
        {
          "output_type": "execute_result",
          "data": {
            "text/plain": [
              "(81, 8)"
            ]
          },
          "metadata": {},
          "execution_count": 11
        }
      ]
    },
    {
      "cell_type": "markdown",
      "metadata": {
        "id": "JAhsSPzdHltK"
      },
      "source": [
        "##Feature Scaling"
      ]
    },
    {
      "cell_type": "code",
      "execution_count": 12,
      "metadata": {
        "id": "pdTfCDevGhiS"
      },
      "outputs": [],
      "source": [
        "from sklearn.preprocessing import StandardScaler\n",
        "sc = StandardScaler()\n",
        "\n",
        "X_train_scaled = sc.fit_transform(X_train)\n",
        "X_test_scaled = sc.fit_transform(X_test)"
      ]
    },
    {
      "cell_type": "markdown",
      "metadata": {
        "id": "-k6z_upCTzt8"
      },
      "source": [
        "##Normalisation"
      ]
    },
    {
      "cell_type": "code",
      "execution_count": 13,
      "metadata": {
        "id": "3Dov-LYjT1yL"
      },
      "outputs": [],
      "source": [
        "from sklearn.preprocessing import Normalizer\n",
        "nl_1 = Normalizer()\n",
        "\n",
        "X_train_normal = nl_1.fit_transform(X_train)\n",
        "X_test_normal = nl_1.transform(X_test)"
      ]
    },
    {
      "cell_type": "markdown",
      "source": [
        "#MODELS"
      ],
      "metadata": {
        "id": "4AB8QyH8EIVF"
      }
    },
    {
      "cell_type": "code",
      "source": [
        "import numpy as np\n",
        "import pandas as pd\n",
        "from sklearn.model_selection import train_test_split, GridSearchCV\n",
        "from sklearn.preprocessing import StandardScaler\n",
        "from sklearn.linear_model import LogisticRegression\n",
        "from sklearn.neighbors import KNeighborsClassifier\n",
        "from sklearn.svm import SVC\n",
        "from sklearn.tree import DecisionTreeClassifier\n",
        "from sklearn.ensemble import RandomForestClassifier, GradientBoostingClassifier, AdaBoostClassifier, BaggingClassifier\n",
        "from sklearn.naive_bayes import GaussianNB\n",
        "from sklearn.discriminant_analysis import LinearDiscriminantAnalysis, QuadraticDiscriminantAnalysis\n",
        "from sklearn.neural_network import MLPClassifier\n",
        "from sklearn.gaussian_process import GaussianProcessClassifier\n",
        "from sklearn.gaussian_process.kernels import RBF\n",
        "from sklearn.dummy import DummyClassifier\n",
        "from sklearn.metrics import accuracy_score, precision_score, recall_score, f1_score, classification_report"
      ],
      "metadata": {
        "id": "6uyDhmv7EM-Q"
      },
      "execution_count": 14,
      "outputs": []
    },
    {
      "cell_type": "code",
      "source": [
        "# Function to print evaluation metrics\n",
        "def print_metrics(y_true, y_pred):\n",
        "    accuracy = accuracy_score(y_true, y_pred)\n",
        "    precision_micro = precision_score(y_true, y_pred, average='micro')\n",
        "    recall_micro = recall_score(y_true, y_pred, average='micro')\n",
        "    f1_micro = f1_score(y_true, y_pred, average='micro')\n",
        "\n",
        "    precision_macro = precision_score(y_true, y_pred, average='macro')\n",
        "    recall_macro = recall_score(y_true, y_pred, average='macro')\n",
        "    f1_macro = f1_score(y_true, y_pred, average='macro')\n",
        "\n",
        "    precision_weighted = precision_score(y_true, y_pred, average='weighted')\n",
        "    recall_weighted = recall_score(y_true, y_pred, average='weighted')\n",
        "    f1_weighted = f1_score(y_true, y_pred, average='weighted')\n",
        "\n",
        "    print(f\"Accuracy: {accuracy:.10f}\")\n",
        "    print(\"\\nMicro-average:\")\n",
        "    print(f\"Precision: {precision_micro:.10f}\")\n",
        "    print(f\"Recall: {recall_micro:.10f}\")\n",
        "    print(f\"F1 Score: {f1_micro:.10f}\")\n",
        "\n",
        "    print(\"\\nMacro-average:\")\n",
        "    print(f\"Precision: {precision_macro:.10f}\")\n",
        "    print(f\"Recall: {recall_macro:.10f}\")\n",
        "    print(f\"F1 Score: {f1_macro:.10f}\")\n",
        "\n",
        "    print(\"\\nWeighted-average:\")\n",
        "    print(f\"Precision: {precision_weighted:.10f}\")\n",
        "    print(f\"Recall: {recall_weighted:.10f}\")\n",
        "    print(f\"F1 Score: {f1_weighted:.10f}\")"
      ],
      "metadata": {
        "id": "gOfolEWpFI_x"
      },
      "execution_count": 15,
      "outputs": []
    },
    {
      "cell_type": "code",
      "source": [
        "import warnings\n",
        "warnings.filterwarnings(\"ignore\")"
      ],
      "metadata": {
        "id": "hPOAOZbrF2ok"
      },
      "execution_count": 16,
      "outputs": []
    },
    {
      "cell_type": "markdown",
      "source": [
        "###Logistic Regression"
      ],
      "metadata": {
        "id": "j_rfrqF8EmtA"
      }
    },
    {
      "cell_type": "code",
      "source": [
        "lr = LogisticRegression()\n",
        "lr_params = {\n",
        "    'penalty': ['l1', 'l2'],\n",
        "    'C': [0.001, 0.01, 0.1, 1, 10, 100, 1000],\n",
        "    'solver': ['newton-cg', 'lbfgs', 'liblinear', 'sag', 'saga'],\n",
        "    'max_iter': [50, 100, 200, 500, 1000],\n",
        "    'class_weight': [None, 'balanced'],\n",
        "    'random_state': [42]\n",
        "}\n",
        "grid_lr = GridSearchCV(lr, lr_params, cv=5)\n",
        "grid_lr.fit(X_train_scaled, y_train)\n",
        "y_pred_lr = grid_lr.predict(X_test_scaled)\n",
        "\n",
        "# Print details of the Logistic Regression model\n",
        "print(\"Logistic Regression:\")\n",
        "print(\"Best Parameters:\", grid_lr.best_params_)\n",
        "print(\"Best Score:\", grid_lr.best_score_* 100 )\n",
        "print_metrics(y_test, y_pred_lr)\n",
        "print(\"\\n\")"
      ],
      "metadata": {
        "colab": {
          "base_uri": "https://localhost:8080/"
        },
        "id": "t056eX_qExo-",
        "outputId": "928d8029-10f9-481b-9072-86fc25632ca0"
      },
      "execution_count": 19,
      "outputs": [
        {
          "output_type": "stream",
          "name": "stdout",
          "text": [
            "Logistic Regression:\n",
            "Best Parameters: {'C': 10, 'class_weight': None, 'max_iter': 50, 'penalty': 'l1', 'random_state': 42, 'solver': 'liblinear'}\n",
            "Best Score: 37.05882352941177\n",
            "Accuracy: 0.3333333333\n",
            "\n",
            "Micro-average:\n",
            "Precision: 0.3333333333\n",
            "Recall: 0.3333333333\n",
            "F1 Score: 0.3333333333\n",
            "\n",
            "Macro-average:\n",
            "Precision: 0.2722222222\n",
            "Recall: 0.3166666667\n",
            "F1 Score: 0.2888888889\n",
            "\n",
            "Weighted-average:\n",
            "Precision: 0.3031746032\n",
            "Recall: 0.3333333333\n",
            "F1 Score: 0.3132275132\n",
            "\n",
            "\n"
          ]
        }
      ]
    },
    {
      "cell_type": "markdown",
      "source": [
        "##KNeighbors"
      ],
      "metadata": {
        "id": "Xy1_xmiTH6J6"
      }
    },
    {
      "cell_type": "code",
      "source": [
        "knn = KNeighborsClassifier()\n",
        "knn_params = {\n",
        "    'n_neighbors': [3, 5, 7, 9, 11, 15, 20],\n",
        "    'weights': ['uniform', 'distance'],\n",
        "    'algorithm': ['auto', 'ball_tree', 'kd_tree', 'brute'],\n",
        "    'leaf_size': [30, 40, 50, 60],\n",
        "    'p': [1, 2]\n",
        "}\n",
        "grid_knn = GridSearchCV(knn, knn_params, cv=5)\n",
        "grid_knn.fit(X_train_scaled, y_train)\n",
        "y_pred_knn = grid_knn.predict(X_test_scaled)\n",
        "\n",
        "# Print details of the k-Nearest Neighbors model\n",
        "print(\"k-Nearest Neighbors:\")\n",
        "print(\"Best Parameters:\", grid_knn.best_params_)\n",
        "print(\"Best Score:\", grid_knn.best_score_)\n",
        "print_metrics(y_test, y_pred_knn)\n",
        "print(\"\\n\")"
      ],
      "metadata": {
        "colab": {
          "base_uri": "https://localhost:8080/"
        },
        "id": "A5Ml7AJtID4m",
        "outputId": "d8bb316d-1d4d-4ea8-bc85-9c88a56f5d8e"
      },
      "execution_count": null,
      "outputs": [
        {
          "output_type": "stream",
          "name": "stdout",
          "text": [
            "k-Nearest Neighbors:\n",
            "Best Parameters: {'algorithm': 'auto', 'leaf_size': 30, 'n_neighbors': 3, 'p': 1, 'weights': 'distance'}\n",
            "Best Score: 0.7161764705882353\n",
            "Accuracy: 0.4761904762\n",
            "\n",
            "Micro-average:\n",
            "Precision: 0.4761904762\n",
            "Recall: 0.4761904762\n",
            "F1 Score: 0.4761904762\n",
            "\n",
            "Macro-average:\n",
            "Precision: 0.4796296296\n",
            "Recall: 0.4250000000\n",
            "F1 Score: 0.3942307692\n",
            "\n",
            "Weighted-average:\n",
            "Precision: 0.5449735450\n",
            "Recall: 0.4761904762\n",
            "F1 Score: 0.4434065934\n",
            "\n",
            "\n"
          ]
        }
      ]
    },
    {
      "cell_type": "markdown",
      "source": [
        "##SVC"
      ],
      "metadata": {
        "id": "tljNpWWOIHAg"
      }
    },
    {
      "cell_type": "code",
      "source": [
        "svm = SVC()\n",
        "svm_params = {\n",
        "    'C': [0.1, 1, 10, 100, 1000],\n",
        "    'kernel': ['linear', 'rbf', 'poly', 'sigmoid'],\n",
        "    'gamma': ['scale', 'auto', 0.1, 1, 10, 100],\n",
        "    'degree': [2, 3, 4],\n",
        "    'coef0': [0.0, 0.5, 1.0]\n",
        "}\n",
        "\n",
        "grid_svm = GridSearchCV(svm, svm_params, cv=5)\n",
        "grid_svm.fit(X_train_scaled, y_train)\n",
        "y_pred_svm = grid_svm.predict(X_test_scaled)\n",
        "\n",
        "# Print details of the Support Vector Machines model\n",
        "print(\"Support Vector Machines:\")\n",
        "print(\"Best Parameters:\", grid_svm.best_params_)\n",
        "print(\"Best Score:\", grid_svm.best_score_)\n",
        "print_metrics(y_test, y_pred_svm)\n",
        "print(\"\\n\")\n"
      ],
      "metadata": {
        "id": "Tu9EgGysIKrQ",
        "colab": {
          "base_uri": "https://localhost:8080/"
        },
        "outputId": "9efc8e25-64e7-4124-ed8b-1cc92cc2f10e"
      },
      "execution_count": 17,
      "outputs": [
        {
          "output_type": "stream",
          "name": "stdout",
          "text": [
            "Support Vector Machines:\n",
            "Best Parameters: {'C': 1, 'coef0': 0.0, 'degree': 2, 'gamma': 100, 'kernel': 'rbf'}\n",
            "Best Score: 0.7522058823529412\n",
            "Accuracy: 0.2380952381\n",
            "\n",
            "Micro-average:\n",
            "Precision: 0.2380952381\n",
            "Recall: 0.2380952381\n",
            "F1 Score: 0.2380952381\n",
            "\n",
            "Macro-average:\n",
            "Precision: 0.0396825397\n",
            "Recall: 0.1666666667\n",
            "F1 Score: 0.0641025641\n",
            "\n",
            "Weighted-average:\n",
            "Precision: 0.0566893424\n",
            "Recall: 0.2380952381\n",
            "F1 Score: 0.0915750916\n",
            "\n",
            "\n"
          ]
        }
      ]
    },
    {
      "cell_type": "markdown",
      "source": [
        "##Decision Trees"
      ],
      "metadata": {
        "id": "Yfps_CzQIR3K"
      }
    },
    {
      "cell_type": "code",
      "source": [
        "dt = DecisionTreeClassifier()\n",
        "dt_params = {\n",
        "    'criterion': ['gini', 'entropy'],\n",
        "    'splitter': ['best', 'random'],\n",
        "    'max_depth': [None, 5, 10, 20, 30, 50, 100],\n",
        "    'min_samples_split': [2, 5, 10, 20, 30, 50],\n",
        "    'min_samples_leaf': [1, 2, 4, 8, 10, 20]\n",
        "}\n",
        "\n",
        "grid_dt = GridSearchCV(dt, dt_params, cv=5)\n",
        "grid_dt.fit(X_train, y_train)\n",
        "y_pred_dt = grid_dt.predict(X_test)\n",
        "\n",
        "# Print details of the Decision Trees model\n",
        "print(\"Decision Trees:\")\n",
        "print(\"Best Parameters:\", grid_dt.best_params_)\n",
        "print(\"Best Score:\", grid_dt.best_score_)\n",
        "print_metrics(y_test, y_pred_dt)\n",
        "print(\"\\n\")\n"
      ],
      "metadata": {
        "id": "73SS3jqsIZme",
        "colab": {
          "base_uri": "https://localhost:8080/"
        },
        "outputId": "4051fc1f-ec64-465c-ce51-0c0ac64b7952"
      },
      "execution_count": 18,
      "outputs": [
        {
          "output_type": "stream",
          "name": "stdout",
          "text": [
            "Decision Trees:\n",
            "Best Parameters: {'criterion': 'gini', 'max_depth': 50, 'min_samples_leaf': 1, 'min_samples_split': 2, 'splitter': 'random'}\n",
            "Best Score: 0.6911764705882353\n",
            "Accuracy: 0.7142857143\n",
            "\n",
            "Micro-average:\n",
            "Precision: 0.7142857143\n",
            "Recall: 0.7142857143\n",
            "F1 Score: 0.7142857143\n",
            "\n",
            "Macro-average:\n",
            "Precision: 0.7444444444\n",
            "Recall: 0.8000000000\n",
            "F1 Score: 0.6842592593\n",
            "\n",
            "Weighted-average:\n",
            "Precision: 0.8269841270\n",
            "Recall: 0.7142857143\n",
            "F1 Score: 0.6748677249\n",
            "\n",
            "\n"
          ]
        }
      ]
    },
    {
      "cell_type": "markdown",
      "source": [
        "##Random Forest"
      ],
      "metadata": {
        "id": "d_Enr1z9IbOV"
      }
    },
    {
      "cell_type": "code",
      "source": [
        "rf = RandomForestClassifier()\n",
        "rf_params = {\n",
        "    'n_estimators': [50, 100, 200, 400, 800],\n",
        "    'criterion': ['gini'],\n",
        "    'max_depth': [None, 5, 10, 20,50],\n",
        "    'min_samples_leaf': [1, 2, 4, 8]\n",
        "}\n",
        "grid_rf = GridSearchCV(rf, rf_params, cv=5)\n",
        "grid_rf.fit(X_train, y_train)\n",
        "y_pred_rf = grid_rf.predict(X_test)\n",
        "\n",
        "# Print details of the Random Forest model\n",
        "print(\"Random Forest:\")\n",
        "print(\"Best Parameters:\", grid_rf.best_params_)\n",
        "print(\"Best Score:\", grid_rf.best_score_)\n",
        "print_metrics(y_test, y_pred_rf)\n",
        "print(\"\\n\")"
      ],
      "metadata": {
        "colab": {
          "base_uri": "https://localhost:8080/"
        },
        "id": "nKaz6AemIhmg",
        "outputId": "e5d839ff-7071-4be8-cec2-0ee316d252d7"
      },
      "execution_count": 21,
      "outputs": [
        {
          "output_type": "stream",
          "name": "stdout",
          "text": [
            "Random Forest:\n",
            "Best Parameters: {'criterion': 'gini', 'max_depth': 50, 'min_samples_leaf': 1, 'n_estimators': 100}\n",
            "Best Score: 0.7036764705882353\n",
            "Accuracy: 0.6666666667\n",
            "\n",
            "Micro-average:\n",
            "Precision: 0.6666666667\n",
            "Recall: 0.6666666667\n",
            "F1 Score: 0.6666666667\n",
            "\n",
            "Macro-average:\n",
            "Precision: 0.6285714286\n",
            "Recall: 0.7666666667\n",
            "F1 Score: 0.6562650313\n",
            "\n",
            "Weighted-average:\n",
            "Precision: 0.5850340136\n",
            "Recall: 0.6666666667\n",
            "F1 Score: 0.5884525527\n",
            "\n",
            "\n"
          ]
        }
      ]
    },
    {
      "cell_type": "markdown",
      "source": [
        "##Gradient Boosting"
      ],
      "metadata": {
        "id": "APxfPWWGJl-z"
      }
    },
    {
      "cell_type": "code",
      "source": [
        "# gb = GradientBoostingClassifier()\n",
        "# gb_params = {\n",
        "#     'n_estimators': [50, 100, 200, 400, 800],\n",
        "#     'learning_rate': [0.001, 0.01, 0.1, 0.2, 0.5],\n",
        "#     'max_depth': [3, 5, 7, 9],\n",
        "#     'min_samples_split': [2, 5, 10, 20, 30],\n",
        "#     'min_samples_leaf': [1, 2, 4, 8],\n",
        "# }\n",
        "# grid_gb = GridSearchCV(gb, gb_params, cv=5)\n",
        "# grid_gb.fit(X_train, y_train)\n",
        "# y_pred_gb = grid_gb.predict(X_test)\n",
        "\n",
        "# # Print details of the Gradient Boosting model\n",
        "# print(\"Gradient Boosting:\")\n",
        "# print(\"Best Parameters:\", grid_gb.best_params_)\n",
        "# print(\"Best Score:\", grid_gb.best_score_)\n",
        "# print_metrics(y_test, y_pred_gb)\n",
        "# print(\"\\n\")"
      ],
      "metadata": {
        "id": "_2KeaQAEKPx2"
      },
      "execution_count": 23,
      "outputs": []
    },
    {
      "cell_type": "markdown",
      "source": [
        "##AdaBoost"
      ],
      "metadata": {
        "id": "mVFRyC0QKRxY"
      }
    },
    {
      "cell_type": "code",
      "source": [
        "ada = AdaBoostClassifier()\n",
        "ada_params = {\n",
        "    'n_estimators': [50, 100, 200, 400, 800],\n",
        "    'learning_rate': [0.001, 0.01, 0.1, 0.2, 0.5],\n",
        "}\n",
        "grid_ada = GridSearchCV(ada, ada_params, cv=5)\n",
        "grid_ada.fit(X_train, y_train)\n",
        "y_pred_ada = grid_ada.predict(X_test)\n",
        "\n",
        "# Print details of the AdaBoost model\n",
        "print(\"AdaBoost:\")\n",
        "print(\"Best Parameters:\", grid_ada.best_params_)\n",
        "print(\"Best Score:\", grid_ada.best_score_)\n",
        "print_metrics(y_test, y_pred_ada)\n",
        "print(\"\\n\")\n"
      ],
      "metadata": {
        "id": "Hu3pVoI5KUzc",
        "colab": {
          "base_uri": "https://localhost:8080/"
        },
        "outputId": "20edb354-33d2-445d-b65f-66a8935e576b"
      },
      "execution_count": 24,
      "outputs": [
        {
          "output_type": "stream",
          "name": "stdout",
          "text": [
            "AdaBoost:\n",
            "Best Parameters: {'learning_rate': 0.5, 'n_estimators': 50}\n",
            "Best Score: 0.41911764705882354\n",
            "Accuracy: 0.3809523810\n",
            "\n",
            "Micro-average:\n",
            "Precision: 0.3809523810\n",
            "Recall: 0.3809523810\n",
            "F1 Score: 0.3809523810\n",
            "\n",
            "Macro-average:\n",
            "Precision: 0.3809523810\n",
            "Recall: 0.3583333333\n",
            "F1 Score: 0.3608706109\n",
            "\n",
            "Weighted-average:\n",
            "Precision: 0.4115646259\n",
            "Recall: 0.3809523810\n",
            "F1 Score: 0.3859685288\n",
            "\n",
            "\n"
          ]
        }
      ]
    },
    {
      "cell_type": "markdown",
      "source": [
        "##BaggingClassifier"
      ],
      "metadata": {
        "id": "FQ4zpjXmKXqC"
      }
    },
    {
      "cell_type": "code",
      "source": [
        "bag = BaggingClassifier()\n",
        "bag_params = {\n",
        "    'n_estimators': [50, 100, 200, 400, 800],\n",
        "    'max_samples': [0.1, 0.5, 1.0],\n",
        "    'max_features': [0.1, 0.5, 1.0],\n",
        "}\n",
        "grid_bag = GridSearchCV(bag, bag_params, cv=5)\n",
        "grid_bag.fit(X_train, y_train)\n",
        "y_pred_bag = grid_bag.predict(X_test)\n",
        "\n",
        "# Print details of the Bagging model\n",
        "print(\"Bagging:\")\n",
        "print(\"Best Parameters:\", grid_bag.best_params_)\n",
        "print(\"Best Score:\", grid_bag.best_score_)\n",
        "print_metrics(y_test, y_pred_bag)\n",
        "print(\"\\n\")"
      ],
      "metadata": {
        "id": "8cRBb8HIKdH6",
        "colab": {
          "base_uri": "https://localhost:8080/"
        },
        "outputId": "80d204f4-0096-4000-c138-9345846861bd"
      },
      "execution_count": 25,
      "outputs": [
        {
          "output_type": "stream",
          "name": "stdout",
          "text": [
            "Bagging:\n",
            "Best Parameters: {'max_features': 0.5, 'max_samples': 0.5, 'n_estimators': 200}\n",
            "Best Score: 0.6911764705882353\n",
            "Accuracy: 0.6190476190\n",
            "\n",
            "Micro-average:\n",
            "Precision: 0.6190476190\n",
            "Recall: 0.6190476190\n",
            "F1 Score: 0.6190476190\n",
            "\n",
            "Macro-average:\n",
            "Precision: 0.5416666667\n",
            "Recall: 0.7250000000\n",
            "F1 Score: 0.5777777778\n",
            "\n",
            "Weighted-average:\n",
            "Precision: 0.5555555556\n",
            "Recall: 0.6190476190\n",
            "F1 Score: 0.5484126984\n",
            "\n",
            "\n"
          ]
        }
      ]
    },
    {
      "cell_type": "markdown",
      "source": [
        "##Gaussian Naive Bayes"
      ],
      "metadata": {
        "id": "XhpLleYfKg1u"
      }
    },
    {
      "cell_type": "code",
      "source": [
        "gnb = GaussianNB()\n",
        "gnb.fit(X_train, y_train)\n",
        "y_pred_gnb = gnb.predict(X_test)\n",
        "\n",
        "# Print details of the Gaussian Naive Bayes model\n",
        "print(\"Gaussian Naive Bayes:\")\n",
        "print_metrics(y_test, y_pred_gnb)\n",
        "print(\"\\n\")"
      ],
      "metadata": {
        "id": "bK0nLQuXKkbH",
        "colab": {
          "base_uri": "https://localhost:8080/"
        },
        "outputId": "8cc081a9-6d52-424f-c055-283755836055"
      },
      "execution_count": 26,
      "outputs": [
        {
          "output_type": "stream",
          "name": "stdout",
          "text": [
            "Gaussian Naive Bayes:\n",
            "Accuracy: 0.2857142857\n",
            "\n",
            "Micro-average:\n",
            "Precision: 0.2857142857\n",
            "Recall: 0.2857142857\n",
            "F1 Score: 0.2857142857\n",
            "\n",
            "Macro-average:\n",
            "Precision: 0.1500000000\n",
            "Recall: 0.2333333333\n",
            "F1 Score: 0.1693121693\n",
            "\n",
            "Weighted-average:\n",
            "Precision: 0.1952380952\n",
            "Recall: 0.2857142857\n",
            "F1 Score: 0.2146636432\n",
            "\n",
            "\n"
          ]
        }
      ]
    },
    {
      "cell_type": "markdown",
      "source": [
        "##LDA"
      ],
      "metadata": {
        "id": "N2a8p_f5Kr3J"
      }
    },
    {
      "cell_type": "code",
      "source": [
        "lda = LinearDiscriminantAnalysis()\n",
        "lda.fit(X_train, y_train)\n",
        "y_pred_lda = lda.predict(X_test)\n",
        "\n",
        "# Print details of the Linear Discriminant Analysis model\n",
        "print(\"Linear Discriminant Analysis:\")\n",
        "print_metrics(y_test, y_pred_lda)\n",
        "print(\"\\n\")"
      ],
      "metadata": {
        "id": "pRK5H7KuKu0O",
        "colab": {
          "base_uri": "https://localhost:8080/"
        },
        "outputId": "4aeabf02-5d91-4044-e576-8c4cd1b19184"
      },
      "execution_count": 27,
      "outputs": [
        {
          "output_type": "stream",
          "name": "stdout",
          "text": [
            "Linear Discriminant Analysis:\n",
            "Accuracy: 0.3333333333\n",
            "\n",
            "Micro-average:\n",
            "Precision: 0.3333333333\n",
            "Recall: 0.3333333333\n",
            "F1 Score: 0.3333333333\n",
            "\n",
            "Macro-average:\n",
            "Precision: 0.2492063492\n",
            "Recall: 0.2750000000\n",
            "F1 Score: 0.2528138528\n",
            "\n",
            "Weighted-average:\n",
            "Precision: 0.3038548753\n",
            "Recall: 0.3333333333\n",
            "F1 Score: 0.3079777365\n",
            "\n",
            "\n"
          ]
        }
      ]
    },
    {
      "cell_type": "markdown",
      "source": [
        "##Quadratic Discriminant Analysis"
      ],
      "metadata": {
        "id": "3nklNG1RKxAU"
      }
    },
    {
      "cell_type": "code",
      "source": [
        "qda = QuadraticDiscriminantAnalysis()\n",
        "qda.fit(X_train, y_train)\n",
        "y_pred_qda = qda.predict(X_test)\n",
        "\n",
        "# Print details of the Quadratic Discriminant Analysis model\n",
        "print(\"Quadratic Discriminant Analysis:\")\n",
        "print_metrics(y_test, y_pred_qda)\n",
        "print(\"\\n\")\n"
      ],
      "metadata": {
        "id": "lj1YZNRdKzpn",
        "colab": {
          "base_uri": "https://localhost:8080/"
        },
        "outputId": "485c3480-e47f-4465-990f-28871cc0f977"
      },
      "execution_count": 28,
      "outputs": [
        {
          "output_type": "stream",
          "name": "stdout",
          "text": [
            "Quadratic Discriminant Analysis:\n",
            "Accuracy: 0.0476190476\n",
            "\n",
            "Micro-average:\n",
            "Precision: 0.0476190476\n",
            "Recall: 0.0476190476\n",
            "F1 Score: 0.0476190476\n",
            "\n",
            "Macro-average:\n",
            "Precision: 0.0079365079\n",
            "Recall: 0.1666666667\n",
            "F1 Score: 0.0151515152\n",
            "\n",
            "Weighted-average:\n",
            "Precision: 0.0022675737\n",
            "Recall: 0.0476190476\n",
            "F1 Score: 0.0043290043\n",
            "\n",
            "\n"
          ]
        }
      ]
    },
    {
      "cell_type": "markdown",
      "source": [
        "##Multi-layer Perceptron"
      ],
      "metadata": {
        "id": "PkZ-0Z7AK3wM"
      }
    },
    {
      "cell_type": "code",
      "source": [
        "mlp = MLPClassifier()\n",
        "mlp_params = {\n",
        "    'hidden_layer_sizes': [(100,), (50, 50), (100, 50), (100, 100)],\n",
        "    'activation': ['relu', 'tanh', 'logistic'],\n",
        "    'solver': ['adam', 'sgd'],\n",
        "    'learning_rate': ['constant', 'invscaling', 'adaptive'],\n",
        "    'max_iter': [100, 200, 400, 800]\n",
        "}\n",
        "grid_mlp = GridSearchCV(mlp, mlp_params, cv=5)\n",
        "grid_mlp.fit(X_train_scaled, y_train)\n",
        "y_pred_mlp = grid_mlp.predict(X_test_scaled)\n",
        "\n",
        "# Print details of the Multi-layer Perceptron model\n",
        "print(\"Multi-layer Perceptron (Neural Network):\")\n",
        "print(\"Best Parameters:\", grid_mlp.best_params_)\n",
        "print(\"Best Score:\", grid_mlp.best_score_)\n",
        "print_metrics(y_test, y_pred_mlp)\n",
        "print(\"\\n\")"
      ],
      "metadata": {
        "id": "5l7lUy5mK4_f",
        "colab": {
          "base_uri": "https://localhost:8080/"
        },
        "outputId": "0595a8d6-9c76-4c72-fb6d-69fa573941c9"
      },
      "execution_count": 29,
      "outputs": [
        {
          "output_type": "stream",
          "name": "stdout",
          "text": [
            "Multi-layer Perceptron (Neural Network):\n",
            "Best Parameters: {'activation': 'logistic', 'hidden_layer_sizes': (100, 100), 'learning_rate': 'invscaling', 'max_iter': 800, 'solver': 'adam'}\n",
            "Best Score: 0.7161764705882353\n",
            "Accuracy: 0.6190476190\n",
            "\n",
            "Micro-average:\n",
            "Precision: 0.6190476190\n",
            "Recall: 0.6190476190\n",
            "F1 Score: 0.6190476190\n",
            "\n",
            "Macro-average:\n",
            "Precision: 0.6055555556\n",
            "Recall: 0.7166666667\n",
            "F1 Score: 0.6044973545\n",
            "\n",
            "Weighted-average:\n",
            "Precision: 0.6603174603\n",
            "Recall: 0.6190476190\n",
            "F1 Score: 0.6035525321\n",
            "\n",
            "\n"
          ]
        }
      ]
    },
    {
      "cell_type": "markdown",
      "source": [
        "##Gaussian Process Classifier"
      ],
      "metadata": {
        "id": "ztF73s-EK_Z8"
      }
    },
    {
      "cell_type": "code",
      "source": [
        "gpc = GaussianProcessClassifier()\n",
        "gpc_params = {\n",
        "    'kernel': [1.0 * RBF(), 2.0 * RBF()],\n",
        "}\n",
        "grid_gpc = GridSearchCV(gpc, gpc_params, cv=5)\n",
        "grid_gpc.fit(X_train_scaled, y_train)\n",
        "y_pred_gpc = grid_gpc.predict(X_test_scaled)\n",
        "\n",
        "# Print details of the Gaussian Process Classifier model\n",
        "print(\"Gaussian Process Classifier:\")\n",
        "print(\"Best Parameters:\", grid_gpc.best_params_)\n",
        "print(\"Best Score:\", grid_gpc.best_score_)\n",
        "print_metrics(y_test, y_pred_gpc)\n",
        "print(\"\\n\")\n"
      ],
      "metadata": {
        "id": "8dx0SZuDLCAs",
        "colab": {
          "base_uri": "https://localhost:8080/"
        },
        "outputId": "1a32a750-7214-4bf5-da09-61805e7837c2"
      },
      "execution_count": 30,
      "outputs": [
        {
          "output_type": "stream",
          "name": "stdout",
          "text": [
            "Gaussian Process Classifier:\n",
            "Best Parameters: {'kernel': 1**2 * RBF(length_scale=1)}\n",
            "Best Score: 0.39191176470588235\n",
            "Accuracy: 0.1428571429\n",
            "\n",
            "Micro-average:\n",
            "Precision: 0.1428571429\n",
            "Recall: 0.1428571429\n",
            "F1 Score: 0.1428571429\n",
            "\n",
            "Macro-average:\n",
            "Precision: 0.0794871795\n",
            "Recall: 0.2333333333\n",
            "F1 Score: 0.0904761905\n",
            "\n",
            "Weighted-average:\n",
            "Precision: 0.0989010989\n",
            "Recall: 0.1428571429\n",
            "F1 Score: 0.1020408163\n",
            "\n",
            "\n"
          ]
        }
      ]
    },
    {
      "cell_type": "markdown",
      "source": [
        "##Dummy Classifier"
      ],
      "metadata": {
        "id": "sPmlwdtYLFho"
      }
    },
    {
      "cell_type": "code",
      "source": [
        "dummy = DummyClassifier(strategy=\"most_frequent\")\n",
        "dummy.fit(X_train, y_train)\n",
        "y_pred_dummy = dummy.predict(X_test)\n",
        "\n",
        "# Print details of the Dummy Classifier\n",
        "print(\"Dummy Classifier:\")\n",
        "print_metrics(y_test, y_pred_dummy)\n",
        "print(\"\\n\")"
      ],
      "metadata": {
        "id": "dApbCSt3LHsj",
        "colab": {
          "base_uri": "https://localhost:8080/"
        },
        "outputId": "2775385e-3607-4e45-89b8-8c3a412af604"
      },
      "execution_count": 31,
      "outputs": [
        {
          "output_type": "stream",
          "name": "stdout",
          "text": [
            "Dummy Classifier:\n",
            "Accuracy: 0.0476190476\n",
            "\n",
            "Micro-average:\n",
            "Precision: 0.0476190476\n",
            "Recall: 0.0476190476\n",
            "F1 Score: 0.0476190476\n",
            "\n",
            "Macro-average:\n",
            "Precision: 0.0079365079\n",
            "Recall: 0.1666666667\n",
            "F1 Score: 0.0151515152\n",
            "\n",
            "Weighted-average:\n",
            "Precision: 0.0022675737\n",
            "Recall: 0.0476190476\n",
            "F1 Score: 0.0043290043\n",
            "\n",
            "\n"
          ]
        }
      ]
    },
    {
      "cell_type": "markdown",
      "source": [
        "##Bagging Decision Trees"
      ],
      "metadata": {
        "id": "GaprvY9wL0-1"
      }
    },
    {
      "cell_type": "code",
      "source": [
        "bag_dt = BaggingClassifier(base_estimator=DecisionTreeClassifier())\n",
        "bag_dt_params = {\n",
        "    'n_estimators': [50, 100, 200, 400, 800],\n",
        "    'max_samples': [0.1, 0.5, 1.0],\n",
        "    'max_features': [0.1, 0.5, 1.0],\n",
        "}\n",
        "grid_bag_dt = GridSearchCV(bag_dt, bag_dt_params, cv=5)\n",
        "grid_bag_dt.fit(X_train, y_train)\n",
        "y_pred_bag_dt = grid_bag_dt.predict(X_test)\n",
        "\n",
        "# Print details of the Bagging Decision Trees model\n",
        "print(\"Bagging Decision Trees:\")\n",
        "print(\"Best Parameters:\", grid_bag_dt.best_params_)\n",
        "print(\"Best Score:\", grid_bag_dt.best_score_)\n",
        "print_metrics(y_test, y_pred_bag_dt)\n",
        "print(\"\\n\")"
      ],
      "metadata": {
        "id": "6BYlUJsEL42c",
        "colab": {
          "base_uri": "https://localhost:8080/"
        },
        "outputId": "f0ec7ac6-162c-4643-c389-17b464cfb939"
      },
      "execution_count": 32,
      "outputs": [
        {
          "output_type": "stream",
          "name": "stdout",
          "text": [
            "Bagging Decision Trees:\n",
            "Best Parameters: {'max_features': 0.5, 'max_samples': 1.0, 'n_estimators': 400}\n",
            "Best Score: 0.7036764705882353\n",
            "Accuracy: 0.6666666667\n",
            "\n",
            "Micro-average:\n",
            "Precision: 0.6666666667\n",
            "Recall: 0.6666666667\n",
            "F1 Score: 0.6666666667\n",
            "\n",
            "Macro-average:\n",
            "Precision: 0.5619047619\n",
            "Recall: 0.7666666667\n",
            "F1 Score: 0.6110269360\n",
            "\n",
            "Weighted-average:\n",
            "Precision: 0.5786848073\n",
            "Recall: 0.6666666667\n",
            "F1 Score: 0.5864117364\n",
            "\n",
            "\n"
          ]
        }
      ]
    },
    {
      "cell_type": "markdown",
      "source": [
        "##AdaBoost with Decision Trees"
      ],
      "metadata": {
        "id": "0c4C0O-EL9nj"
      }
    },
    {
      "cell_type": "code",
      "source": [
        "ada_dt = AdaBoostClassifier(base_estimator=DecisionTreeClassifier())\n",
        "ada_dt_params = {\n",
        "    'n_estimators': [50, 100, 200, 400, 800],\n",
        "    'learning_rate': [0.001, 0.01, 0.1, 0.2, 0.5],\n",
        "}\n",
        "grid_ada_dt = GridSearchCV(ada_dt, ada_dt_params, cv=5)\n",
        "grid_ada_dt.fit(X_train, y_train)\n",
        "y_pred_ada_dt = grid_ada_dt.predict(X_test)\n",
        "\n",
        "# Print details of the AdaBoost with Decision Trees model\n",
        "print(\"AdaBoost with Decision Trees:\")\n",
        "print(\"Best Parameters:\", grid_ada_dt.best_params_)\n",
        "print(\"Best Score:\", grid_ada_dt.best_score_)\n",
        "print_metrics(y_test, y_pred_ada_dt)\n",
        "print(\"\\n\")"
      ],
      "metadata": {
        "id": "JEv3HbpjL4rc",
        "colab": {
          "base_uri": "https://localhost:8080/"
        },
        "outputId": "5a1e50d1-94ae-47a4-8445-38d9089292b1"
      },
      "execution_count": 33,
      "outputs": [
        {
          "output_type": "stream",
          "name": "stdout",
          "text": [
            "AdaBoost with Decision Trees:\n",
            "Best Parameters: {'learning_rate': 0.01, 'n_estimators': 50}\n",
            "Best Score: 0.6786764705882353\n",
            "Accuracy: 0.7142857143\n",
            "\n",
            "Micro-average:\n",
            "Precision: 0.7142857143\n",
            "Recall: 0.7142857143\n",
            "F1 Score: 0.7142857143\n",
            "\n",
            "Macro-average:\n",
            "Precision: 0.8119047619\n",
            "Recall: 0.8000000000\n",
            "F1 Score: 0.7276936027\n",
            "\n",
            "Weighted-average:\n",
            "Precision: 0.8326530612\n",
            "Recall: 0.7142857143\n",
            "F1 Score: 0.6768879269\n",
            "\n",
            "\n"
          ]
        }
      ]
    },
    {
      "cell_type": "markdown",
      "source": [
        "##XGBoost"
      ],
      "metadata": {
        "id": "71YTglwdMe_m"
      }
    },
    {
      "cell_type": "code",
      "source": [
        "import xgboost as xgb\n",
        "y_train_reduced = y_train - 1\n",
        "y_test_reduced = y_test - 1\n",
        "\n",
        "# Rest of your code remains the same\n",
        "xgb_model = xgb.XGBClassifier()\n",
        "xgb_params = {\n",
        "    'max_depth': [3, 5, 7, 9],\n",
        "    'learning_rate': [0.001, 0.01, 0.1, 0.2, 0.5],\n",
        "    'n_estimators': [50, 100, 200, 400, 800]\n",
        "}\n",
        "grid_xgb = GridSearchCV(xgb_model, xgb_params, cv=5)\n",
        "grid_xgb.fit(X_train, y_train_reduced)\n",
        "y_pred_xgb = grid_xgb.predict(X_test)\n",
        "\n",
        "# Print details of the XGBoost model\n",
        "print(\"XGBoost:\")\n",
        "print(\"Best Parameters:\", grid_xgb.best_params_)\n",
        "print(\"Best Score:\", grid_xgb.best_score_)\n",
        "print_metrics(y_test_reduced, y_pred_xgb)\n",
        "print(\"\\n\")\n"
      ],
      "metadata": {
        "id": "33VcZqgzMhL5"
      },
      "execution_count": null,
      "outputs": []
    },
    {
      "cell_type": "markdown",
      "metadata": {
        "id": "fC__19aZ77Jk"
      },
      "source": [
        "##Catboost"
      ]
    },
    {
      "cell_type": "code",
      "execution_count": 26,
      "metadata": {
        "id": "ipX1td1GcUTn",
        "colab": {
          "base_uri": "https://localhost:8080/"
        },
        "outputId": "eef2a087-402d-4d76-c353-9d22e79242f7"
      },
      "outputs": [
        {
          "output_type": "stream",
          "name": "stdout",
          "text": [
            "Collecting catboost\n",
            "  Downloading catboost-1.2-cp310-cp310-manylinux2014_x86_64.whl (98.6 MB)\n",
            "\u001b[2K     \u001b[90m━━━━━━━━━━━━━━━━━━━━━━━━━━━━━━━━━━━━━━━━\u001b[0m \u001b[32m98.6/98.6 MB\u001b[0m \u001b[31m9.3 MB/s\u001b[0m eta \u001b[36m0:00:00\u001b[0m\n",
            "\u001b[?25hRequirement already satisfied: graphviz in /usr/local/lib/python3.10/dist-packages (from catboost) (0.20.1)\n",
            "Requirement already satisfied: matplotlib in /usr/local/lib/python3.10/dist-packages (from catboost) (3.7.1)\n",
            "Requirement already satisfied: numpy>=1.16.0 in /usr/local/lib/python3.10/dist-packages (from catboost) (1.22.4)\n",
            "Requirement already satisfied: pandas>=0.24 in /usr/local/lib/python3.10/dist-packages (from catboost) (1.5.3)\n",
            "Requirement already satisfied: scipy in /usr/local/lib/python3.10/dist-packages (from catboost) (1.10.1)\n",
            "Requirement already satisfied: plotly in /usr/local/lib/python3.10/dist-packages (from catboost) (5.13.1)\n",
            "Requirement already satisfied: six in /usr/local/lib/python3.10/dist-packages (from catboost) (1.16.0)\n",
            "Requirement already satisfied: python-dateutil>=2.8.1 in /usr/local/lib/python3.10/dist-packages (from pandas>=0.24->catboost) (2.8.2)\n",
            "Requirement already satisfied: pytz>=2020.1 in /usr/local/lib/python3.10/dist-packages (from pandas>=0.24->catboost) (2022.7.1)\n",
            "Requirement already satisfied: contourpy>=1.0.1 in /usr/local/lib/python3.10/dist-packages (from matplotlib->catboost) (1.1.0)\n",
            "Requirement already satisfied: cycler>=0.10 in /usr/local/lib/python3.10/dist-packages (from matplotlib->catboost) (0.11.0)\n",
            "Requirement already satisfied: fonttools>=4.22.0 in /usr/local/lib/python3.10/dist-packages (from matplotlib->catboost) (4.41.1)\n",
            "Requirement already satisfied: kiwisolver>=1.0.1 in /usr/local/lib/python3.10/dist-packages (from matplotlib->catboost) (1.4.4)\n",
            "Requirement already satisfied: packaging>=20.0 in /usr/local/lib/python3.10/dist-packages (from matplotlib->catboost) (23.1)\n",
            "Requirement already satisfied: pillow>=6.2.0 in /usr/local/lib/python3.10/dist-packages (from matplotlib->catboost) (9.4.0)\n",
            "Requirement already satisfied: pyparsing>=2.3.1 in /usr/local/lib/python3.10/dist-packages (from matplotlib->catboost) (3.1.0)\n",
            "Requirement already satisfied: tenacity>=6.2.0 in /usr/local/lib/python3.10/dist-packages (from plotly->catboost) (8.2.2)\n",
            "Installing collected packages: catboost\n",
            "Successfully installed catboost-1.2\n"
          ]
        }
      ],
      "source": [
        "!pip install catboost"
      ]
    },
    {
      "cell_type": "code",
      "execution_count": 27,
      "metadata": {
        "id": "V4jtpYTHhNgW",
        "colab": {
          "base_uri": "https://localhost:8080/"
        },
        "outputId": "98cb65be-17a1-42a0-cf66-6c7bc64b0270"
      },
      "outputs": [
        {
          "output_type": "stream",
          "name": "stdout",
          "text": [
            "Learning rate set to 0.069607\n",
            "0:\tlearn: 1.7655776\ttotal: 46.8ms\tremaining: 46.8s\n",
            "1:\tlearn: 1.7331391\ttotal: 48ms\tremaining: 24s\n",
            "2:\tlearn: 1.7033259\ttotal: 49.3ms\tremaining: 16.4s\n",
            "3:\tlearn: 1.6749982\ttotal: 50.4ms\tremaining: 12.5s\n",
            "4:\tlearn: 1.6431073\ttotal: 51.5ms\tremaining: 10.2s\n",
            "5:\tlearn: 1.6300674\ttotal: 52.1ms\tremaining: 8.64s\n",
            "6:\tlearn: 1.6050443\ttotal: 53.2ms\tremaining: 7.54s\n",
            "7:\tlearn: 1.5812724\ttotal: 54.2ms\tremaining: 6.72s\n",
            "8:\tlearn: 1.5523974\ttotal: 55.3ms\tremaining: 6.08s\n",
            "9:\tlearn: 1.5282384\ttotal: 56.4ms\tremaining: 5.58s\n",
            "10:\tlearn: 1.5004696\ttotal: 57.4ms\tremaining: 5.16s\n",
            "11:\tlearn: 1.4774192\ttotal: 58.5ms\tremaining: 4.81s\n",
            "12:\tlearn: 1.4504431\ttotal: 59.6ms\tremaining: 4.52s\n",
            "13:\tlearn: 1.4303719\ttotal: 60.6ms\tremaining: 4.27s\n",
            "14:\tlearn: 1.4116601\ttotal: 61.7ms\tremaining: 4.05s\n",
            "15:\tlearn: 1.3900776\ttotal: 62.7ms\tremaining: 3.85s\n",
            "16:\tlearn: 1.3704523\ttotal: 63.7ms\tremaining: 3.68s\n",
            "17:\tlearn: 1.3559180\ttotal: 64.8ms\tremaining: 3.54s\n",
            "18:\tlearn: 1.3359475\ttotal: 65.9ms\tremaining: 3.4s\n",
            "19:\tlearn: 1.3150621\ttotal: 66.9ms\tremaining: 3.28s\n",
            "20:\tlearn: 1.2952531\ttotal: 67.9ms\tremaining: 3.17s\n",
            "21:\tlearn: 1.2790498\ttotal: 69ms\tremaining: 3.07s\n",
            "22:\tlearn: 1.2597051\ttotal: 70.1ms\tremaining: 2.98s\n",
            "23:\tlearn: 1.2427821\ttotal: 70.6ms\tremaining: 2.87s\n",
            "24:\tlearn: 1.2258993\ttotal: 71.6ms\tremaining: 2.79s\n",
            "25:\tlearn: 1.2101702\ttotal: 72.7ms\tremaining: 2.72s\n",
            "26:\tlearn: 1.1975922\ttotal: 73.7ms\tremaining: 2.66s\n",
            "27:\tlearn: 1.1819544\ttotal: 74.8ms\tremaining: 2.6s\n",
            "28:\tlearn: 1.1635987\ttotal: 75.8ms\tremaining: 2.54s\n",
            "29:\tlearn: 1.1493875\ttotal: 77ms\tremaining: 2.49s\n",
            "30:\tlearn: 1.1314910\ttotal: 78.1ms\tremaining: 2.44s\n",
            "31:\tlearn: 1.1176668\ttotal: 79.1ms\tremaining: 2.39s\n",
            "32:\tlearn: 1.1029211\ttotal: 80.2ms\tremaining: 2.35s\n",
            "33:\tlearn: 1.0886996\ttotal: 81.2ms\tremaining: 2.31s\n",
            "34:\tlearn: 1.0755802\ttotal: 82.2ms\tremaining: 2.27s\n",
            "35:\tlearn: 1.0615485\ttotal: 82.9ms\tremaining: 2.22s\n",
            "36:\tlearn: 1.0475414\ttotal: 84ms\tremaining: 2.19s\n",
            "37:\tlearn: 1.0318422\ttotal: 85ms\tremaining: 2.15s\n",
            "38:\tlearn: 1.0194759\ttotal: 86.2ms\tremaining: 2.12s\n",
            "39:\tlearn: 1.0071491\ttotal: 87.1ms\tremaining: 2.09s\n",
            "40:\tlearn: 0.9967765\ttotal: 88.2ms\tremaining: 2.06s\n",
            "41:\tlearn: 0.9855952\ttotal: 89.2ms\tremaining: 2.03s\n",
            "42:\tlearn: 0.9764141\ttotal: 90.2ms\tremaining: 2.01s\n",
            "43:\tlearn: 0.9672654\ttotal: 90.9ms\tremaining: 1.98s\n",
            "44:\tlearn: 0.9568645\ttotal: 92ms\tremaining: 1.95s\n",
            "45:\tlearn: 0.9431386\ttotal: 93ms\tremaining: 1.93s\n",
            "46:\tlearn: 0.9321893\ttotal: 94ms\tremaining: 1.91s\n",
            "47:\tlearn: 0.9228086\ttotal: 95.1ms\tremaining: 1.89s\n",
            "48:\tlearn: 0.9123064\ttotal: 96.3ms\tremaining: 1.87s\n",
            "49:\tlearn: 0.9014191\ttotal: 97.6ms\tremaining: 1.85s\n",
            "50:\tlearn: 0.8919717\ttotal: 98.7ms\tremaining: 1.84s\n",
            "51:\tlearn: 0.8811983\ttotal: 100ms\tremaining: 1.82s\n",
            "52:\tlearn: 0.8714372\ttotal: 101ms\tremaining: 1.81s\n",
            "53:\tlearn: 0.8629012\ttotal: 103ms\tremaining: 1.8s\n",
            "54:\tlearn: 0.8493860\ttotal: 104ms\tremaining: 1.78s\n",
            "55:\tlearn: 0.8379109\ttotal: 105ms\tremaining: 1.77s\n",
            "56:\tlearn: 0.8286800\ttotal: 106ms\tremaining: 1.76s\n",
            "57:\tlearn: 0.8187225\ttotal: 108ms\tremaining: 1.75s\n",
            "58:\tlearn: 0.8102601\ttotal: 109ms\tremaining: 1.74s\n",
            "59:\tlearn: 0.8000786\ttotal: 110ms\tremaining: 1.73s\n",
            "60:\tlearn: 0.7892682\ttotal: 112ms\tremaining: 1.72s\n",
            "61:\tlearn: 0.7794563\ttotal: 113ms\tremaining: 1.7s\n",
            "62:\tlearn: 0.7695618\ttotal: 114ms\tremaining: 1.69s\n",
            "63:\tlearn: 0.7598315\ttotal: 115ms\tremaining: 1.68s\n",
            "64:\tlearn: 0.7525664\ttotal: 116ms\tremaining: 1.67s\n",
            "65:\tlearn: 0.7443580\ttotal: 117ms\tremaining: 1.66s\n",
            "66:\tlearn: 0.7378710\ttotal: 119ms\tremaining: 1.65s\n",
            "67:\tlearn: 0.7291671\ttotal: 120ms\tremaining: 1.64s\n",
            "68:\tlearn: 0.7203825\ttotal: 121ms\tremaining: 1.63s\n",
            "69:\tlearn: 0.7119976\ttotal: 122ms\tremaining: 1.62s\n",
            "70:\tlearn: 0.7028288\ttotal: 123ms\tremaining: 1.61s\n",
            "71:\tlearn: 0.6956993\ttotal: 125ms\tremaining: 1.61s\n",
            "72:\tlearn: 0.6913659\ttotal: 126ms\tremaining: 1.6s\n",
            "73:\tlearn: 0.6848596\ttotal: 127ms\tremaining: 1.59s\n",
            "74:\tlearn: 0.6797821\ttotal: 128ms\tremaining: 1.58s\n",
            "75:\tlearn: 0.6731294\ttotal: 129ms\tremaining: 1.57s\n",
            "76:\tlearn: 0.6663403\ttotal: 131ms\tremaining: 1.56s\n",
            "77:\tlearn: 0.6620828\ttotal: 132ms\tremaining: 1.56s\n",
            "78:\tlearn: 0.6561550\ttotal: 133ms\tremaining: 1.55s\n",
            "79:\tlearn: 0.6494270\ttotal: 134ms\tremaining: 1.54s\n",
            "80:\tlearn: 0.6421174\ttotal: 135ms\tremaining: 1.53s\n",
            "81:\tlearn: 0.6357675\ttotal: 136ms\tremaining: 1.53s\n",
            "82:\tlearn: 0.6299002\ttotal: 138ms\tremaining: 1.52s\n",
            "83:\tlearn: 0.6213741\ttotal: 139ms\tremaining: 1.51s\n",
            "84:\tlearn: 0.6165603\ttotal: 140ms\tremaining: 1.51s\n",
            "85:\tlearn: 0.6131204\ttotal: 141ms\tremaining: 1.5s\n",
            "86:\tlearn: 0.6072759\ttotal: 142ms\tremaining: 1.49s\n",
            "87:\tlearn: 0.5999728\ttotal: 143ms\tremaining: 1.49s\n",
            "88:\tlearn: 0.5928223\ttotal: 145ms\tremaining: 1.48s\n",
            "89:\tlearn: 0.5881124\ttotal: 146ms\tremaining: 1.47s\n",
            "90:\tlearn: 0.5845727\ttotal: 147ms\tremaining: 1.47s\n",
            "91:\tlearn: 0.5794865\ttotal: 148ms\tremaining: 1.46s\n",
            "92:\tlearn: 0.5747822\ttotal: 149ms\tremaining: 1.46s\n",
            "93:\tlearn: 0.5699071\ttotal: 151ms\tremaining: 1.45s\n",
            "94:\tlearn: 0.5652699\ttotal: 152ms\tremaining: 1.44s\n",
            "95:\tlearn: 0.5616662\ttotal: 153ms\tremaining: 1.44s\n",
            "96:\tlearn: 0.5569848\ttotal: 154ms\tremaining: 1.43s\n",
            "97:\tlearn: 0.5521229\ttotal: 155ms\tremaining: 1.43s\n",
            "98:\tlearn: 0.5467588\ttotal: 157ms\tremaining: 1.43s\n",
            "99:\tlearn: 0.5414554\ttotal: 158ms\tremaining: 1.42s\n",
            "100:\tlearn: 0.5365704\ttotal: 159ms\tremaining: 1.42s\n",
            "101:\tlearn: 0.5328288\ttotal: 160ms\tremaining: 1.41s\n",
            "102:\tlearn: 0.5281173\ttotal: 162ms\tremaining: 1.41s\n",
            "103:\tlearn: 0.5239612\ttotal: 163ms\tremaining: 1.4s\n",
            "104:\tlearn: 0.5193984\ttotal: 164ms\tremaining: 1.4s\n",
            "105:\tlearn: 0.5162732\ttotal: 165ms\tremaining: 1.39s\n",
            "106:\tlearn: 0.5122150\ttotal: 167ms\tremaining: 1.39s\n",
            "107:\tlearn: 0.5077122\ttotal: 168ms\tremaining: 1.39s\n",
            "108:\tlearn: 0.5036063\ttotal: 169ms\tremaining: 1.38s\n",
            "109:\tlearn: 0.4998954\ttotal: 170ms\tremaining: 1.38s\n",
            "110:\tlearn: 0.4954103\ttotal: 172ms\tremaining: 1.37s\n",
            "111:\tlearn: 0.4914008\ttotal: 173ms\tremaining: 1.37s\n",
            "112:\tlearn: 0.4876796\ttotal: 174ms\tremaining: 1.36s\n",
            "113:\tlearn: 0.4837832\ttotal: 175ms\tremaining: 1.36s\n",
            "114:\tlearn: 0.4810023\ttotal: 176ms\tremaining: 1.36s\n",
            "115:\tlearn: 0.4781913\ttotal: 177ms\tremaining: 1.35s\n",
            "116:\tlearn: 0.4741308\ttotal: 179ms\tremaining: 1.35s\n",
            "117:\tlearn: 0.4707180\ttotal: 180ms\tremaining: 1.34s\n",
            "118:\tlearn: 0.4658032\ttotal: 181ms\tremaining: 1.34s\n",
            "119:\tlearn: 0.4624133\ttotal: 182ms\tremaining: 1.34s\n",
            "120:\tlearn: 0.4582312\ttotal: 183ms\tremaining: 1.33s\n",
            "121:\tlearn: 0.4538640\ttotal: 185ms\tremaining: 1.33s\n",
            "122:\tlearn: 0.4496557\ttotal: 186ms\tremaining: 1.32s\n",
            "123:\tlearn: 0.4480036\ttotal: 187ms\tremaining: 1.32s\n",
            "124:\tlearn: 0.4448144\ttotal: 189ms\tremaining: 1.32s\n",
            "125:\tlearn: 0.4410478\ttotal: 190ms\tremaining: 1.32s\n",
            "126:\tlearn: 0.4375046\ttotal: 193ms\tremaining: 1.33s\n",
            "127:\tlearn: 0.4347486\ttotal: 194ms\tremaining: 1.32s\n",
            "128:\tlearn: 0.4321286\ttotal: 195ms\tremaining: 1.32s\n",
            "129:\tlearn: 0.4291389\ttotal: 196ms\tremaining: 1.31s\n",
            "130:\tlearn: 0.4272227\ttotal: 198ms\tremaining: 1.31s\n",
            "131:\tlearn: 0.4238222\ttotal: 199ms\tremaining: 1.31s\n",
            "132:\tlearn: 0.4205213\ttotal: 200ms\tremaining: 1.3s\n",
            "133:\tlearn: 0.4172380\ttotal: 201ms\tremaining: 1.3s\n",
            "134:\tlearn: 0.4135487\ttotal: 202ms\tremaining: 1.29s\n",
            "135:\tlearn: 0.4098624\ttotal: 203ms\tremaining: 1.29s\n",
            "136:\tlearn: 0.4062142\ttotal: 204ms\tremaining: 1.29s\n",
            "137:\tlearn: 0.4039073\ttotal: 205ms\tremaining: 1.28s\n",
            "138:\tlearn: 0.4011502\ttotal: 207ms\tremaining: 1.28s\n",
            "139:\tlearn: 0.3983150\ttotal: 208ms\tremaining: 1.27s\n",
            "140:\tlearn: 0.3946304\ttotal: 209ms\tremaining: 1.27s\n",
            "141:\tlearn: 0.3924247\ttotal: 210ms\tremaining: 1.27s\n",
            "142:\tlearn: 0.3885335\ttotal: 211ms\tremaining: 1.26s\n",
            "143:\tlearn: 0.3852081\ttotal: 212ms\tremaining: 1.26s\n",
            "144:\tlearn: 0.3828387\ttotal: 213ms\tremaining: 1.26s\n",
            "145:\tlearn: 0.3802006\ttotal: 214ms\tremaining: 1.25s\n",
            "146:\tlearn: 0.3773388\ttotal: 216ms\tremaining: 1.25s\n",
            "147:\tlearn: 0.3751342\ttotal: 217ms\tremaining: 1.25s\n",
            "148:\tlearn: 0.3724523\ttotal: 218ms\tremaining: 1.24s\n",
            "149:\tlearn: 0.3708664\ttotal: 219ms\tremaining: 1.24s\n",
            "150:\tlearn: 0.3678246\ttotal: 220ms\tremaining: 1.24s\n",
            "151:\tlearn: 0.3664757\ttotal: 221ms\tremaining: 1.23s\n",
            "152:\tlearn: 0.3641679\ttotal: 222ms\tremaining: 1.23s\n",
            "153:\tlearn: 0.3617585\ttotal: 223ms\tremaining: 1.23s\n",
            "154:\tlearn: 0.3598149\ttotal: 225ms\tremaining: 1.22s\n",
            "155:\tlearn: 0.3583742\ttotal: 226ms\tremaining: 1.22s\n",
            "156:\tlearn: 0.3553340\ttotal: 227ms\tremaining: 1.22s\n",
            "157:\tlearn: 0.3533676\ttotal: 228ms\tremaining: 1.21s\n",
            "158:\tlearn: 0.3514031\ttotal: 229ms\tremaining: 1.21s\n",
            "159:\tlearn: 0.3487997\ttotal: 230ms\tremaining: 1.21s\n",
            "160:\tlearn: 0.3472940\ttotal: 231ms\tremaining: 1.2s\n",
            "161:\tlearn: 0.3450440\ttotal: 232ms\tremaining: 1.2s\n",
            "162:\tlearn: 0.3419110\ttotal: 233ms\tremaining: 1.2s\n",
            "163:\tlearn: 0.3394721\ttotal: 234ms\tremaining: 1.19s\n",
            "164:\tlearn: 0.3372161\ttotal: 235ms\tremaining: 1.19s\n",
            "165:\tlearn: 0.3349197\ttotal: 237ms\tremaining: 1.19s\n",
            "166:\tlearn: 0.3327646\ttotal: 238ms\tremaining: 1.19s\n",
            "167:\tlearn: 0.3314013\ttotal: 239ms\tremaining: 1.18s\n",
            "168:\tlearn: 0.3296897\ttotal: 240ms\tremaining: 1.18s\n",
            "169:\tlearn: 0.3282983\ttotal: 241ms\tremaining: 1.18s\n",
            "170:\tlearn: 0.3265421\ttotal: 242ms\tremaining: 1.17s\n",
            "171:\tlearn: 0.3246174\ttotal: 243ms\tremaining: 1.17s\n",
            "172:\tlearn: 0.3222604\ttotal: 244ms\tremaining: 1.17s\n",
            "173:\tlearn: 0.3202716\ttotal: 245ms\tremaining: 1.16s\n",
            "174:\tlearn: 0.3182745\ttotal: 246ms\tremaining: 1.16s\n",
            "175:\tlearn: 0.3168876\ttotal: 247ms\tremaining: 1.16s\n",
            "176:\tlearn: 0.3150637\ttotal: 248ms\tremaining: 1.16s\n",
            "177:\tlearn: 0.3127420\ttotal: 250ms\tremaining: 1.15s\n",
            "178:\tlearn: 0.3111704\ttotal: 251ms\tremaining: 1.15s\n",
            "179:\tlearn: 0.3090302\ttotal: 252ms\tremaining: 1.15s\n",
            "180:\tlearn: 0.3067511\ttotal: 253ms\tremaining: 1.14s\n",
            "181:\tlearn: 0.3055275\ttotal: 254ms\tremaining: 1.14s\n",
            "182:\tlearn: 0.3034272\ttotal: 255ms\tremaining: 1.14s\n",
            "183:\tlearn: 0.3017867\ttotal: 256ms\tremaining: 1.14s\n",
            "184:\tlearn: 0.2997566\ttotal: 257ms\tremaining: 1.13s\n",
            "185:\tlearn: 0.2978739\ttotal: 258ms\tremaining: 1.13s\n",
            "186:\tlearn: 0.2966080\ttotal: 259ms\tremaining: 1.13s\n",
            "187:\tlearn: 0.2958072\ttotal: 260ms\tremaining: 1.12s\n",
            "188:\tlearn: 0.2939877\ttotal: 261ms\tremaining: 1.12s\n",
            "189:\tlearn: 0.2918001\ttotal: 262ms\tremaining: 1.12s\n",
            "190:\tlearn: 0.2906784\ttotal: 264ms\tremaining: 1.12s\n",
            "191:\tlearn: 0.2889376\ttotal: 265ms\tremaining: 1.11s\n",
            "192:\tlearn: 0.2871080\ttotal: 266ms\tremaining: 1.11s\n",
            "193:\tlearn: 0.2850935\ttotal: 267ms\tremaining: 1.11s\n",
            "194:\tlearn: 0.2838389\ttotal: 268ms\tremaining: 1.1s\n",
            "195:\tlearn: 0.2820610\ttotal: 269ms\tremaining: 1.1s\n",
            "196:\tlearn: 0.2803899\ttotal: 270ms\tremaining: 1.1s\n",
            "197:\tlearn: 0.2793842\ttotal: 271ms\tremaining: 1.1s\n",
            "198:\tlearn: 0.2773516\ttotal: 272ms\tremaining: 1.1s\n",
            "199:\tlearn: 0.2761144\ttotal: 273ms\tremaining: 1.09s\n",
            "200:\tlearn: 0.2754553\ttotal: 275ms\tremaining: 1.09s\n",
            "201:\tlearn: 0.2744531\ttotal: 276ms\tremaining: 1.09s\n",
            "202:\tlearn: 0.2733495\ttotal: 277ms\tremaining: 1.09s\n",
            "203:\tlearn: 0.2714313\ttotal: 278ms\tremaining: 1.08s\n",
            "204:\tlearn: 0.2696752\ttotal: 279ms\tremaining: 1.08s\n",
            "205:\tlearn: 0.2684384\ttotal: 280ms\tremaining: 1.08s\n",
            "206:\tlearn: 0.2679275\ttotal: 281ms\tremaining: 1.08s\n",
            "207:\tlearn: 0.2661621\ttotal: 282ms\tremaining: 1.07s\n",
            "208:\tlearn: 0.2652610\ttotal: 283ms\tremaining: 1.07s\n",
            "209:\tlearn: 0.2638173\ttotal: 284ms\tremaining: 1.07s\n",
            "210:\tlearn: 0.2628120\ttotal: 285ms\tremaining: 1.07s\n",
            "211:\tlearn: 0.2609146\ttotal: 287ms\tremaining: 1.06s\n",
            "212:\tlearn: 0.2596387\ttotal: 288ms\tremaining: 1.06s\n",
            "213:\tlearn: 0.2583723\ttotal: 289ms\tremaining: 1.06s\n",
            "214:\tlearn: 0.2573040\ttotal: 290ms\tremaining: 1.06s\n",
            "215:\tlearn: 0.2560903\ttotal: 291ms\tremaining: 1.06s\n",
            "216:\tlearn: 0.2545221\ttotal: 292ms\tremaining: 1.05s\n",
            "217:\tlearn: 0.2536248\ttotal: 294ms\tremaining: 1.05s\n",
            "218:\tlearn: 0.2519052\ttotal: 295ms\tremaining: 1.05s\n",
            "219:\tlearn: 0.2509370\ttotal: 296ms\tremaining: 1.05s\n",
            "220:\tlearn: 0.2499385\ttotal: 297ms\tremaining: 1.05s\n",
            "221:\tlearn: 0.2492533\ttotal: 298ms\tremaining: 1.04s\n",
            "222:\tlearn: 0.2478158\ttotal: 299ms\tremaining: 1.04s\n",
            "223:\tlearn: 0.2467071\ttotal: 300ms\tremaining: 1.04s\n",
            "224:\tlearn: 0.2452224\ttotal: 301ms\tremaining: 1.04s\n",
            "225:\tlearn: 0.2440376\ttotal: 303ms\tremaining: 1.04s\n",
            "226:\tlearn: 0.2423632\ttotal: 304ms\tremaining: 1.03s\n",
            "227:\tlearn: 0.2414641\ttotal: 305ms\tremaining: 1.03s\n",
            "228:\tlearn: 0.2407647\ttotal: 306ms\tremaining: 1.03s\n",
            "229:\tlearn: 0.2398749\ttotal: 307ms\tremaining: 1.03s\n",
            "230:\tlearn: 0.2387094\ttotal: 308ms\tremaining: 1.03s\n",
            "231:\tlearn: 0.2375814\ttotal: 309ms\tremaining: 1.02s\n",
            "232:\tlearn: 0.2360010\ttotal: 311ms\tremaining: 1.02s\n",
            "233:\tlearn: 0.2347864\ttotal: 312ms\tremaining: 1.02s\n",
            "234:\tlearn: 0.2334566\ttotal: 313ms\tremaining: 1.02s\n",
            "235:\tlearn: 0.2319669\ttotal: 314ms\tremaining: 1.02s\n",
            "236:\tlearn: 0.2308698\ttotal: 315ms\tremaining: 1.01s\n",
            "237:\tlearn: 0.2297008\ttotal: 316ms\tremaining: 1.01s\n",
            "238:\tlearn: 0.2287388\ttotal: 317ms\tremaining: 1.01s\n",
            "239:\tlearn: 0.2275307\ttotal: 318ms\tremaining: 1.01s\n",
            "240:\tlearn: 0.2261151\ttotal: 319ms\tremaining: 1s\n",
            "241:\tlearn: 0.2249698\ttotal: 320ms\tremaining: 1s\n",
            "242:\tlearn: 0.2241891\ttotal: 321ms\tremaining: 1s\n",
            "243:\tlearn: 0.2230338\ttotal: 322ms\tremaining: 999ms\n",
            "244:\tlearn: 0.2220059\ttotal: 324ms\tremaining: 997ms\n",
            "245:\tlearn: 0.2209874\ttotal: 325ms\tremaining: 996ms\n",
            "246:\tlearn: 0.2196033\ttotal: 326ms\tremaining: 994ms\n",
            "247:\tlearn: 0.2181615\ttotal: 327ms\tremaining: 992ms\n",
            "248:\tlearn: 0.2167610\ttotal: 328ms\tremaining: 990ms\n",
            "249:\tlearn: 0.2153090\ttotal: 329ms\tremaining: 988ms\n",
            "250:\tlearn: 0.2141831\ttotal: 330ms\tremaining: 986ms\n",
            "251:\tlearn: 0.2132877\ttotal: 332ms\tremaining: 984ms\n",
            "252:\tlearn: 0.2125887\ttotal: 333ms\tremaining: 982ms\n",
            "253:\tlearn: 0.2112366\ttotal: 334ms\tremaining: 980ms\n",
            "254:\tlearn: 0.2101690\ttotal: 335ms\tremaining: 978ms\n",
            "255:\tlearn: 0.2086910\ttotal: 336ms\tremaining: 976ms\n",
            "256:\tlearn: 0.2078844\ttotal: 337ms\tremaining: 975ms\n",
            "257:\tlearn: 0.2067811\ttotal: 338ms\tremaining: 973ms\n",
            "258:\tlearn: 0.2055323\ttotal: 339ms\tremaining: 971ms\n",
            "259:\tlearn: 0.2050992\ttotal: 340ms\tremaining: 969ms\n",
            "260:\tlearn: 0.2041998\ttotal: 342ms\tremaining: 967ms\n",
            "261:\tlearn: 0.2035145\ttotal: 343ms\tremaining: 966ms\n",
            "262:\tlearn: 0.2026568\ttotal: 344ms\tremaining: 964ms\n",
            "263:\tlearn: 0.2019233\ttotal: 345ms\tremaining: 962ms\n",
            "264:\tlearn: 0.2009819\ttotal: 346ms\tremaining: 960ms\n",
            "265:\tlearn: 0.2004789\ttotal: 347ms\tremaining: 958ms\n",
            "266:\tlearn: 0.1995521\ttotal: 348ms\tremaining: 956ms\n",
            "267:\tlearn: 0.1990452\ttotal: 349ms\tremaining: 955ms\n",
            "268:\tlearn: 0.1983640\ttotal: 351ms\tremaining: 953ms\n",
            "269:\tlearn: 0.1975231\ttotal: 352ms\tremaining: 951ms\n",
            "270:\tlearn: 0.1969230\ttotal: 353ms\tremaining: 949ms\n",
            "271:\tlearn: 0.1960314\ttotal: 354ms\tremaining: 947ms\n",
            "272:\tlearn: 0.1953430\ttotal: 355ms\tremaining: 946ms\n",
            "273:\tlearn: 0.1947019\ttotal: 356ms\tremaining: 944ms\n",
            "274:\tlearn: 0.1937152\ttotal: 357ms\tremaining: 942ms\n",
            "275:\tlearn: 0.1927193\ttotal: 358ms\tremaining: 940ms\n",
            "276:\tlearn: 0.1917057\ttotal: 359ms\tremaining: 938ms\n",
            "277:\tlearn: 0.1907882\ttotal: 361ms\tremaining: 937ms\n",
            "278:\tlearn: 0.1898647\ttotal: 362ms\tremaining: 935ms\n",
            "279:\tlearn: 0.1888258\ttotal: 363ms\tremaining: 933ms\n",
            "280:\tlearn: 0.1883726\ttotal: 364ms\tremaining: 931ms\n",
            "281:\tlearn: 0.1875886\ttotal: 365ms\tremaining: 929ms\n",
            "282:\tlearn: 0.1867205\ttotal: 366ms\tremaining: 928ms\n",
            "283:\tlearn: 0.1858765\ttotal: 367ms\tremaining: 926ms\n",
            "284:\tlearn: 0.1849787\ttotal: 368ms\tremaining: 924ms\n",
            "285:\tlearn: 0.1838469\ttotal: 369ms\tremaining: 922ms\n",
            "286:\tlearn: 0.1831630\ttotal: 371ms\tremaining: 921ms\n",
            "287:\tlearn: 0.1822773\ttotal: 373ms\tremaining: 922ms\n",
            "288:\tlearn: 0.1814575\ttotal: 374ms\tremaining: 920ms\n",
            "289:\tlearn: 0.1806039\ttotal: 375ms\tremaining: 919ms\n",
            "290:\tlearn: 0.1797974\ttotal: 377ms\tremaining: 918ms\n",
            "291:\tlearn: 0.1791889\ttotal: 379ms\tremaining: 919ms\n",
            "292:\tlearn: 0.1782053\ttotal: 381ms\tremaining: 918ms\n",
            "293:\tlearn: 0.1777589\ttotal: 382ms\tremaining: 917ms\n",
            "294:\tlearn: 0.1769801\ttotal: 383ms\tremaining: 915ms\n",
            "295:\tlearn: 0.1760159\ttotal: 384ms\tremaining: 913ms\n",
            "296:\tlearn: 0.1754396\ttotal: 385ms\tremaining: 911ms\n",
            "297:\tlearn: 0.1746084\ttotal: 386ms\tremaining: 909ms\n",
            "298:\tlearn: 0.1739152\ttotal: 387ms\tremaining: 908ms\n",
            "299:\tlearn: 0.1732675\ttotal: 388ms\tremaining: 906ms\n",
            "300:\tlearn: 0.1724399\ttotal: 389ms\tremaining: 904ms\n",
            "301:\tlearn: 0.1717235\ttotal: 390ms\tremaining: 902ms\n",
            "302:\tlearn: 0.1709405\ttotal: 391ms\tremaining: 900ms\n",
            "303:\tlearn: 0.1701584\ttotal: 392ms\tremaining: 899ms\n",
            "304:\tlearn: 0.1695058\ttotal: 394ms\tremaining: 897ms\n",
            "305:\tlearn: 0.1688419\ttotal: 395ms\tremaining: 895ms\n",
            "306:\tlearn: 0.1682371\ttotal: 396ms\tremaining: 893ms\n",
            "307:\tlearn: 0.1675515\ttotal: 397ms\tremaining: 891ms\n",
            "308:\tlearn: 0.1668312\ttotal: 398ms\tremaining: 889ms\n",
            "309:\tlearn: 0.1659840\ttotal: 399ms\tremaining: 887ms\n",
            "310:\tlearn: 0.1653579\ttotal: 400ms\tremaining: 886ms\n",
            "311:\tlearn: 0.1646924\ttotal: 401ms\tremaining: 884ms\n",
            "312:\tlearn: 0.1642190\ttotal: 402ms\tremaining: 883ms\n",
            "313:\tlearn: 0.1636741\ttotal: 403ms\tremaining: 881ms\n",
            "314:\tlearn: 0.1631056\ttotal: 404ms\tremaining: 879ms\n",
            "315:\tlearn: 0.1625761\ttotal: 405ms\tremaining: 878ms\n",
            "316:\tlearn: 0.1618528\ttotal: 407ms\tremaining: 876ms\n",
            "317:\tlearn: 0.1612595\ttotal: 410ms\tremaining: 879ms\n",
            "318:\tlearn: 0.1605182\ttotal: 411ms\tremaining: 878ms\n",
            "319:\tlearn: 0.1601491\ttotal: 412ms\tremaining: 876ms\n",
            "320:\tlearn: 0.1595274\ttotal: 414ms\tremaining: 877ms\n",
            "321:\tlearn: 0.1590510\ttotal: 416ms\tremaining: 876ms\n",
            "322:\tlearn: 0.1586788\ttotal: 417ms\tremaining: 875ms\n",
            "323:\tlearn: 0.1581621\ttotal: 420ms\tremaining: 876ms\n",
            "324:\tlearn: 0.1577653\ttotal: 423ms\tremaining: 878ms\n",
            "325:\tlearn: 0.1571105\ttotal: 425ms\tremaining: 879ms\n",
            "326:\tlearn: 0.1565747\ttotal: 428ms\tremaining: 880ms\n",
            "327:\tlearn: 0.1559096\ttotal: 429ms\tremaining: 879ms\n",
            "328:\tlearn: 0.1554688\ttotal: 430ms\tremaining: 877ms\n",
            "329:\tlearn: 0.1548807\ttotal: 431ms\tremaining: 875ms\n",
            "330:\tlearn: 0.1545691\ttotal: 432ms\tremaining: 873ms\n",
            "331:\tlearn: 0.1538905\ttotal: 433ms\tremaining: 872ms\n",
            "332:\tlearn: 0.1533129\ttotal: 434ms\tremaining: 870ms\n",
            "333:\tlearn: 0.1526296\ttotal: 436ms\tremaining: 869ms\n",
            "334:\tlearn: 0.1522409\ttotal: 437ms\tremaining: 868ms\n",
            "335:\tlearn: 0.1518549\ttotal: 438ms\tremaining: 866ms\n",
            "336:\tlearn: 0.1512639\ttotal: 439ms\tremaining: 864ms\n",
            "337:\tlearn: 0.1507693\ttotal: 441ms\tremaining: 863ms\n",
            "338:\tlearn: 0.1501193\ttotal: 442ms\tremaining: 861ms\n",
            "339:\tlearn: 0.1496823\ttotal: 443ms\tremaining: 859ms\n",
            "340:\tlearn: 0.1494155\ttotal: 444ms\tremaining: 858ms\n",
            "341:\tlearn: 0.1488954\ttotal: 445ms\tremaining: 856ms\n",
            "342:\tlearn: 0.1485999\ttotal: 446ms\tremaining: 854ms\n",
            "343:\tlearn: 0.1481163\ttotal: 447ms\tremaining: 853ms\n",
            "344:\tlearn: 0.1476093\ttotal: 448ms\tremaining: 851ms\n",
            "345:\tlearn: 0.1470350\ttotal: 449ms\tremaining: 850ms\n",
            "346:\tlearn: 0.1465784\ttotal: 451ms\tremaining: 848ms\n",
            "347:\tlearn: 0.1462307\ttotal: 452ms\tremaining: 846ms\n",
            "348:\tlearn: 0.1456802\ttotal: 453ms\tremaining: 845ms\n",
            "349:\tlearn: 0.1452242\ttotal: 454ms\tremaining: 843ms\n",
            "350:\tlearn: 0.1446374\ttotal: 455ms\tremaining: 842ms\n",
            "351:\tlearn: 0.1443158\ttotal: 456ms\tremaining: 840ms\n",
            "352:\tlearn: 0.1437280\ttotal: 457ms\tremaining: 838ms\n",
            "353:\tlearn: 0.1433112\ttotal: 458ms\tremaining: 837ms\n",
            "354:\tlearn: 0.1428268\ttotal: 460ms\tremaining: 835ms\n",
            "355:\tlearn: 0.1424157\ttotal: 461ms\tremaining: 833ms\n",
            "356:\tlearn: 0.1419226\ttotal: 462ms\tremaining: 832ms\n",
            "357:\tlearn: 0.1413405\ttotal: 463ms\tremaining: 830ms\n",
            "358:\tlearn: 0.1409705\ttotal: 464ms\tremaining: 828ms\n",
            "359:\tlearn: 0.1404432\ttotal: 465ms\tremaining: 826ms\n",
            "360:\tlearn: 0.1398562\ttotal: 466ms\tremaining: 825ms\n",
            "361:\tlearn: 0.1395460\ttotal: 467ms\tremaining: 823ms\n",
            "362:\tlearn: 0.1389974\ttotal: 468ms\tremaining: 821ms\n",
            "363:\tlearn: 0.1385080\ttotal: 469ms\tremaining: 820ms\n",
            "364:\tlearn: 0.1380325\ttotal: 470ms\tremaining: 818ms\n",
            "365:\tlearn: 0.1377073\ttotal: 471ms\tremaining: 817ms\n",
            "366:\tlearn: 0.1372675\ttotal: 473ms\tremaining: 815ms\n",
            "367:\tlearn: 0.1366671\ttotal: 474ms\tremaining: 814ms\n",
            "368:\tlearn: 0.1363135\ttotal: 475ms\tremaining: 813ms\n",
            "369:\tlearn: 0.1358357\ttotal: 476ms\tremaining: 811ms\n",
            "370:\tlearn: 0.1353505\ttotal: 477ms\tremaining: 810ms\n",
            "371:\tlearn: 0.1348632\ttotal: 479ms\tremaining: 808ms\n",
            "372:\tlearn: 0.1343085\ttotal: 480ms\tremaining: 806ms\n",
            "373:\tlearn: 0.1337977\ttotal: 481ms\tremaining: 805ms\n",
            "374:\tlearn: 0.1333021\ttotal: 482ms\tremaining: 803ms\n",
            "375:\tlearn: 0.1328091\ttotal: 483ms\tremaining: 802ms\n",
            "376:\tlearn: 0.1322655\ttotal: 484ms\tremaining: 800ms\n",
            "377:\tlearn: 0.1320234\ttotal: 485ms\tremaining: 799ms\n",
            "378:\tlearn: 0.1314197\ttotal: 486ms\tremaining: 797ms\n",
            "379:\tlearn: 0.1309429\ttotal: 488ms\tremaining: 795ms\n",
            "380:\tlearn: 0.1304040\ttotal: 489ms\tremaining: 794ms\n",
            "381:\tlearn: 0.1301249\ttotal: 490ms\tremaining: 792ms\n",
            "382:\tlearn: 0.1296833\ttotal: 491ms\tremaining: 791ms\n",
            "383:\tlearn: 0.1292819\ttotal: 492ms\tremaining: 789ms\n",
            "384:\tlearn: 0.1288236\ttotal: 493ms\tremaining: 788ms\n",
            "385:\tlearn: 0.1283755\ttotal: 494ms\tremaining: 786ms\n",
            "386:\tlearn: 0.1279823\ttotal: 495ms\tremaining: 785ms\n",
            "387:\tlearn: 0.1275332\ttotal: 497ms\tremaining: 783ms\n",
            "388:\tlearn: 0.1270951\ttotal: 498ms\tremaining: 782ms\n",
            "389:\tlearn: 0.1265749\ttotal: 499ms\tremaining: 780ms\n",
            "390:\tlearn: 0.1261116\ttotal: 500ms\tremaining: 779ms\n",
            "391:\tlearn: 0.1258890\ttotal: 501ms\tremaining: 777ms\n",
            "392:\tlearn: 0.1255215\ttotal: 502ms\tremaining: 776ms\n",
            "393:\tlearn: 0.1250856\ttotal: 503ms\tremaining: 774ms\n",
            "394:\tlearn: 0.1246458\ttotal: 504ms\tremaining: 773ms\n",
            "395:\tlearn: 0.1243851\ttotal: 505ms\tremaining: 771ms\n",
            "396:\tlearn: 0.1241054\ttotal: 506ms\tremaining: 769ms\n",
            "397:\tlearn: 0.1237992\ttotal: 508ms\tremaining: 768ms\n",
            "398:\tlearn: 0.1233378\ttotal: 509ms\tremaining: 766ms\n",
            "399:\tlearn: 0.1229806\ttotal: 510ms\tremaining: 765ms\n",
            "400:\tlearn: 0.1225046\ttotal: 511ms\tremaining: 763ms\n",
            "401:\tlearn: 0.1221223\ttotal: 512ms\tremaining: 762ms\n",
            "402:\tlearn: 0.1218124\ttotal: 513ms\tremaining: 760ms\n",
            "403:\tlearn: 0.1214437\ttotal: 514ms\tremaining: 759ms\n",
            "404:\tlearn: 0.1209956\ttotal: 516ms\tremaining: 757ms\n",
            "405:\tlearn: 0.1206508\ttotal: 517ms\tremaining: 756ms\n",
            "406:\tlearn: 0.1201321\ttotal: 518ms\tremaining: 755ms\n",
            "407:\tlearn: 0.1197242\ttotal: 519ms\tremaining: 753ms\n",
            "408:\tlearn: 0.1192790\ttotal: 520ms\tremaining: 752ms\n",
            "409:\tlearn: 0.1188089\ttotal: 521ms\tremaining: 750ms\n",
            "410:\tlearn: 0.1183783\ttotal: 522ms\tremaining: 749ms\n",
            "411:\tlearn: 0.1178859\ttotal: 524ms\tremaining: 747ms\n",
            "412:\tlearn: 0.1174748\ttotal: 525ms\tremaining: 746ms\n",
            "413:\tlearn: 0.1172070\ttotal: 525ms\tremaining: 743ms\n",
            "414:\tlearn: 0.1168676\ttotal: 526ms\tremaining: 742ms\n",
            "415:\tlearn: 0.1166146\ttotal: 527ms\tremaining: 740ms\n",
            "416:\tlearn: 0.1163502\ttotal: 529ms\tremaining: 739ms\n",
            "417:\tlearn: 0.1159777\ttotal: 530ms\tremaining: 737ms\n",
            "418:\tlearn: 0.1156218\ttotal: 531ms\tremaining: 736ms\n",
            "419:\tlearn: 0.1152412\ttotal: 532ms\tremaining: 734ms\n",
            "420:\tlearn: 0.1148142\ttotal: 533ms\tremaining: 733ms\n",
            "421:\tlearn: 0.1146109\ttotal: 534ms\tremaining: 731ms\n",
            "422:\tlearn: 0.1142559\ttotal: 535ms\tremaining: 730ms\n",
            "423:\tlearn: 0.1138008\ttotal: 536ms\tremaining: 728ms\n",
            "424:\tlearn: 0.1134049\ttotal: 537ms\tremaining: 727ms\n",
            "425:\tlearn: 0.1131227\ttotal: 538ms\tremaining: 725ms\n",
            "426:\tlearn: 0.1127218\ttotal: 539ms\tremaining: 723ms\n",
            "427:\tlearn: 0.1122096\ttotal: 541ms\tremaining: 724ms\n",
            "428:\tlearn: 0.1117532\ttotal: 543ms\tremaining: 723ms\n",
            "429:\tlearn: 0.1113478\ttotal: 546ms\tremaining: 724ms\n",
            "430:\tlearn: 0.1110440\ttotal: 548ms\tremaining: 723ms\n",
            "431:\tlearn: 0.1106680\ttotal: 549ms\tremaining: 722ms\n",
            "432:\tlearn: 0.1104247\ttotal: 551ms\tremaining: 721ms\n",
            "433:\tlearn: 0.1100606\ttotal: 552ms\tremaining: 719ms\n",
            "434:\tlearn: 0.1096552\ttotal: 553ms\tremaining: 718ms\n",
            "435:\tlearn: 0.1093203\ttotal: 554ms\tremaining: 716ms\n",
            "436:\tlearn: 0.1089902\ttotal: 555ms\tremaining: 715ms\n",
            "437:\tlearn: 0.1086241\ttotal: 556ms\tremaining: 713ms\n",
            "438:\tlearn: 0.1083011\ttotal: 557ms\tremaining: 712ms\n",
            "439:\tlearn: 0.1079582\ttotal: 558ms\tremaining: 710ms\n",
            "440:\tlearn: 0.1078474\ttotal: 559ms\tremaining: 708ms\n",
            "441:\tlearn: 0.1074698\ttotal: 560ms\tremaining: 707ms\n",
            "442:\tlearn: 0.1072697\ttotal: 564ms\tremaining: 709ms\n",
            "443:\tlearn: 0.1071099\ttotal: 566ms\tremaining: 709ms\n",
            "444:\tlearn: 0.1068013\ttotal: 567ms\tremaining: 707ms\n",
            "445:\tlearn: 0.1066079\ttotal: 568ms\tremaining: 706ms\n",
            "446:\tlearn: 0.1064110\ttotal: 569ms\tremaining: 704ms\n",
            "447:\tlearn: 0.1061574\ttotal: 570ms\tremaining: 703ms\n",
            "448:\tlearn: 0.1059284\ttotal: 571ms\tremaining: 701ms\n",
            "449:\tlearn: 0.1055690\ttotal: 573ms\tremaining: 700ms\n",
            "450:\tlearn: 0.1052761\ttotal: 574ms\tremaining: 698ms\n",
            "451:\tlearn: 0.1049933\ttotal: 575ms\tremaining: 697ms\n",
            "452:\tlearn: 0.1045511\ttotal: 576ms\tremaining: 695ms\n",
            "453:\tlearn: 0.1043330\ttotal: 577ms\tremaining: 694ms\n",
            "454:\tlearn: 0.1040407\ttotal: 578ms\tremaining: 692ms\n",
            "455:\tlearn: 0.1037541\ttotal: 579ms\tremaining: 691ms\n",
            "456:\tlearn: 0.1034332\ttotal: 580ms\tremaining: 689ms\n",
            "457:\tlearn: 0.1032737\ttotal: 581ms\tremaining: 688ms\n",
            "458:\tlearn: 0.1029583\ttotal: 582ms\tremaining: 686ms\n",
            "459:\tlearn: 0.1027626\ttotal: 583ms\tremaining: 685ms\n",
            "460:\tlearn: 0.1025027\ttotal: 584ms\tremaining: 683ms\n",
            "461:\tlearn: 0.1021633\ttotal: 585ms\tremaining: 682ms\n",
            "462:\tlearn: 0.1019231\ttotal: 587ms\tremaining: 680ms\n",
            "463:\tlearn: 0.1015816\ttotal: 588ms\tremaining: 679ms\n",
            "464:\tlearn: 0.1012207\ttotal: 589ms\tremaining: 677ms\n",
            "465:\tlearn: 0.1009506\ttotal: 590ms\tremaining: 676ms\n",
            "466:\tlearn: 0.1005797\ttotal: 591ms\tremaining: 674ms\n",
            "467:\tlearn: 0.1004529\ttotal: 592ms\tremaining: 673ms\n",
            "468:\tlearn: 0.1002316\ttotal: 593ms\tremaining: 671ms\n",
            "469:\tlearn: 0.0999431\ttotal: 594ms\tremaining: 670ms\n",
            "470:\tlearn: 0.0996661\ttotal: 595ms\tremaining: 669ms\n",
            "471:\tlearn: 0.0994691\ttotal: 596ms\tremaining: 667ms\n",
            "472:\tlearn: 0.0992307\ttotal: 598ms\tremaining: 666ms\n",
            "473:\tlearn: 0.0990846\ttotal: 599ms\tremaining: 665ms\n",
            "474:\tlearn: 0.0988581\ttotal: 600ms\tremaining: 663ms\n",
            "475:\tlearn: 0.0986334\ttotal: 601ms\tremaining: 662ms\n",
            "476:\tlearn: 0.0983915\ttotal: 602ms\tremaining: 660ms\n",
            "477:\tlearn: 0.0981042\ttotal: 603ms\tremaining: 659ms\n",
            "478:\tlearn: 0.0978877\ttotal: 604ms\tremaining: 657ms\n",
            "479:\tlearn: 0.0976296\ttotal: 605ms\tremaining: 656ms\n",
            "480:\tlearn: 0.0972857\ttotal: 606ms\tremaining: 654ms\n",
            "481:\tlearn: 0.0970048\ttotal: 608ms\tremaining: 653ms\n",
            "482:\tlearn: 0.0968006\ttotal: 609ms\tremaining: 651ms\n",
            "483:\tlearn: 0.0966474\ttotal: 610ms\tremaining: 650ms\n",
            "484:\tlearn: 0.0964974\ttotal: 611ms\tremaining: 649ms\n",
            "485:\tlearn: 0.0962288\ttotal: 612ms\tremaining: 647ms\n",
            "486:\tlearn: 0.0958966\ttotal: 613ms\tremaining: 646ms\n",
            "487:\tlearn: 0.0957335\ttotal: 614ms\tremaining: 644ms\n",
            "488:\tlearn: 0.0953820\ttotal: 615ms\tremaining: 643ms\n",
            "489:\tlearn: 0.0952428\ttotal: 616ms\tremaining: 642ms\n",
            "490:\tlearn: 0.0950676\ttotal: 618ms\tremaining: 640ms\n",
            "491:\tlearn: 0.0947746\ttotal: 619ms\tremaining: 639ms\n",
            "492:\tlearn: 0.0945523\ttotal: 620ms\tremaining: 637ms\n",
            "493:\tlearn: 0.0944560\ttotal: 621ms\tremaining: 636ms\n",
            "494:\tlearn: 0.0942036\ttotal: 622ms\tremaining: 634ms\n",
            "495:\tlearn: 0.0940144\ttotal: 623ms\tremaining: 633ms\n",
            "496:\tlearn: 0.0938119\ttotal: 624ms\tremaining: 631ms\n",
            "497:\tlearn: 0.0936640\ttotal: 625ms\tremaining: 630ms\n",
            "498:\tlearn: 0.0934804\ttotal: 626ms\tremaining: 629ms\n",
            "499:\tlearn: 0.0932248\ttotal: 627ms\tremaining: 627ms\n",
            "500:\tlearn: 0.0929551\ttotal: 628ms\tremaining: 626ms\n",
            "501:\tlearn: 0.0926836\ttotal: 629ms\tremaining: 624ms\n",
            "502:\tlearn: 0.0924118\ttotal: 630ms\tremaining: 623ms\n",
            "503:\tlearn: 0.0921841\ttotal: 632ms\tremaining: 622ms\n",
            "504:\tlearn: 0.0920468\ttotal: 633ms\tremaining: 620ms\n",
            "505:\tlearn: 0.0917595\ttotal: 634ms\tremaining: 619ms\n",
            "506:\tlearn: 0.0916641\ttotal: 635ms\tremaining: 617ms\n",
            "507:\tlearn: 0.0914188\ttotal: 636ms\tremaining: 616ms\n",
            "508:\tlearn: 0.0912139\ttotal: 637ms\tremaining: 615ms\n",
            "509:\tlearn: 0.0909315\ttotal: 638ms\tremaining: 613ms\n",
            "510:\tlearn: 0.0906994\ttotal: 639ms\tremaining: 612ms\n",
            "511:\tlearn: 0.0904357\ttotal: 640ms\tremaining: 610ms\n",
            "512:\tlearn: 0.0901904\ttotal: 641ms\tremaining: 609ms\n",
            "513:\tlearn: 0.0899995\ttotal: 642ms\tremaining: 607ms\n",
            "514:\tlearn: 0.0897490\ttotal: 644ms\tremaining: 606ms\n",
            "515:\tlearn: 0.0895561\ttotal: 645ms\tremaining: 605ms\n",
            "516:\tlearn: 0.0894241\ttotal: 646ms\tremaining: 603ms\n",
            "517:\tlearn: 0.0892484\ttotal: 647ms\tremaining: 602ms\n",
            "518:\tlearn: 0.0890099\ttotal: 648ms\tremaining: 600ms\n",
            "519:\tlearn: 0.0887767\ttotal: 649ms\tremaining: 599ms\n",
            "520:\tlearn: 0.0886112\ttotal: 650ms\tremaining: 598ms\n",
            "521:\tlearn: 0.0885200\ttotal: 651ms\tremaining: 596ms\n",
            "522:\tlearn: 0.0883439\ttotal: 652ms\tremaining: 595ms\n",
            "523:\tlearn: 0.0881226\ttotal: 653ms\tremaining: 593ms\n",
            "524:\tlearn: 0.0879196\ttotal: 654ms\tremaining: 592ms\n",
            "525:\tlearn: 0.0877583\ttotal: 655ms\tremaining: 590ms\n",
            "526:\tlearn: 0.0875853\ttotal: 656ms\tremaining: 589ms\n",
            "527:\tlearn: 0.0873027\ttotal: 657ms\tremaining: 588ms\n",
            "528:\tlearn: 0.0871217\ttotal: 658ms\tremaining: 586ms\n",
            "529:\tlearn: 0.0869118\ttotal: 659ms\tremaining: 585ms\n",
            "530:\tlearn: 0.0867353\ttotal: 660ms\tremaining: 583ms\n",
            "531:\tlearn: 0.0864553\ttotal: 661ms\tremaining: 582ms\n",
            "532:\tlearn: 0.0862488\ttotal: 663ms\tremaining: 581ms\n",
            "533:\tlearn: 0.0859982\ttotal: 664ms\tremaining: 579ms\n",
            "534:\tlearn: 0.0857566\ttotal: 665ms\tremaining: 578ms\n",
            "535:\tlearn: 0.0855185\ttotal: 666ms\tremaining: 576ms\n",
            "536:\tlearn: 0.0853737\ttotal: 667ms\tremaining: 575ms\n",
            "537:\tlearn: 0.0851698\ttotal: 668ms\tremaining: 574ms\n",
            "538:\tlearn: 0.0850287\ttotal: 669ms\tremaining: 572ms\n",
            "539:\tlearn: 0.0848096\ttotal: 670ms\tremaining: 571ms\n",
            "540:\tlearn: 0.0846025\ttotal: 671ms\tremaining: 569ms\n",
            "541:\tlearn: 0.0843387\ttotal: 672ms\tremaining: 568ms\n",
            "542:\tlearn: 0.0841462\ttotal: 673ms\tremaining: 567ms\n",
            "543:\tlearn: 0.0839197\ttotal: 674ms\tremaining: 565ms\n",
            "544:\tlearn: 0.0837386\ttotal: 675ms\tremaining: 564ms\n",
            "545:\tlearn: 0.0834838\ttotal: 676ms\tremaining: 562ms\n",
            "546:\tlearn: 0.0832181\ttotal: 678ms\tremaining: 561ms\n",
            "547:\tlearn: 0.0830165\ttotal: 679ms\tremaining: 560ms\n",
            "548:\tlearn: 0.0828435\ttotal: 680ms\tremaining: 559ms\n",
            "549:\tlearn: 0.0826389\ttotal: 681ms\tremaining: 557ms\n",
            "550:\tlearn: 0.0824133\ttotal: 682ms\tremaining: 556ms\n",
            "551:\tlearn: 0.0822858\ttotal: 683ms\tremaining: 554ms\n",
            "552:\tlearn: 0.0821569\ttotal: 684ms\tremaining: 553ms\n",
            "553:\tlearn: 0.0820395\ttotal: 685ms\tremaining: 552ms\n",
            "554:\tlearn: 0.0818370\ttotal: 686ms\tremaining: 550ms\n",
            "555:\tlearn: 0.0816697\ttotal: 687ms\tremaining: 549ms\n",
            "556:\tlearn: 0.0815249\ttotal: 688ms\tremaining: 548ms\n",
            "557:\tlearn: 0.0813158\ttotal: 689ms\tremaining: 546ms\n",
            "558:\tlearn: 0.0811642\ttotal: 691ms\tremaining: 545ms\n",
            "559:\tlearn: 0.0809690\ttotal: 692ms\tremaining: 543ms\n",
            "560:\tlearn: 0.0807498\ttotal: 693ms\tremaining: 542ms\n",
            "561:\tlearn: 0.0805986\ttotal: 694ms\tremaining: 541ms\n",
            "562:\tlearn: 0.0804077\ttotal: 695ms\tremaining: 539ms\n",
            "563:\tlearn: 0.0802919\ttotal: 696ms\tremaining: 538ms\n",
            "564:\tlearn: 0.0801756\ttotal: 697ms\tremaining: 537ms\n",
            "565:\tlearn: 0.0799734\ttotal: 698ms\tremaining: 535ms\n",
            "566:\tlearn: 0.0798259\ttotal: 699ms\tremaining: 534ms\n",
            "567:\tlearn: 0.0796952\ttotal: 700ms\tremaining: 532ms\n",
            "568:\tlearn: 0.0795049\ttotal: 701ms\tremaining: 531ms\n",
            "569:\tlearn: 0.0792590\ttotal: 702ms\tremaining: 530ms\n",
            "570:\tlearn: 0.0790381\ttotal: 703ms\tremaining: 529ms\n",
            "571:\tlearn: 0.0788697\ttotal: 705ms\tremaining: 527ms\n",
            "572:\tlearn: 0.0786256\ttotal: 706ms\tremaining: 526ms\n",
            "573:\tlearn: 0.0784654\ttotal: 707ms\tremaining: 524ms\n",
            "574:\tlearn: 0.0782569\ttotal: 708ms\tremaining: 523ms\n",
            "575:\tlearn: 0.0780972\ttotal: 709ms\tremaining: 522ms\n",
            "576:\tlearn: 0.0779016\ttotal: 710ms\tremaining: 521ms\n",
            "577:\tlearn: 0.0777234\ttotal: 711ms\tremaining: 519ms\n",
            "578:\tlearn: 0.0775423\ttotal: 712ms\tremaining: 518ms\n",
            "579:\tlearn: 0.0774175\ttotal: 714ms\tremaining: 517ms\n",
            "580:\tlearn: 0.0772099\ttotal: 715ms\tremaining: 515ms\n",
            "581:\tlearn: 0.0770833\ttotal: 716ms\tremaining: 514ms\n",
            "582:\tlearn: 0.0769202\ttotal: 717ms\tremaining: 513ms\n",
            "583:\tlearn: 0.0767749\ttotal: 718ms\tremaining: 511ms\n",
            "584:\tlearn: 0.0766462\ttotal: 719ms\tremaining: 510ms\n",
            "585:\tlearn: 0.0764735\ttotal: 720ms\tremaining: 509ms\n",
            "586:\tlearn: 0.0763073\ttotal: 721ms\tremaining: 507ms\n",
            "587:\tlearn: 0.0761232\ttotal: 722ms\tremaining: 506ms\n",
            "588:\tlearn: 0.0759778\ttotal: 723ms\tremaining: 505ms\n",
            "589:\tlearn: 0.0757780\ttotal: 725ms\tremaining: 504ms\n",
            "590:\tlearn: 0.0756845\ttotal: 726ms\tremaining: 502ms\n",
            "591:\tlearn: 0.0755698\ttotal: 727ms\tremaining: 501ms\n",
            "592:\tlearn: 0.0754302\ttotal: 728ms\tremaining: 500ms\n",
            "593:\tlearn: 0.0752715\ttotal: 730ms\tremaining: 499ms\n",
            "594:\tlearn: 0.0751417\ttotal: 731ms\tremaining: 498ms\n",
            "595:\tlearn: 0.0749809\ttotal: 732ms\tremaining: 496ms\n",
            "596:\tlearn: 0.0748644\ttotal: 733ms\tremaining: 495ms\n",
            "597:\tlearn: 0.0746662\ttotal: 734ms\tremaining: 494ms\n",
            "598:\tlearn: 0.0745186\ttotal: 736ms\tremaining: 492ms\n",
            "599:\tlearn: 0.0743878\ttotal: 737ms\tremaining: 491ms\n",
            "600:\tlearn: 0.0741940\ttotal: 738ms\tremaining: 490ms\n",
            "601:\tlearn: 0.0740090\ttotal: 739ms\tremaining: 489ms\n",
            "602:\tlearn: 0.0739113\ttotal: 740ms\tremaining: 487ms\n",
            "603:\tlearn: 0.0737057\ttotal: 741ms\tremaining: 486ms\n",
            "604:\tlearn: 0.0736117\ttotal: 742ms\tremaining: 485ms\n",
            "605:\tlearn: 0.0733979\ttotal: 743ms\tremaining: 483ms\n",
            "606:\tlearn: 0.0732562\ttotal: 745ms\tremaining: 482ms\n",
            "607:\tlearn: 0.0730745\ttotal: 746ms\tremaining: 481ms\n",
            "608:\tlearn: 0.0729420\ttotal: 747ms\tremaining: 479ms\n",
            "609:\tlearn: 0.0727529\ttotal: 748ms\tremaining: 478ms\n",
            "610:\tlearn: 0.0726133\ttotal: 749ms\tremaining: 477ms\n",
            "611:\tlearn: 0.0724190\ttotal: 751ms\tremaining: 476ms\n",
            "612:\tlearn: 0.0722143\ttotal: 753ms\tremaining: 475ms\n",
            "613:\tlearn: 0.0720697\ttotal: 754ms\tremaining: 474ms\n",
            "614:\tlearn: 0.0718917\ttotal: 755ms\tremaining: 473ms\n",
            "615:\tlearn: 0.0717549\ttotal: 757ms\tremaining: 472ms\n",
            "616:\tlearn: 0.0716639\ttotal: 758ms\tremaining: 471ms\n",
            "617:\tlearn: 0.0715029\ttotal: 759ms\tremaining: 469ms\n",
            "618:\tlearn: 0.0713481\ttotal: 760ms\tremaining: 468ms\n",
            "619:\tlearn: 0.0711712\ttotal: 762ms\tremaining: 467ms\n",
            "620:\tlearn: 0.0710098\ttotal: 763ms\tremaining: 465ms\n",
            "621:\tlearn: 0.0709098\ttotal: 764ms\tremaining: 464ms\n",
            "622:\tlearn: 0.0708035\ttotal: 765ms\tremaining: 463ms\n",
            "623:\tlearn: 0.0707113\ttotal: 766ms\tremaining: 462ms\n",
            "624:\tlearn: 0.0705378\ttotal: 767ms\tremaining: 460ms\n",
            "625:\tlearn: 0.0704634\ttotal: 768ms\tremaining: 459ms\n",
            "626:\tlearn: 0.0703290\ttotal: 769ms\tremaining: 458ms\n",
            "627:\tlearn: 0.0702352\ttotal: 770ms\tremaining: 456ms\n",
            "628:\tlearn: 0.0700491\ttotal: 771ms\tremaining: 455ms\n",
            "629:\tlearn: 0.0698653\ttotal: 772ms\tremaining: 454ms\n",
            "630:\tlearn: 0.0697099\ttotal: 773ms\tremaining: 452ms\n",
            "631:\tlearn: 0.0695255\ttotal: 775ms\tremaining: 451ms\n",
            "632:\tlearn: 0.0694093\ttotal: 776ms\tremaining: 450ms\n",
            "633:\tlearn: 0.0692420\ttotal: 777ms\tremaining: 448ms\n",
            "634:\tlearn: 0.0691309\ttotal: 778ms\tremaining: 447ms\n",
            "635:\tlearn: 0.0690364\ttotal: 779ms\tremaining: 446ms\n",
            "636:\tlearn: 0.0688635\ttotal: 780ms\tremaining: 444ms\n",
            "637:\tlearn: 0.0687247\ttotal: 781ms\tremaining: 443ms\n",
            "638:\tlearn: 0.0685846\ttotal: 782ms\tremaining: 442ms\n",
            "639:\tlearn: 0.0684695\ttotal: 783ms\tremaining: 441ms\n",
            "640:\tlearn: 0.0683178\ttotal: 784ms\tremaining: 439ms\n",
            "641:\tlearn: 0.0681313\ttotal: 785ms\tremaining: 438ms\n",
            "642:\tlearn: 0.0680360\ttotal: 787ms\tremaining: 437ms\n",
            "643:\tlearn: 0.0679910\ttotal: 788ms\tremaining: 435ms\n",
            "644:\tlearn: 0.0678884\ttotal: 789ms\tremaining: 434ms\n",
            "645:\tlearn: 0.0678131\ttotal: 790ms\tremaining: 433ms\n",
            "646:\tlearn: 0.0676545\ttotal: 791ms\tremaining: 431ms\n",
            "647:\tlearn: 0.0675139\ttotal: 792ms\tremaining: 430ms\n",
            "648:\tlearn: 0.0673425\ttotal: 793ms\tremaining: 429ms\n",
            "649:\tlearn: 0.0672045\ttotal: 794ms\tremaining: 428ms\n",
            "650:\tlearn: 0.0670585\ttotal: 795ms\tremaining: 426ms\n",
            "651:\tlearn: 0.0668841\ttotal: 796ms\tremaining: 425ms\n",
            "652:\tlearn: 0.0667257\ttotal: 797ms\tremaining: 424ms\n",
            "653:\tlearn: 0.0666065\ttotal: 798ms\tremaining: 422ms\n",
            "654:\tlearn: 0.0664552\ttotal: 799ms\tremaining: 421ms\n",
            "655:\tlearn: 0.0663016\ttotal: 800ms\tremaining: 420ms\n",
            "656:\tlearn: 0.0661261\ttotal: 802ms\tremaining: 418ms\n",
            "657:\tlearn: 0.0660141\ttotal: 803ms\tremaining: 417ms\n",
            "658:\tlearn: 0.0658932\ttotal: 804ms\tremaining: 416ms\n",
            "659:\tlearn: 0.0658074\ttotal: 805ms\tremaining: 415ms\n",
            "660:\tlearn: 0.0656864\ttotal: 806ms\tremaining: 413ms\n",
            "661:\tlearn: 0.0656333\ttotal: 807ms\tremaining: 412ms\n",
            "662:\tlearn: 0.0655048\ttotal: 808ms\tremaining: 411ms\n",
            "663:\tlearn: 0.0653800\ttotal: 809ms\tremaining: 409ms\n",
            "664:\tlearn: 0.0652396\ttotal: 810ms\tremaining: 408ms\n",
            "665:\tlearn: 0.0651050\ttotal: 811ms\tremaining: 407ms\n",
            "666:\tlearn: 0.0649725\ttotal: 812ms\tremaining: 405ms\n",
            "667:\tlearn: 0.0648043\ttotal: 813ms\tremaining: 404ms\n",
            "668:\tlearn: 0.0646610\ttotal: 814ms\tremaining: 403ms\n",
            "669:\tlearn: 0.0645028\ttotal: 815ms\tremaining: 402ms\n",
            "670:\tlearn: 0.0643729\ttotal: 816ms\tremaining: 400ms\n",
            "671:\tlearn: 0.0642486\ttotal: 817ms\tremaining: 399ms\n",
            "672:\tlearn: 0.0641213\ttotal: 818ms\tremaining: 398ms\n",
            "673:\tlearn: 0.0640343\ttotal: 819ms\tremaining: 396ms\n",
            "674:\tlearn: 0.0639281\ttotal: 821ms\tremaining: 395ms\n",
            "675:\tlearn: 0.0637798\ttotal: 822ms\tremaining: 394ms\n",
            "676:\tlearn: 0.0636394\ttotal: 823ms\tremaining: 392ms\n",
            "677:\tlearn: 0.0635706\ttotal: 824ms\tremaining: 391ms\n",
            "678:\tlearn: 0.0634165\ttotal: 825ms\tremaining: 390ms\n",
            "679:\tlearn: 0.0633193\ttotal: 826ms\tremaining: 389ms\n",
            "680:\tlearn: 0.0632148\ttotal: 827ms\tremaining: 387ms\n",
            "681:\tlearn: 0.0630776\ttotal: 828ms\tremaining: 386ms\n",
            "682:\tlearn: 0.0630255\ttotal: 829ms\tremaining: 385ms\n",
            "683:\tlearn: 0.0629549\ttotal: 830ms\tremaining: 383ms\n",
            "684:\tlearn: 0.0628319\ttotal: 832ms\tremaining: 382ms\n",
            "685:\tlearn: 0.0627168\ttotal: 834ms\tremaining: 382ms\n",
            "686:\tlearn: 0.0626311\ttotal: 835ms\tremaining: 380ms\n",
            "687:\tlearn: 0.0624917\ttotal: 836ms\tremaining: 379ms\n",
            "688:\tlearn: 0.0623775\ttotal: 837ms\tremaining: 378ms\n",
            "689:\tlearn: 0.0622679\ttotal: 838ms\tremaining: 376ms\n",
            "690:\tlearn: 0.0621496\ttotal: 839ms\tremaining: 375ms\n",
            "691:\tlearn: 0.0620303\ttotal: 840ms\tremaining: 374ms\n",
            "692:\tlearn: 0.0618924\ttotal: 841ms\tremaining: 373ms\n",
            "693:\tlearn: 0.0617695\ttotal: 842ms\tremaining: 371ms\n",
            "694:\tlearn: 0.0616686\ttotal: 843ms\tremaining: 370ms\n",
            "695:\tlearn: 0.0615771\ttotal: 844ms\tremaining: 369ms\n",
            "696:\tlearn: 0.0614919\ttotal: 845ms\tremaining: 368ms\n",
            "697:\tlearn: 0.0613678\ttotal: 847ms\tremaining: 366ms\n",
            "698:\tlearn: 0.0613186\ttotal: 848ms\tremaining: 365ms\n",
            "699:\tlearn: 0.0611919\ttotal: 849ms\tremaining: 364ms\n",
            "700:\tlearn: 0.0611188\ttotal: 850ms\tremaining: 362ms\n",
            "701:\tlearn: 0.0610406\ttotal: 851ms\tremaining: 361ms\n",
            "702:\tlearn: 0.0608916\ttotal: 852ms\tremaining: 360ms\n",
            "703:\tlearn: 0.0607550\ttotal: 853ms\tremaining: 359ms\n",
            "704:\tlearn: 0.0606802\ttotal: 854ms\tremaining: 357ms\n",
            "705:\tlearn: 0.0605850\ttotal: 855ms\tremaining: 356ms\n",
            "706:\tlearn: 0.0604498\ttotal: 857ms\tremaining: 355ms\n",
            "707:\tlearn: 0.0603494\ttotal: 858ms\tremaining: 354ms\n",
            "708:\tlearn: 0.0602191\ttotal: 859ms\tremaining: 353ms\n",
            "709:\tlearn: 0.0601228\ttotal: 861ms\tremaining: 351ms\n",
            "710:\tlearn: 0.0599944\ttotal: 862ms\tremaining: 350ms\n",
            "711:\tlearn: 0.0598702\ttotal: 863ms\tremaining: 349ms\n",
            "712:\tlearn: 0.0597517\ttotal: 864ms\tremaining: 348ms\n",
            "713:\tlearn: 0.0596526\ttotal: 865ms\tremaining: 346ms\n",
            "714:\tlearn: 0.0595310\ttotal: 866ms\tremaining: 345ms\n",
            "715:\tlearn: 0.0594508\ttotal: 867ms\tremaining: 344ms\n",
            "716:\tlearn: 0.0593502\ttotal: 868ms\tremaining: 343ms\n",
            "717:\tlearn: 0.0592802\ttotal: 869ms\tremaining: 341ms\n",
            "718:\tlearn: 0.0591597\ttotal: 870ms\tremaining: 340ms\n",
            "719:\tlearn: 0.0590933\ttotal: 872ms\tremaining: 339ms\n",
            "720:\tlearn: 0.0590147\ttotal: 873ms\tremaining: 338ms\n",
            "721:\tlearn: 0.0589433\ttotal: 874ms\tremaining: 336ms\n",
            "722:\tlearn: 0.0588176\ttotal: 875ms\tremaining: 335ms\n",
            "723:\tlearn: 0.0587311\ttotal: 876ms\tremaining: 334ms\n",
            "724:\tlearn: 0.0586531\ttotal: 877ms\tremaining: 333ms\n",
            "725:\tlearn: 0.0585726\ttotal: 878ms\tremaining: 331ms\n",
            "726:\tlearn: 0.0584411\ttotal: 879ms\tremaining: 330ms\n",
            "727:\tlearn: 0.0583663\ttotal: 880ms\tremaining: 329ms\n",
            "728:\tlearn: 0.0582631\ttotal: 882ms\tremaining: 328ms\n",
            "729:\tlearn: 0.0581609\ttotal: 883ms\tremaining: 326ms\n",
            "730:\tlearn: 0.0580433\ttotal: 884ms\tremaining: 325ms\n",
            "731:\tlearn: 0.0579436\ttotal: 885ms\tremaining: 324ms\n",
            "732:\tlearn: 0.0578592\ttotal: 886ms\tremaining: 323ms\n",
            "733:\tlearn: 0.0577295\ttotal: 887ms\tremaining: 321ms\n",
            "734:\tlearn: 0.0576299\ttotal: 888ms\tremaining: 320ms\n",
            "735:\tlearn: 0.0575826\ttotal: 889ms\tremaining: 319ms\n",
            "736:\tlearn: 0.0574729\ttotal: 890ms\tremaining: 318ms\n",
            "737:\tlearn: 0.0573462\ttotal: 891ms\tremaining: 316ms\n",
            "738:\tlearn: 0.0572426\ttotal: 892ms\tremaining: 315ms\n",
            "739:\tlearn: 0.0571164\ttotal: 893ms\tremaining: 314ms\n",
            "740:\tlearn: 0.0570427\ttotal: 894ms\tremaining: 313ms\n",
            "741:\tlearn: 0.0569531\ttotal: 895ms\tremaining: 311ms\n",
            "742:\tlearn: 0.0568502\ttotal: 897ms\tremaining: 310ms\n",
            "743:\tlearn: 0.0567257\ttotal: 898ms\tremaining: 309ms\n",
            "744:\tlearn: 0.0566454\ttotal: 899ms\tremaining: 308ms\n",
            "745:\tlearn: 0.0565428\ttotal: 900ms\tremaining: 306ms\n",
            "746:\tlearn: 0.0564385\ttotal: 901ms\tremaining: 305ms\n",
            "747:\tlearn: 0.0563413\ttotal: 902ms\tremaining: 304ms\n",
            "748:\tlearn: 0.0562504\ttotal: 903ms\tremaining: 303ms\n",
            "749:\tlearn: 0.0561727\ttotal: 904ms\tremaining: 301ms\n",
            "750:\tlearn: 0.0561272\ttotal: 905ms\tremaining: 300ms\n",
            "751:\tlearn: 0.0560311\ttotal: 906ms\tremaining: 299ms\n",
            "752:\tlearn: 0.0559442\ttotal: 907ms\tremaining: 298ms\n",
            "753:\tlearn: 0.0558500\ttotal: 908ms\tremaining: 296ms\n",
            "754:\tlearn: 0.0558080\ttotal: 909ms\tremaining: 295ms\n",
            "755:\tlearn: 0.0557204\ttotal: 910ms\tremaining: 294ms\n",
            "756:\tlearn: 0.0556602\ttotal: 912ms\tremaining: 293ms\n",
            "757:\tlearn: 0.0555530\ttotal: 913ms\tremaining: 291ms\n",
            "758:\tlearn: 0.0554930\ttotal: 914ms\tremaining: 290ms\n",
            "759:\tlearn: 0.0554156\ttotal: 915ms\tremaining: 289ms\n",
            "760:\tlearn: 0.0553615\ttotal: 916ms\tremaining: 288ms\n",
            "761:\tlearn: 0.0552415\ttotal: 917ms\tremaining: 286ms\n",
            "762:\tlearn: 0.0551539\ttotal: 918ms\tremaining: 285ms\n",
            "763:\tlearn: 0.0550768\ttotal: 919ms\tremaining: 284ms\n",
            "764:\tlearn: 0.0549403\ttotal: 920ms\tremaining: 283ms\n",
            "765:\tlearn: 0.0548602\ttotal: 921ms\tremaining: 281ms\n",
            "766:\tlearn: 0.0548050\ttotal: 922ms\tremaining: 280ms\n",
            "767:\tlearn: 0.0547016\ttotal: 923ms\tremaining: 279ms\n",
            "768:\tlearn: 0.0546598\ttotal: 924ms\tremaining: 278ms\n",
            "769:\tlearn: 0.0545610\ttotal: 925ms\tremaining: 276ms\n",
            "770:\tlearn: 0.0544547\ttotal: 927ms\tremaining: 275ms\n",
            "771:\tlearn: 0.0543894\ttotal: 928ms\tremaining: 274ms\n",
            "772:\tlearn: 0.0542866\ttotal: 929ms\tremaining: 273ms\n",
            "773:\tlearn: 0.0541960\ttotal: 930ms\tremaining: 272ms\n",
            "774:\tlearn: 0.0541108\ttotal: 931ms\tremaining: 270ms\n",
            "775:\tlearn: 0.0540108\ttotal: 932ms\tremaining: 269ms\n",
            "776:\tlearn: 0.0539226\ttotal: 933ms\tremaining: 268ms\n",
            "777:\tlearn: 0.0538495\ttotal: 934ms\tremaining: 267ms\n",
            "778:\tlearn: 0.0537733\ttotal: 936ms\tremaining: 265ms\n",
            "779:\tlearn: 0.0537071\ttotal: 937ms\tremaining: 264ms\n",
            "780:\tlearn: 0.0536503\ttotal: 938ms\tremaining: 263ms\n",
            "781:\tlearn: 0.0535567\ttotal: 939ms\tremaining: 262ms\n",
            "782:\tlearn: 0.0534535\ttotal: 940ms\tremaining: 261ms\n",
            "783:\tlearn: 0.0533863\ttotal: 944ms\tremaining: 260ms\n",
            "784:\tlearn: 0.0533331\ttotal: 945ms\tremaining: 259ms\n",
            "785:\tlearn: 0.0532431\ttotal: 946ms\tremaining: 258ms\n",
            "786:\tlearn: 0.0531808\ttotal: 949ms\tremaining: 257ms\n",
            "787:\tlearn: 0.0530823\ttotal: 950ms\tremaining: 255ms\n",
            "788:\tlearn: 0.0530199\ttotal: 951ms\tremaining: 254ms\n",
            "789:\tlearn: 0.0529333\ttotal: 952ms\tremaining: 253ms\n",
            "790:\tlearn: 0.0528573\ttotal: 953ms\tremaining: 252ms\n",
            "791:\tlearn: 0.0527985\ttotal: 954ms\tremaining: 251ms\n",
            "792:\tlearn: 0.0527218\ttotal: 955ms\tremaining: 249ms\n",
            "793:\tlearn: 0.0526309\ttotal: 956ms\tremaining: 248ms\n",
            "794:\tlearn: 0.0525414\ttotal: 957ms\tremaining: 247ms\n",
            "795:\tlearn: 0.0524570\ttotal: 958ms\tremaining: 246ms\n",
            "796:\tlearn: 0.0523865\ttotal: 960ms\tremaining: 244ms\n",
            "797:\tlearn: 0.0523064\ttotal: 961ms\tremaining: 243ms\n",
            "798:\tlearn: 0.0522258\ttotal: 962ms\tremaining: 242ms\n",
            "799:\tlearn: 0.0521548\ttotal: 963ms\tremaining: 241ms\n",
            "800:\tlearn: 0.0520466\ttotal: 964ms\tremaining: 240ms\n",
            "801:\tlearn: 0.0519732\ttotal: 965ms\tremaining: 238ms\n",
            "802:\tlearn: 0.0518872\ttotal: 966ms\tremaining: 237ms\n",
            "803:\tlearn: 0.0518075\ttotal: 967ms\tremaining: 236ms\n",
            "804:\tlearn: 0.0517419\ttotal: 969ms\tremaining: 235ms\n",
            "805:\tlearn: 0.0516290\ttotal: 970ms\tremaining: 233ms\n",
            "806:\tlearn: 0.0515507\ttotal: 971ms\tremaining: 232ms\n",
            "807:\tlearn: 0.0514792\ttotal: 972ms\tremaining: 231ms\n",
            "808:\tlearn: 0.0514206\ttotal: 973ms\tremaining: 230ms\n",
            "809:\tlearn: 0.0513396\ttotal: 974ms\tremaining: 229ms\n",
            "810:\tlearn: 0.0512611\ttotal: 975ms\tremaining: 227ms\n",
            "811:\tlearn: 0.0511884\ttotal: 976ms\tremaining: 226ms\n",
            "812:\tlearn: 0.0510870\ttotal: 977ms\tremaining: 225ms\n",
            "813:\tlearn: 0.0510029\ttotal: 979ms\tremaining: 224ms\n",
            "814:\tlearn: 0.0509221\ttotal: 980ms\tremaining: 222ms\n",
            "815:\tlearn: 0.0508326\ttotal: 981ms\tremaining: 221ms\n",
            "816:\tlearn: 0.0507765\ttotal: 982ms\tremaining: 220ms\n",
            "817:\tlearn: 0.0507059\ttotal: 983ms\tremaining: 219ms\n",
            "818:\tlearn: 0.0506304\ttotal: 984ms\tremaining: 217ms\n",
            "819:\tlearn: 0.0505677\ttotal: 985ms\tremaining: 216ms\n",
            "820:\tlearn: 0.0505226\ttotal: 986ms\tremaining: 215ms\n",
            "821:\tlearn: 0.0504497\ttotal: 987ms\tremaining: 214ms\n",
            "822:\tlearn: 0.0503639\ttotal: 988ms\tremaining: 213ms\n",
            "823:\tlearn: 0.0502754\ttotal: 989ms\tremaining: 211ms\n",
            "824:\tlearn: 0.0502225\ttotal: 990ms\tremaining: 210ms\n",
            "825:\tlearn: 0.0501253\ttotal: 991ms\tremaining: 209ms\n",
            "826:\tlearn: 0.0500625\ttotal: 993ms\tremaining: 208ms\n",
            "827:\tlearn: 0.0499995\ttotal: 994ms\tremaining: 206ms\n",
            "828:\tlearn: 0.0499358\ttotal: 995ms\tremaining: 205ms\n",
            "829:\tlearn: 0.0498675\ttotal: 996ms\tremaining: 204ms\n",
            "830:\tlearn: 0.0497937\ttotal: 997ms\tremaining: 203ms\n",
            "831:\tlearn: 0.0497239\ttotal: 998ms\tremaining: 201ms\n",
            "832:\tlearn: 0.0496891\ttotal: 999ms\tremaining: 200ms\n",
            "833:\tlearn: 0.0495982\ttotal: 1s\tremaining: 199ms\n",
            "834:\tlearn: 0.0495515\ttotal: 1s\tremaining: 198ms\n",
            "835:\tlearn: 0.0494652\ttotal: 1s\tremaining: 197ms\n",
            "836:\tlearn: 0.0493702\ttotal: 1s\tremaining: 195ms\n",
            "837:\tlearn: 0.0492983\ttotal: 1s\tremaining: 194ms\n",
            "838:\tlearn: 0.0492263\ttotal: 1s\tremaining: 193ms\n",
            "839:\tlearn: 0.0491431\ttotal: 1.01s\tremaining: 192ms\n",
            "840:\tlearn: 0.0490635\ttotal: 1.01s\tremaining: 190ms\n",
            "841:\tlearn: 0.0489938\ttotal: 1.01s\tremaining: 189ms\n",
            "842:\tlearn: 0.0489351\ttotal: 1.01s\tremaining: 188ms\n",
            "843:\tlearn: 0.0488638\ttotal: 1.01s\tremaining: 187ms\n",
            "844:\tlearn: 0.0487915\ttotal: 1.01s\tremaining: 186ms\n",
            "845:\tlearn: 0.0487434\ttotal: 1.01s\tremaining: 184ms\n",
            "846:\tlearn: 0.0486504\ttotal: 1.01s\tremaining: 183ms\n",
            "847:\tlearn: 0.0485782\ttotal: 1.01s\tremaining: 182ms\n",
            "848:\tlearn: 0.0485180\ttotal: 1.01s\tremaining: 181ms\n",
            "849:\tlearn: 0.0484511\ttotal: 1.02s\tremaining: 179ms\n",
            "850:\tlearn: 0.0483854\ttotal: 1.02s\tremaining: 178ms\n",
            "851:\tlearn: 0.0483088\ttotal: 1.02s\tremaining: 177ms\n",
            "852:\tlearn: 0.0482573\ttotal: 1.02s\tremaining: 176ms\n",
            "853:\tlearn: 0.0481720\ttotal: 1.02s\tremaining: 175ms\n",
            "854:\tlearn: 0.0481094\ttotal: 1.02s\tremaining: 173ms\n",
            "855:\tlearn: 0.0480555\ttotal: 1.02s\tremaining: 172ms\n",
            "856:\tlearn: 0.0479914\ttotal: 1.02s\tremaining: 171ms\n",
            "857:\tlearn: 0.0479210\ttotal: 1.02s\tremaining: 170ms\n",
            "858:\tlearn: 0.0478526\ttotal: 1.03s\tremaining: 169ms\n",
            "859:\tlearn: 0.0477846\ttotal: 1.03s\tremaining: 167ms\n",
            "860:\tlearn: 0.0477300\ttotal: 1.03s\tremaining: 166ms\n",
            "861:\tlearn: 0.0476673\ttotal: 1.03s\tremaining: 165ms\n",
            "862:\tlearn: 0.0476097\ttotal: 1.03s\tremaining: 164ms\n",
            "863:\tlearn: 0.0475627\ttotal: 1.03s\tremaining: 162ms\n",
            "864:\tlearn: 0.0475068\ttotal: 1.03s\tremaining: 161ms\n",
            "865:\tlearn: 0.0474542\ttotal: 1.03s\tremaining: 160ms\n",
            "866:\tlearn: 0.0473955\ttotal: 1.03s\tremaining: 159ms\n",
            "867:\tlearn: 0.0473316\ttotal: 1.03s\tremaining: 158ms\n",
            "868:\tlearn: 0.0472441\ttotal: 1.04s\tremaining: 156ms\n",
            "869:\tlearn: 0.0471855\ttotal: 1.04s\tremaining: 155ms\n",
            "870:\tlearn: 0.0471019\ttotal: 1.04s\tremaining: 154ms\n",
            "871:\tlearn: 0.0470547\ttotal: 1.04s\tremaining: 153ms\n",
            "872:\tlearn: 0.0469845\ttotal: 1.04s\tremaining: 151ms\n",
            "873:\tlearn: 0.0468992\ttotal: 1.04s\tremaining: 150ms\n",
            "874:\tlearn: 0.0468309\ttotal: 1.04s\tremaining: 149ms\n",
            "875:\tlearn: 0.0467665\ttotal: 1.04s\tremaining: 148ms\n",
            "876:\tlearn: 0.0467172\ttotal: 1.04s\tremaining: 147ms\n",
            "877:\tlearn: 0.0466368\ttotal: 1.05s\tremaining: 145ms\n",
            "878:\tlearn: 0.0465792\ttotal: 1.05s\tremaining: 144ms\n",
            "879:\tlearn: 0.0465009\ttotal: 1.05s\tremaining: 143ms\n",
            "880:\tlearn: 0.0464181\ttotal: 1.05s\tremaining: 142ms\n",
            "881:\tlearn: 0.0463677\ttotal: 1.05s\tremaining: 141ms\n",
            "882:\tlearn: 0.0463165\ttotal: 1.05s\tremaining: 139ms\n",
            "883:\tlearn: 0.0462629\ttotal: 1.05s\tremaining: 138ms\n",
            "884:\tlearn: 0.0462001\ttotal: 1.05s\tremaining: 137ms\n",
            "885:\tlearn: 0.0461144\ttotal: 1.05s\tremaining: 136ms\n",
            "886:\tlearn: 0.0460851\ttotal: 1.05s\tremaining: 134ms\n",
            "887:\tlearn: 0.0460307\ttotal: 1.06s\tremaining: 133ms\n",
            "888:\tlearn: 0.0459741\ttotal: 1.06s\tremaining: 132ms\n",
            "889:\tlearn: 0.0458928\ttotal: 1.06s\tremaining: 131ms\n",
            "890:\tlearn: 0.0458472\ttotal: 1.06s\tremaining: 130ms\n",
            "891:\tlearn: 0.0458077\ttotal: 1.06s\tremaining: 128ms\n",
            "892:\tlearn: 0.0457528\ttotal: 1.06s\tremaining: 127ms\n",
            "893:\tlearn: 0.0456703\ttotal: 1.06s\tremaining: 126ms\n",
            "894:\tlearn: 0.0456107\ttotal: 1.06s\tremaining: 125ms\n",
            "895:\tlearn: 0.0455611\ttotal: 1.06s\tremaining: 124ms\n",
            "896:\tlearn: 0.0455180\ttotal: 1.07s\tremaining: 122ms\n",
            "897:\tlearn: 0.0454460\ttotal: 1.07s\tremaining: 121ms\n",
            "898:\tlearn: 0.0454057\ttotal: 1.07s\tremaining: 120ms\n",
            "899:\tlearn: 0.0453326\ttotal: 1.07s\tremaining: 119ms\n",
            "900:\tlearn: 0.0452739\ttotal: 1.07s\tremaining: 118ms\n",
            "901:\tlearn: 0.0452358\ttotal: 1.07s\tremaining: 116ms\n",
            "902:\tlearn: 0.0451616\ttotal: 1.07s\tremaining: 115ms\n",
            "903:\tlearn: 0.0450910\ttotal: 1.07s\tremaining: 114ms\n",
            "904:\tlearn: 0.0450496\ttotal: 1.07s\tremaining: 113ms\n",
            "905:\tlearn: 0.0449785\ttotal: 1.07s\tremaining: 112ms\n",
            "906:\tlearn: 0.0449276\ttotal: 1.08s\tremaining: 110ms\n",
            "907:\tlearn: 0.0448855\ttotal: 1.08s\tremaining: 109ms\n",
            "908:\tlearn: 0.0448506\ttotal: 1.08s\tremaining: 108ms\n",
            "909:\tlearn: 0.0447888\ttotal: 1.08s\tremaining: 107ms\n",
            "910:\tlearn: 0.0447376\ttotal: 1.08s\tremaining: 106ms\n",
            "911:\tlearn: 0.0446841\ttotal: 1.08s\tremaining: 104ms\n",
            "912:\tlearn: 0.0446114\ttotal: 1.08s\tremaining: 103ms\n",
            "913:\tlearn: 0.0445522\ttotal: 1.08s\tremaining: 102ms\n",
            "914:\tlearn: 0.0445055\ttotal: 1.08s\tremaining: 101ms\n",
            "915:\tlearn: 0.0444530\ttotal: 1.09s\tremaining: 99.6ms\n",
            "916:\tlearn: 0.0443918\ttotal: 1.09s\tremaining: 98.4ms\n",
            "917:\tlearn: 0.0443118\ttotal: 1.09s\tremaining: 97.2ms\n",
            "918:\tlearn: 0.0442494\ttotal: 1.09s\tremaining: 96.1ms\n",
            "919:\tlearn: 0.0441701\ttotal: 1.09s\tremaining: 94.9ms\n",
            "920:\tlearn: 0.0441239\ttotal: 1.09s\tremaining: 93.7ms\n",
            "921:\tlearn: 0.0440638\ttotal: 1.09s\tremaining: 92.5ms\n",
            "922:\tlearn: 0.0440095\ttotal: 1.09s\tremaining: 91.3ms\n",
            "923:\tlearn: 0.0439444\ttotal: 1.09s\tremaining: 90.1ms\n",
            "924:\tlearn: 0.0438765\ttotal: 1.1s\tremaining: 88.9ms\n",
            "925:\tlearn: 0.0438168\ttotal: 1.1s\tremaining: 87.7ms\n",
            "926:\tlearn: 0.0437540\ttotal: 1.1s\tremaining: 86.5ms\n",
            "927:\tlearn: 0.0436790\ttotal: 1.1s\tremaining: 85.3ms\n",
            "928:\tlearn: 0.0435979\ttotal: 1.1s\tremaining: 84.1ms\n",
            "929:\tlearn: 0.0435509\ttotal: 1.1s\tremaining: 82.9ms\n",
            "930:\tlearn: 0.0434803\ttotal: 1.1s\tremaining: 81.7ms\n",
            "931:\tlearn: 0.0434177\ttotal: 1.1s\tremaining: 80.5ms\n",
            "932:\tlearn: 0.0433606\ttotal: 1.1s\tremaining: 79.4ms\n",
            "933:\tlearn: 0.0433106\ttotal: 1.11s\tremaining: 78.2ms\n",
            "934:\tlearn: 0.0432538\ttotal: 1.11s\tremaining: 77ms\n",
            "935:\tlearn: 0.0431838\ttotal: 1.11s\tremaining: 75.8ms\n",
            "936:\tlearn: 0.0431109\ttotal: 1.11s\tremaining: 74.6ms\n",
            "937:\tlearn: 0.0430647\ttotal: 1.11s\tremaining: 73.4ms\n",
            "938:\tlearn: 0.0430046\ttotal: 1.11s\tremaining: 72.2ms\n",
            "939:\tlearn: 0.0429482\ttotal: 1.11s\tremaining: 71ms\n",
            "940:\tlearn: 0.0428934\ttotal: 1.11s\tremaining: 69.8ms\n",
            "941:\tlearn: 0.0428418\ttotal: 1.11s\tremaining: 68.6ms\n",
            "942:\tlearn: 0.0427897\ttotal: 1.11s\tremaining: 67.4ms\n",
            "943:\tlearn: 0.0427217\ttotal: 1.12s\tremaining: 66.3ms\n",
            "944:\tlearn: 0.0426617\ttotal: 1.12s\tremaining: 65.1ms\n",
            "945:\tlearn: 0.0426161\ttotal: 1.12s\tremaining: 63.9ms\n",
            "946:\tlearn: 0.0425363\ttotal: 1.12s\tremaining: 62.7ms\n",
            "947:\tlearn: 0.0424970\ttotal: 1.12s\tremaining: 61.5ms\n",
            "948:\tlearn: 0.0424379\ttotal: 1.12s\tremaining: 60.3ms\n",
            "949:\tlearn: 0.0423771\ttotal: 1.12s\tremaining: 59.1ms\n",
            "950:\tlearn: 0.0423140\ttotal: 1.12s\tremaining: 57.9ms\n",
            "951:\tlearn: 0.0422567\ttotal: 1.13s\tremaining: 56.8ms\n",
            "952:\tlearn: 0.0421843\ttotal: 1.13s\tremaining: 55.6ms\n",
            "953:\tlearn: 0.0421475\ttotal: 1.13s\tremaining: 54.4ms\n",
            "954:\tlearn: 0.0421000\ttotal: 1.13s\tremaining: 53.2ms\n",
            "955:\tlearn: 0.0420461\ttotal: 1.13s\tremaining: 52ms\n",
            "956:\tlearn: 0.0419884\ttotal: 1.13s\tremaining: 50.9ms\n",
            "957:\tlearn: 0.0419221\ttotal: 1.13s\tremaining: 49.7ms\n",
            "958:\tlearn: 0.0418864\ttotal: 1.13s\tremaining: 48.5ms\n",
            "959:\tlearn: 0.0418407\ttotal: 1.14s\tremaining: 47.3ms\n",
            "960:\tlearn: 0.0417909\ttotal: 1.14s\tremaining: 46.2ms\n",
            "961:\tlearn: 0.0417347\ttotal: 1.14s\tremaining: 45ms\n",
            "962:\tlearn: 0.0416674\ttotal: 1.14s\tremaining: 43.8ms\n",
            "963:\tlearn: 0.0416131\ttotal: 1.14s\tremaining: 42.7ms\n",
            "964:\tlearn: 0.0415621\ttotal: 1.14s\tremaining: 41.5ms\n",
            "965:\tlearn: 0.0414932\ttotal: 1.14s\tremaining: 40.3ms\n",
            "966:\tlearn: 0.0414469\ttotal: 1.15s\tremaining: 39.1ms\n",
            "967:\tlearn: 0.0414123\ttotal: 1.15s\tremaining: 37.9ms\n",
            "968:\tlearn: 0.0413553\ttotal: 1.15s\tremaining: 36.7ms\n",
            "969:\tlearn: 0.0413064\ttotal: 1.15s\tremaining: 35.5ms\n",
            "970:\tlearn: 0.0412710\ttotal: 1.15s\tremaining: 34.3ms\n",
            "971:\tlearn: 0.0412378\ttotal: 1.15s\tremaining: 33.2ms\n",
            "972:\tlearn: 0.0411594\ttotal: 1.15s\tremaining: 32ms\n",
            "973:\tlearn: 0.0410925\ttotal: 1.15s\tremaining: 30.8ms\n",
            "974:\tlearn: 0.0410504\ttotal: 1.15s\tremaining: 29.6ms\n",
            "975:\tlearn: 0.0409825\ttotal: 1.16s\tremaining: 28.4ms\n",
            "976:\tlearn: 0.0409444\ttotal: 1.16s\tremaining: 27.2ms\n",
            "977:\tlearn: 0.0408886\ttotal: 1.16s\tremaining: 26ms\n",
            "978:\tlearn: 0.0408433\ttotal: 1.16s\tremaining: 24.9ms\n",
            "979:\tlearn: 0.0408021\ttotal: 1.16s\tremaining: 23.7ms\n",
            "980:\tlearn: 0.0407589\ttotal: 1.16s\tremaining: 22.5ms\n",
            "981:\tlearn: 0.0407091\ttotal: 1.16s\tremaining: 21.3ms\n",
            "982:\tlearn: 0.0406795\ttotal: 1.16s\tremaining: 20.1ms\n",
            "983:\tlearn: 0.0406393\ttotal: 1.16s\tremaining: 18.9ms\n",
            "984:\tlearn: 0.0405758\ttotal: 1.17s\tremaining: 17.7ms\n",
            "985:\tlearn: 0.0405332\ttotal: 1.17s\tremaining: 16.6ms\n",
            "986:\tlearn: 0.0404603\ttotal: 1.17s\tremaining: 15.4ms\n",
            "987:\tlearn: 0.0404199\ttotal: 1.17s\tremaining: 14.2ms\n",
            "988:\tlearn: 0.0403976\ttotal: 1.17s\tremaining: 13ms\n",
            "989:\tlearn: 0.0403548\ttotal: 1.17s\tremaining: 11.8ms\n",
            "990:\tlearn: 0.0403143\ttotal: 1.17s\tremaining: 10.6ms\n",
            "991:\tlearn: 0.0402685\ttotal: 1.17s\tremaining: 9.46ms\n",
            "992:\tlearn: 0.0402108\ttotal: 1.17s\tremaining: 8.28ms\n",
            "993:\tlearn: 0.0401686\ttotal: 1.18s\tremaining: 7.1ms\n",
            "994:\tlearn: 0.0401238\ttotal: 1.18s\tremaining: 5.91ms\n",
            "995:\tlearn: 0.0400541\ttotal: 1.18s\tremaining: 4.73ms\n",
            "996:\tlearn: 0.0400131\ttotal: 1.18s\tremaining: 3.55ms\n",
            "997:\tlearn: 0.0399542\ttotal: 1.18s\tremaining: 2.36ms\n",
            "998:\tlearn: 0.0399212\ttotal: 1.18s\tremaining: 1.18ms\n",
            "999:\tlearn: 0.0398577\ttotal: 1.18s\tremaining: 0us\n",
            "Best Accuracy: 69.31 %\n",
            "Best Parameters: {'n_estimators': 1000}\n"
          ]
        }
      ],
      "source": [
        "from catboost import CatBoostClassifier\n",
        "cboost = CatBoostClassifier()\n",
        "\n",
        "parameters = [{'n_estimators': [1000, 2000, 3000, 4000, 5000, 6000, 7000, 8000, 9000, 10000]}]\n",
        "grid_search = GridSearchCV(estimator = cboost,\n",
        "                           param_grid = parameters,\n",
        "                           scoring = 'accuracy',\n",
        "                           cv = 10,\n",
        "                           n_jobs = -1)\n",
        "grid_search.fit(X_train, y_train)\n",
        "best_accuracy = grid_search.best_score_\n",
        "best_parameters = grid_search.best_params_\n",
        "print(\"Best Accuracy: {:.2f} %\".format(best_accuracy*100))\n",
        "print(\"Best Parameters:\", best_parameters)"
      ]
    },
    {
      "cell_type": "markdown",
      "metadata": {
        "id": "MrfW9ugqK4WP"
      },
      "source": [
        "##ADABoost"
      ]
    },
    {
      "cell_type": "code",
      "execution_count": 17,
      "metadata": {
        "id": "_kPXUaLnJqFo",
        "colab": {
          "base_uri": "https://localhost:8080/"
        },
        "outputId": "e2668cf4-0c41-404d-a244-cc4c55e1f574"
      },
      "outputs": [
        {
          "output_type": "stream",
          "name": "stdout",
          "text": [
            "Best Accuracy: 70.56 %\n",
            "Best Parameters: {'estimator': RandomForestClassifier(), 'n_estimators': 3000}\n"
          ]
        }
      ],
      "source": [
        "from sklearn.model_selection import GridSearchCV\n",
        "from sklearn.ensemble import AdaBoostClassifier\n",
        "ada = AdaBoostClassifier()\n",
        "\n",
        "parameters = [{'estimator': [RandomForestClassifier(), GradientBoostingClassifier()], 'n_estimators': [1000, 2000, 3000, 4000, 5000, 6000, 7000, 8000, 9000, 10000]}]\n",
        "grid_search = GridSearchCV(estimator = ada,\n",
        "                           param_grid = parameters,\n",
        "                           scoring = 'accuracy',\n",
        "                           cv = 10,\n",
        "                           n_jobs = -1)\n",
        "grid_search.fit(X_train, y_train)\n",
        "best_accuracy = grid_search.best_score_\n",
        "best_parameters = grid_search.best_params_\n",
        "print(\"Best Accuracy: {:.2f} %\".format(best_accuracy*100))\n",
        "print(\"Best Parameters:\", best_parameters)"
      ]
    },
    {
      "cell_type": "code",
      "execution_count": 18,
      "metadata": {
        "id": "854CrKJhNDlI",
        "colab": {
          "base_uri": "https://localhost:8080/"
        },
        "outputId": "a6d8688c-d54c-426f-9d7d-fb7de7a340ed"
      },
      "outputs": [
        {
          "output_type": "stream",
          "name": "stdout",
          "text": [
            "Best Accuracy: 69.31 %\n",
            "Best Parameters: {'estimator': AdaBoostClassifier(estimator=RandomForestClassifier(n_estimators=5000),\n",
            "                   learning_rate=0.01, n_estimators=10000), 'learning_rate': 0.1, 'n_estimators': 100}\n"
          ]
        }
      ],
      "source": [
        "from sklearn.model_selection import GridSearchCV\n",
        "from sklearn.ensemble import RandomForestClassifier\n",
        "ada = AdaBoostClassifier()\n",
        "\n",
        "parameters = [{'estimator': [AdaBoostClassifier(estimator=RandomForestClassifier(n_estimators=5000), n_estimators=10000, learning_rate=0.01)], 'n_estimators': [10, 50, 100, 500, 1000, 2000, 5000], 'learning_rate' : [0.1, 0.01, 0.001]}]\n",
        "grid_search = GridSearchCV(estimator = ada,\n",
        "                           param_grid = parameters,\n",
        "                           scoring = 'accuracy',\n",
        "                           cv = 10,\n",
        "                           n_jobs = -1)\n",
        "grid_search.fit(X_train, y_train)\n",
        "best_accuracy = grid_search.best_score_\n",
        "best_parameters = grid_search.best_params_\n",
        "print(\"Best Accuracy: {:.2f} %\".format(best_accuracy*100))\n",
        "print(\"Best Parameters:\", best_parameters)"
      ]
    },
    {
      "cell_type": "code",
      "execution_count": 19,
      "metadata": {
        "id": "j35kW8K3LXUm",
        "colab": {
          "base_uri": "https://localhost:8080/"
        },
        "outputId": "41bb9d3c-79fe-42a2-9ca3-71f5dca35314"
      },
      "outputs": [
        {
          "output_type": "stream",
          "name": "stdout",
          "text": [
            "Accuracy: 74.08 %\n",
            "Standard Deviation: 9.26 %\n"
          ]
        }
      ],
      "source": [
        "from sklearn.ensemble import AdaBoostClassifier\n",
        "from sklearn.ensemble import GradientBoostingClassifier\n",
        "from sklearn.ensemble import RandomForestClassifier\n",
        "from sklearn.model_selection import cross_val_score\n",
        "\n",
        "\n",
        "ada2 = AdaBoostClassifier(estimator=GradientBoostingClassifier(n_estimators=5000), n_estimators=10000, learning_rate=0.01, random_state=0)\n",
        "accuracies = cross_val_score(estimator = ada2, X = X_train, y = y_train, cv = 6)\n",
        "print(\"Accuracy: {:.2f} %\".format(accuracies.mean()*100))\n",
        "print(\"Standard Deviation: {:.2f} %\".format(accuracies.std()*100))"
      ]
    },
    {
      "cell_type": "code",
      "execution_count": 20,
      "metadata": {
        "id": "Q0kER6e7_do6"
      },
      "outputs": [],
      "source": [
        "# accuracies"
      ]
    },
    {
      "cell_type": "code",
      "execution_count": 21,
      "metadata": {
        "id": "N4ySsNKm02p7"
      },
      "outputs": [],
      "source": [
        "from sklearn.ensemble import AdaBoostClassifier\n",
        "from sklearn.ensemble import GradientBoostingClassifier\n",
        "\n",
        "ada_final = AdaBoostClassifier(estimator=GradientBoostingClassifier(n_estimators=5000), n_estimators=4000, learning_rate=0.01, random_state=0)\n",
        "ada_final.fit(X_train, y_train)\n",
        "y_pred_ada = ada_final.predict(X_test)"
      ]
    },
    {
      "cell_type": "code",
      "execution_count": 22,
      "metadata": {
        "id": "dc2AH8h16s0X",
        "colab": {
          "base_uri": "https://localhost:8080/"
        },
        "outputId": "ad030896-8f6a-4fdb-d002-6e400d878683"
      },
      "outputs": [
        {
          "output_type": "stream",
          "name": "stdout",
          "text": [
            "[[1 0 0 0 0 1]\n",
            " [0 4 0 1 0 0]\n",
            " [0 1 2 0 1 0]\n",
            " [0 0 0 1 0 0]\n",
            " [0 0 0 0 4 0]\n",
            " [2 1 1 0 1 0]]\n",
            "\n",
            "\n",
            "57.14285714285714\n",
            "Precision : 0.47222222222222215\n",
            "Recall : 63.33333333333333\n",
            "F1 Score : 52.75613275613274\n"
          ]
        }
      ],
      "source": [
        "from sklearn.metrics import confusion_matrix, accuracy_score\n",
        "cm = confusion_matrix(y_test, y_pred_ada)\n",
        "\n",
        "print(cm)\n",
        "print(\"\\n\")\n",
        "print(accuracy_score(y_test, y_pred_ada)*100)\n",
        "print(f'Precision : {precision_score(y_test, y_pred_ada, average=\"macro\")}')\n",
        "print(f'Recall : {recall_score(y_test, y_pred_ada, average=\"macro\")*100}')\n",
        "print(f'F1 Score : {f1_score(y_test, y_pred_ada, average=\"macro\")*100}')"
      ]
    },
    {
      "cell_type": "markdown",
      "metadata": {
        "id": "u-qVOiCSO0zy"
      },
      "source": [
        "##PICKLE"
      ]
    },
    {
      "cell_type": "code",
      "execution_count": 23,
      "metadata": {
        "id": "deXtLH-RO2hI"
      },
      "outputs": [],
      "source": [
        "# import pickle\n",
        "\n",
        "# with open('STAI_model_Final_wBA.pkl', 'wb') as f:\n",
        "#     pickle.dump(ada_final, f)"
      ]
    },
    {
      "cell_type": "code",
      "execution_count": 24,
      "metadata": {
        "id": "Kz9tMv9YQWGs"
      },
      "outputs": [],
      "source": [
        "# import pickle\n",
        "\n",
        "# with open('STAI_model_Final_wBA.pkl', 'rb') as f:\n",
        "#     model = pickle.load(f)\n",
        "\n",
        "# y_pred_f = model.predict([[1, 35, 0, 1, 1, 0, 1, 26.7]])\n",
        "# print(y_pred_f)"
      ]
    },
    {
      "cell_type": "code",
      "execution_count": 25,
      "metadata": {
        "id": "tmTiDNEXYbr_"
      },
      "outputs": [],
      "source": [
        "# print(model)"
      ]
    }
  ],
  "metadata": {
    "colab": {
      "provenance": [],
      "gpuType": "T4"
    },
    "kernelspec": {
      "display_name": "Python 3",
      "name": "python3"
    },
    "language_info": {
      "name": "python"
    }
  },
  "nbformat": 4,
  "nbformat_minor": 0
}